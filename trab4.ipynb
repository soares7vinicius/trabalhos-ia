{
 "cells": [
  {
   "cell_type": "markdown",
   "metadata": {},
   "source": [
    "## Trabalho 4 - O problema do Caixeiro Viajante\n",
    "* Criar um programa para resolver este problema usando a metodologia do caixeiro viajante por AGs.\n",
    "* O algoritmo deverá buscar a melhor rota priorizando a minimização da distância percorrida."
   ]
  },
  {
   "cell_type": "code",
   "execution_count": 3,
   "metadata": {},
   "outputs": [
    {
     "name": "stdout",
     "output_type": "stream",
     "text": [
      "\n",
      "\n",
      "Tamanho da população:\n"
     ]
    },
    {
     "data": {
      "application/vnd.jupyter.widget-view+json": {
       "model_id": "b130fd8a47be4281b48352e8e963dcc8",
       "version_major": 2,
       "version_minor": 0
      },
      "text/plain": [
       "interactive(children=(IntSlider(value=1000, description='populacao', max=1000, min=10, step=10), Output()), _d…"
      ]
     },
     "metadata": {},
     "output_type": "display_data"
    },
    {
     "name": "stdout",
     "output_type": "stream",
     "text": [
      "\n",
      "\n",
      "Probabilidade de cruzamento:\n"
     ]
    },
    {
     "data": {
      "application/vnd.jupyter.widget-view+json": {
       "model_id": "d46d5bcbb21441b49d786dc4e287abb8",
       "version_major": 2,
       "version_minor": 0
      },
      "text/plain": [
       "interactive(children=(FloatSlider(value=95.0, description='cruzamento', max=95.0, min=5.0, step=0.5), Output()…"
      ]
     },
     "metadata": {},
     "output_type": "display_data"
    },
    {
     "name": "stdout",
     "output_type": "stream",
     "text": [
      "\n",
      "\n",
      "Probabilidade de mutação:\n"
     ]
    },
    {
     "data": {
      "application/vnd.jupyter.widget-view+json": {
       "model_id": "578ac28bca8b4d0dbe6b3e413d22e9f5",
       "version_major": 2,
       "version_minor": 0
      },
      "text/plain": [
       "interactive(children=(FloatSlider(value=1.0, description='mutacao', max=10.0, min=1.0, step=0.5), Output()), _…"
      ]
     },
     "metadata": {},
     "output_type": "display_data"
    },
    {
     "name": "stdout",
     "output_type": "stream",
     "text": [
      "\n",
      "\n",
      "Quantidade de gerações:\n"
     ]
    },
    {
     "data": {
      "application/vnd.jupyter.widget-view+json": {
       "model_id": "df4d1367994746489328596142231519",
       "version_major": 2,
       "version_minor": 0
      },
      "text/plain": [
       "interactive(children=(IntSlider(value=30, description='geracoes', max=1000, min=10), Output()), _dom_classes=(…"
      ]
     },
     "metadata": {},
     "output_type": "display_data"
    },
    {
     "name": "stdout",
     "output_type": "stream",
     "text": [
      "\n",
      "\n",
      "Método de seleção:\n"
     ]
    },
    {
     "data": {
      "application/vnd.jupyter.widget-view+json": {
       "model_id": "d7e97dc7d74844ddac621201ac03278c",
       "version_major": 2,
       "version_minor": 0
      },
      "text/plain": [
       "interactive(children=(Dropdown(description='selecao', options=('Torneio', 'Roleta'), value='Torneio'), Output(…"
      ]
     },
     "metadata": {},
     "output_type": "display_data"
    },
    {
     "name": "stdout",
     "output_type": "stream",
     "text": [
      "\n",
      "\n",
      "Tamanho do Torneio:\n",
      " *ignorar caso o 'Método de seleção' selecionado seja diferente de 'Torneio'*\n"
     ]
    },
    {
     "data": {
      "application/vnd.jupyter.widget-view+json": {
       "model_id": "fa00f64e08d948848cbaa9d31f21fbb4",
       "version_major": 2,
       "version_minor": 0
      },
      "text/plain": [
       "interactive(children=(IntSlider(value=10, description='tam_torneio', max=50, min=2, step=2), Output()), _dom_c…"
      ]
     },
     "metadata": {},
     "output_type": "display_data"
    },
    {
     "name": "stdout",
     "output_type": "stream",
     "text": [
      "\n",
      "\n",
      "Tamanho do elitismo:\n"
     ]
    },
    {
     "data": {
      "application/vnd.jupyter.widget-view+json": {
       "model_id": "3f5c5366cd0b47bab357021a49c23aaf",
       "version_major": 2,
       "version_minor": 0
      },
      "text/plain": [
       "interactive(children=(IntSlider(value=5, description='elitismo', max=10), Output()), _dom_classes=('widget-int…"
      ]
     },
     "metadata": {},
     "output_type": "display_data"
    },
    {
     "name": "stdout",
     "output_type": "stream",
     "text": [
      "\n",
      "\n",
      "Cidade de Partida:\n"
     ]
    },
    {
     "data": {
      "application/vnd.jupyter.widget-view+json": {
       "model_id": "2e4778e1111f44638f3a0bb7b3b63aa8",
       "version_major": 2,
       "version_minor": 0
      },
      "text/plain": [
       "interactive(children=(Dropdown(description='cidade_de_partida', options=('Uberaba', 'Uberlândia', 'Araxá', 'Pa…"
      ]
     },
     "metadata": {},
     "output_type": "display_data"
    },
    {
     "data": {
      "application/vnd.jupyter.widget-view+json": {
       "model_id": "6c721eeb1ae04f9a84001bb49eee1409",
       "version_major": 2,
       "version_minor": 0
      },
      "text/plain": [
       "interactive(children=(Button(description='Processar algoritmo', style=ButtonStyle()), Output()), _dom_classes=…"
      ]
     },
     "metadata": {},
     "output_type": "display_data"
    }
   ],
   "source": [
    "%matplotlib inline\n",
    "import matplotlib.pyplot as plt\n",
    "\n",
    "import numpy as np\n",
    "import pandas as pd\n",
    "\n",
    "import random\n",
    "from collections import defaultdict\n",
    "\n",
    "from ipywidgets import *\n",
    "import ipywidgets as widgets\n",
    "\n",
    "import xlrd\n",
    "\n",
    "from IPython.display import display, HTML\n",
    "\n",
    "class Individuo():   \n",
    "    \n",
    "    def __init__(self, distancias, dicionario_cidades, geracao=1, **kwargs):\n",
    "        self.distancias = distancias\n",
    "        self.dicionario_cidades = dicionario_cidades        \n",
    "        #Recuperando o idx da cidade de partida\n",
    "        self.idx_cidade_de_partida = list(dicionario_cidades.keys())[list(dicionario_cidades.values()).index(cidade_de_partida.result)]        \n",
    "        if geracao == 1:\n",
    "            self.gera_cromossomo()\n",
    "        self.geracao = geracao\n",
    "        self.aptidao = 0\n",
    "                        \n",
    "    def __repr__(self): # formata representacao do objeto quanto utiliza print/display\n",
    "        return np.array2string(self.cromossomo)\n",
    "    \n",
    "    def gera_cromossomo(self):\n",
    "        \n",
    "        self.cromossomo = np.arange(1,21) # de 1 a 20             \n",
    "        \n",
    "        # remove a cidade escolhida do cromossomo\n",
    "        index_cidade_de_partida = 0\n",
    "        self.cromossomo = np.delete(self.cromossomo, (self.idx_cidade_de_partida-1))\n",
    "        \n",
    "        np.random.shuffle(self.cromossomo)        \n",
    "                \n",
    "    def avaliacao(self):                  \n",
    "        soma_distancias = 0\n",
    "        \n",
    "        # calcula distancias\n",
    "        soma_distancias += calcula_distancia(self.idx_cidade_de_partida, self.cromossomo[0], self.distancias)\n",
    "        for i in range(0,18):        \n",
    "            if i != 18:\n",
    "                soma_distancias += calcula_distancia(self.cromossomo[i], self.cromossomo[i+1], self.distancias)\n",
    "        soma_distancias += calcula_distancia(self.cromossomo[18], self.idx_cidade_de_partida, self.distancias)\n",
    "    \n",
    "        self.aptidao = 1/soma_distancias\n",
    "        \n",
    "    def cruzamento(self, outro_individuo, distancias, dicionario_cidades):\n",
    "        \n",
    "        # o primeiro pai é copiado até o ponto de cruzamento\n",
    "        f1_cromossomo = self.cromossomo[0:10]        \n",
    "        \n",
    "        # o segundo pai é rastreado e se o número ainda não estiver no filho, ele é adicionado\n",
    "        for c in outro_individuo.cromossomo:\n",
    "            if c not in f1_cromossomo:\n",
    "                f1_cromossomo = np.concatenate((f1_cromossomo, [c]))\n",
    "        \n",
    "        f2_cromossomo = outro_individuo.cromossomo[0:10]\n",
    "        for c in self.cromossomo:\n",
    "            if c not in f2_cromossomo:\n",
    "                f2_cromossomo = np.concatenate((f2_cromossomo, [c]))\n",
    "            \n",
    "        filhos = [f1_cromossomo, f2_cromossomo]\n",
    "        \n",
    "        filhos_individuos = [Individuo(distancias, dicionario_cidades, geracao=self.geracao+1),\n",
    "                 Individuo(distancias, dicionario_cidades, geracao=self.geracao+1)]\n",
    "        filhos_individuos[0].cromossomo = filhos[0]\n",
    "        filhos_individuos[1].cromossomo = filhos[1]\n",
    "        \n",
    "        return filhos_individuos \n",
    "    \n",
    "    def mutacao(self, taxa_mutacao):\n",
    "        if random.random() < taxa_mutacao:                                     \n",
    "            idxs = random.sample(range(0,19), 2)\n",
    "            aux = self.cromossomo[idxs[0]]\n",
    "            self.cromossomo[idxs[0]] = self.cromossomo[idxs[1]]\n",
    "            self.cromossomo[idxs[1]] = aux\n",
    "        return self\n",
    "    \n",
    "class AlgoritmoGenetico():\n",
    "    \n",
    "    def __init__(self, tam_populacao, taxa_cruzamento, taxa_mutacao,\n",
    "                qtd_geracoes, selecao, elitismo, distancias, tam_torneio=0, **kwargs):\n",
    "        self.tam_populacao = tam_populacao\n",
    "        self.populacao = np.array([])\n",
    "        self.taxa_cruzamento = taxa_cruzamento\n",
    "        self.taxa_mutacao = taxa_mutacao\n",
    "        self.qtd_geracoes = qtd_geracoes\n",
    "        self.geracao = 0\n",
    "        self.selecao = selecao\n",
    "        self.tam_torneio = tam_torneio\n",
    "        self.elitismo = elitismo\n",
    "        self.lista_solucao = []\n",
    "        self.melhor_solucao = 0\n",
    "        self.distancias = distancias\n",
    "        self.dicionario_cidades = []\n",
    "    \n",
    "    def inicializa_populacao(self):   \n",
    "        lista = []\n",
    "        for i in range(self.tam_populacao):\n",
    "            lista.append(Individuo(self.distancias, self.dicionario_cidades))\n",
    "        self.populacao = np.array(lista)\n",
    "        self.melhor_solucao = self.populacao[0]    \n",
    "        \n",
    "    def ordena_populacao(self):\n",
    "        self.populacao = sorted(self.populacao,\n",
    "                               key =  lambda individuo: individuo.aptidao,\n",
    "                               reverse = True)\n",
    "        self.populacao = np.array(self.populacao)\n",
    "        \n",
    "    def calcula_aptidao(self):\n",
    "        for ind in self.populacao:\n",
    "            ind.avaliacao()\n",
    "    \n",
    "    def melhor_individuo(self, individuo):\n",
    "        if individuo.aptidao > self.melhor_solucao.aptidao:\n",
    "            self.melhor_solucao = individuo\n",
    "    \n",
    "    def soma_aptidoes(self):\n",
    "        soma = 0\n",
    "        for i in self.populacao:\n",
    "            soma += i.aptidao\n",
    "        return soma\n",
    "            \n",
    "    def seleciona_pais(self, soma_aptidoes=0):\n",
    "        '''\n",
    "        retorna um array com o par de pais com base no tipo de selecao\n",
    "        '''\n",
    "        if self.selecao == 'roleta':\n",
    "            r_pais = [random.random() * soma_aptidoes]\n",
    "            while True:\n",
    "                r = random.random() * soma_aptidoes\n",
    "                if r not in r_pais:\n",
    "                    r_pais.append(r)\n",
    "                    break\n",
    "                    \n",
    "            pais = []\n",
    "            for r in r_pais:\n",
    "                pai = -1\n",
    "                i = 0\n",
    "                soma = 0\n",
    "                while i < len(self.populacao) and soma < r:\n",
    "                    soma += self.populacao[i].aptidao\n",
    "                    pai += 1\n",
    "                    i += 1\n",
    "                pais.append(self.populacao[pai])\n",
    "            return pais\n",
    "        \n",
    "        elif self.selecao == 'torneio':\n",
    "            indices_torneio = random.sample(range(0, self.tam_populacao), self.tam_torneio)\n",
    "            torneio = self.populacao[indices_torneio]\n",
    "            torneio = sorted(torneio, key=lambda i: i.aptidao, reverse=True)\n",
    "            return [torneio[0], torneio[1]]\n",
    "        \n",
    "    \n",
    "    def seleciona_elitismo(self):\n",
    "        '''\n",
    "        retorna lista contendo os individuos elitistas\n",
    "        '''\n",
    "        self.ordena_populacao()        \n",
    "        return self.populacao[0:self.elitismo]\n",
    "\n",
    "########## entradas dos parametros ##########\n",
    "\n",
    "print('\\n\\nTamanho da população:')\n",
    "def f(populacao=1000):\n",
    "    return populacao\n",
    "populacao = interactive(f, populacao=(10, 1000, 10))\n",
    "display(populacao)\n",
    "\n",
    "print('\\n\\nProbabilidade de cruzamento:')\n",
    "def f(cruzamento=95.0):\n",
    "    return cruzamento\n",
    "cruzamento = interactive(f, cruzamento=(5.0, 95.0, 0.5))\n",
    "display(cruzamento)\n",
    "\n",
    "print('\\n\\nProbabilidade de mutação:')\n",
    "def f(mutacao=0.1):\n",
    "    return mutacao\n",
    "mutacao = interactive(f, mutacao=(1.0, 10.0, 0.5))\n",
    "display(mutacao)\n",
    "\n",
    "print('\\n\\nQuantidade de gerações:')\n",
    "def f(geracoes=30):\n",
    "    return geracoes\n",
    "geracoes = interactive(f, geracoes=(10, 1000))\n",
    "display(geracoes)\n",
    "\n",
    "print('\\n\\nMétodo de seleção:')\n",
    "def f(selecao):\n",
    "    return selecao\n",
    "selecao = interactive(f, selecao=['Torneio', 'Roleta'])\n",
    "display(selecao)\n",
    "\n",
    "print(\"\"\"\\n\\nTamanho do Torneio:\\n *ignorar caso o 'Método de seleção' selecionado seja diferente de 'Torneio'*\"\"\")\n",
    "def f(tam_torneio=10):\n",
    "    return tam_torneio\n",
    "tam_torneio = interactive(f, tam_torneio=(2, 50, 2))\n",
    "display(tam_torneio)\n",
    "\n",
    "print('\\n\\nTamanho do elitismo:')\n",
    "def f(elitismo=5):\n",
    "    return elitismo\n",
    "elitismo = interactive(f, elitismo=(0, 10))\n",
    "display(elitismo)\n",
    "\n",
    "print('\\n\\nCidade de Partida:')\n",
    "def f(cidade_de_partida):\n",
    "    return cidade_de_partida\n",
    "cidade_de_partida = interactive(f, cidade_de_partida=['Uberaba','Uberlândia','Araxá','Patos de Minas','Patrocínio','Monte Carmelo','Araguari','Ituiutaba','Prata','Frutal','Conceição das Alagoas','Campo Florido','Perdizes','Santa Juliana','Nova Ponte','Delta','Água Comprida','Sacramento','Conquista','Comendador Gomes'])\n",
    "display(cidade_de_partida)\n",
    "\n",
    "def xlread(arq_xls):\n",
    "\n",
    "    # le o arquivo xlsx\n",
    "    xlsx = xlrd.open_workbook(arq_xls)\n",
    "    sheet_names = xlsx.sheet_names()\n",
    "    sheet = xlsx.sheet_by_name(sheet_names[0])                 \n",
    "    \n",
    "    # monta a matrix com as distancias de todas as cidades\n",
    "    distancias = []\n",
    "    for nrow in range(1,sheet.nrows):\n",
    "        row = []\n",
    "        for ncol in range(0,sheet.ncols):\n",
    "            row.append(sheet.cell_value(nrow, ncol)) \n",
    "        distancias.append(row)          \n",
    "    distancias = np.array(distancias)    \n",
    "        \n",
    "    return distancias    \n",
    "\n",
    "def calcula_distancia(cidade1, cidade2, distancias):     \n",
    "    '''\n",
    "    cidade1: indice da cidade retornada do dicionario de cidade - 1 para equivaler ao indice da tabela\n",
    "    cidade2: indice da cidade retornada - como retorna direto do dicionario e não pode-se considerar a coluna 1, não precisa alterar\n",
    "    '''    \n",
    "    distancia = 0\n",
    "    distancia = distancias[cidade1-1][cidade2]             \n",
    "    return float(distancia)\n",
    "    \n",
    "########## processamento ##########\n",
    "def processar():        \n",
    "    \n",
    "    alg = AlgoritmoGenetico(\n",
    "        tam_populacao = populacao.result,\n",
    "        taxa_cruzamento = cruzamento.result/100.0,\n",
    "        taxa_mutacao = mutacao.result/100.0,\n",
    "        qtd_geracoes = geracoes.result,\n",
    "        selecao = selecao.result.lower(),\n",
    "        elitismo = elitismo.result,\n",
    "        distancias = xlread(\"distances.xlsx\"),\n",
    "        tam_torneio = tam_torneio.result)\n",
    "    \n",
    "    ## inicio ##\n",
    "    \n",
    "    # pega o nome de todas as cidades existentes na planilha\n",
    "    cidades = []\n",
    "    for i in range(0,len(alg.distancias),1):\n",
    "        cidades.append(alg.distancias[i][0])\n",
    "    \n",
    "    # monta um dicionario com os nomes das cidades {1: 'Uberaba'...}\n",
    "    keys = np.arange(1,21)    \n",
    "    dicionario_cidades = {k:c for k, c in zip(keys, cidades)} \n",
    "    alg.dicionario_cidades = dicionario_cidades\n",
    "    \n",
    "    alg.inicializa_populacao()\n",
    "    \n",
    "    graf_aptidoes = []\n",
    "    graf_geracoes = []    \n",
    "    \n",
    "    for g in range(0, alg.qtd_geracoes):\n",
    "        graf_geracoes.append(g)        \n",
    "        \n",
    "        alg.calcula_aptidao()\n",
    "        alg.ordena_populacao()\n",
    "        \n",
    "        nova_popu = []\n",
    "        soma_apt = alg.soma_aptidoes() if alg.selecao == 'roleta' else 0\n",
    "        for c in range(0, alg.tam_populacao, 2):\n",
    "            pais = alg.seleciona_pais(soma_apt)            \n",
    "            if random.random() <= alg.taxa_cruzamento:\n",
    "                filhos = pais[0].cruzamento(pais[1], alg.distancias, alg.dicionario_cidades)\n",
    "                for filho in filhos:                                        \n",
    "                    nova_popu.append(filho.mutacao(alg.taxa_mutacao))\n",
    "            else:\n",
    "                for pai in pais:\n",
    "                    nova_popu.append(pai)\n",
    "                            \n",
    "        elitistas = alg.seleciona_elitismo()                \n",
    "        indices = random.sample(range(0, alg.tam_populacao), len(elitistas)) # escolhe de 0 a 50, um número\n",
    "\n",
    "        for idx in range(0, len(elitistas)):\n",
    "            alg.populacao[indices[idx]] = elitistas[idx]\n",
    "                \n",
    "        alg.populacao = np.array(nova_popu)\n",
    "        \n",
    "        alg.calcula_aptidao()        \n",
    "        alg.ordena_populacao()\n",
    "        alg.lista_solucao.append(alg.populacao[0])\n",
    "        alg.melhor_individuo(alg.populacao[0])\n",
    "        \n",
    "        graf_aptidoes.append(1/alg.populacao[0].aptidao)        \n",
    "          \n",
    "    string = \"<h4><strong>Geração da melhor solução:</strong> {:}</h4>\".format(alg.melhor_solucao.geracao)\n",
    "    display(HTML(string))\n",
    "    \n",
    "    string = \"<h4><strong>Melhor solução:</strong></h4>\"\n",
    "    display(HTML(string))\n",
    "    \n",
    "    print('{0}'.format(dicionario_cidades[list(dicionario_cidades.keys())[list(dicionario_cidades.values()).index(cidade_de_partida.result)]]))\n",
    "    for i in alg.melhor_solucao.cromossomo:\n",
    "        print('{0}'.format(dicionario_cidades[i]))\n",
    "    print('{0}'.format(dicionario_cidades[list(dicionario_cidades.keys())[list(dicionario_cidades.values()).index(cidade_de_partida.result)]]))\n",
    "    \n",
    "    string = \"<h4><strong>Distância total:</strong> {:}</h4>\".format(1/alg.melhor_solucao.aptidao)\n",
    "    display(HTML(string))\n",
    "    \n",
    "    N = 1000\n",
    "    random_x = np.random.randn(N)\n",
    "    random_y = np.random.randn(N)\n",
    "    \n",
    "    l = plt.plot(graf_geracoes, graf_aptidoes, 'ro')\n",
    "    plt.setp(l, markersize=15)\n",
    "    plt.setp(l, markerfacecolor='C0')\n",
    "\n",
    "    string = \"<h4><strong>Gráfico das aptidões:</strong></h4>\"\n",
    "    display(HTML(string))    \n",
    "    plt.show()\n",
    "    \n",
    "widgets.interact_manual.opts['manual_name'] = 'Processar algoritmo' # muda texto do botao\n",
    "interact_manual(processar); # metodo a executar quando pressionar o botao"
   ]
  },
  {
   "cell_type": "code",
   "execution_count": null,
   "metadata": {},
   "outputs": [],
   "source": []
  }
 ],
 "metadata": {
  "kernelspec": {
   "display_name": "Python 3",
   "language": "python",
   "name": "python3"
  },
  "language_info": {
   "codemirror_mode": {
    "name": "ipython",
    "version": 3
   },
   "file_extension": ".py",
   "mimetype": "text/x-python",
   "name": "python",
   "nbconvert_exporter": "python",
   "pygments_lexer": "ipython3",
   "version": "3.6.8"
  }
 },
 "nbformat": 4,
 "nbformat_minor": 2
}
