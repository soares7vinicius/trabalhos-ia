{
 "cells": [
  {
   "cell_type": "markdown",
   "metadata": {},
   "source": [
    "## RBF para reconhecimento de padrão:"
   ]
  },
  {
   "cell_type": "code",
   "execution_count": 17,
   "metadata": {},
   "outputs": [
    {
     "name": "stdout",
     "output_type": "stream",
     "text": [
      "\n",
      "\n",
      "Taxa de aprendizagem:\n"
     ]
    },
    {
     "data": {
      "application/vnd.jupyter.widget-view+json": {
       "model_id": "12594190d85d49bc822a11c986d6a44b",
       "version_major": 2,
       "version_minor": 0
      },
      "text/plain": [
       "FloatSlider(value=0.01, continuous_update=False, max=1.0, min=0.01, readout_format='.3f', step=0.01)"
      ]
     },
     "metadata": {},
     "output_type": "display_data"
    },
    {
     "name": "stdout",
     "output_type": "stream",
     "text": [
      "\n",
      "\n",
      "Quantidade de neurônios da camada intermediária:\n"
     ]
    },
    {
     "data": {
      "application/vnd.jupyter.widget-view+json": {
       "model_id": "743427aa2874484b8e539d4c1bc1cf6b",
       "version_major": 2,
       "version_minor": 0
      },
      "text/plain": [
       "IntSlider(value=5, continuous_update=False, min=1)"
      ]
     },
     "metadata": {},
     "output_type": "display_data"
    },
    {
     "name": "stdout",
     "output_type": "stream",
     "text": [
      "\n",
      "\n",
      "Erro tolerado:\n"
     ]
    },
    {
     "data": {
      "application/vnd.jupyter.widget-view+json": {
       "model_id": "647c61c72502407cbaf928f18fb17428",
       "version_major": 2,
       "version_minor": 0
      },
      "text/plain": [
       "FloatSlider(value=0.06, continuous_update=False, max=1.0, readout_format='.5f', step=0.001, style=SliderStyle(…"
      ]
     },
     "metadata": {},
     "output_type": "display_data"
    },
    {
     "data": {
      "application/vnd.jupyter.widget-view+json": {
       "model_id": "68f6990e63794f45a29c4ce477f26b17",
       "version_major": 2,
       "version_minor": 0
      },
      "text/plain": [
       "interactive(children=(Button(description='Treinar a rede', style=ButtonStyle()), Output()), _dom_classes=('wid…"
      ]
     },
     "metadata": {},
     "output_type": "display_data"
    }
   ],
   "source": [
    "%matplotlib inline\n",
    "import matplotlib.pyplot as plt\n",
    "from mpl_toolkits.mplot3d import Axes3D\n",
    "from matplotlib import cm\n",
    "from matplotlib.ticker import LinearLocator, FormatStrFormatter, LogLocator\n",
    "\n",
    "import numpy as np\n",
    "import pandas as pd\n",
    "import os\n",
    "\n",
    "import random\n",
    "from math import cos, tanh\n",
    "from time import sleep\n",
    "\n",
    "from ipywidgets import *\n",
    "import ipywidgets as widgets\n",
    "import re\n",
    "\n",
    "from IPython.display import display, HTML\n",
    "\n",
    "########## entradas dos parametros ##########\n",
    "style = {'description_width': 'initial'}\n",
    "\n",
    "print('\\n\\nTaxa de aprendizagem:')\n",
    "taxa_aprendizagem = widgets.FloatSlider(\n",
    "    value=0.01,\n",
    "    min=0.01,\n",
    "    max=1,\n",
    "    step=0.01,\n",
    "    disabled=False,\n",
    "    continuous_update=False,\n",
    "    orientation='horizontal',\n",
    "    readout=True,\n",
    "    readout_format='.3f',\n",
    ")\n",
    "display(taxa_aprendizagem)\n",
    "\n",
    "print('\\n\\nQuantidade de neurônios da camada intermediária:')\n",
    "qnt_neuronios = widgets.IntSlider(\n",
    "    value=5,\n",
    "    min=1,\n",
    "    max=100,\n",
    "    step=1,\n",
    "    disabled=False,\n",
    "    continuous_update=False,\n",
    "    orientation='horizontal',\n",
    "    readout=True,\n",
    "    readout_format='d'\n",
    ")\n",
    "display(qnt_neuronios)\n",
    "\n",
    "print('\\n\\nErro tolerado:')\n",
    "erro = widgets.FloatSlider(\n",
    "    value=0.06,min=0,max=1,step=0.001,\n",
    "    continuous_update=False,\n",
    "    readout=True, style=style,\n",
    "    readout_format='.5f',\n",
    ")\n",
    "display(erro)\n",
    "\n",
    "\n",
    "class RBF():\n",
    "    def __init__(self, conjunto_treinamento, targets_treinamento, taxa_aprendizagem, parada, ciclos_max, \n",
    "                 erro_tolerado, qnt_neuronios, **kwargs):\n",
    "        self.numero_entradas = 256 #tamanho da imagem\n",
    "        self.numero_saidas = 16 #0-9\n",
    "        self.conjunto_treinamento = np.array(conjunto_treinamento)\n",
    "        self.targets_treinamento = np.array(targets_treinamento)\n",
    "        self.taxa_aprendizagem = taxa_aprendizagem\n",
    "        self.ciclos_treinamento = 0\n",
    "        self.ciclos_max = ciclos_max #Caso seja realizado treinamento por ciclos\n",
    "        self.parada = parada #condições de parada\n",
    "        self.qnt_neuronios_camada_intermediaria = qnt_neuronios\n",
    "        self.erro_tolerado = erro_tolerado\n",
    "        self.pesos_vij = self.__inicializa_pesos_camada_intermediaria__() #Inicializa pesos da camada intermediária\n",
    "        self.pesos_wij = self.__inicializa_pesos_camada_saida__() #Inicializa pesos da camada de saída\n",
    "        self.bias_saida = np.array([random.uniform(-0.5,0.5) for i in range(self.numero_saidas)]) #Inicializa os bias da camada de\n",
    "        self.erro = 0    \n",
    "   \n",
    "    def __inicializa_pesos_camada_intermediaria__(self):\n",
    "        pesos_vij = []\n",
    "        for i in range(self.qnt_neuronios_camada_intermediaria):\n",
    "            pesos_vij.append(self.conjunto_treinamento[i])\n",
    "        return np.array(pesos_vij)\n",
    "    \n",
    "    def __inicializa_pesos_camada_saida__(self):\n",
    "        pesos_wij = []\n",
    "        #nxk onde n é o número de neurônios da camada intermediária e k é o número de saídas\n",
    "        for i in range(self.qnt_neuronios_camada_intermediaria):\n",
    "            peso_aux = []\n",
    "            for i in range(self.numero_saidas):\n",
    "                peso_aux.append(random.uniform(-0.5,0.5))\n",
    "            pesos_wij.append(peso_aux)\n",
    "            \n",
    "        return np.array(pesos_wij)\n",
    "    \n",
    "    \n",
    "    def treinamento(self):\n",
    "        #Definir as amostras de treinamento\n",
    "        #Definir o array de pesos\n",
    "        \n",
    "        #######Etapa 1 do treinamento\n",
    "        print(np.sum(np.power((self.pesos_vij[0] - self.conjunto_treinamento[1]),2)))\n",
    "        calculo = np.power(np.sum(np.power((self.pesos_vij[0] - self.conjunto_treinamento[1]),2)), 0.5)\n",
    "        print(calculo)\n",
    "        treinada = False\n",
    "        #Inicializando array de amostras\n",
    "        amostras = []\n",
    "        amostras_anterior = []\n",
    "        ciclo = 0\n",
    "        #Inicializando a lista de amostras\n",
    "        for i in range(self.qnt_neuronios_camada_intermediaria):\n",
    "            amostras.append([])\n",
    "        \n",
    "        #Passo 3\n",
    "        while not treinada:\n",
    "            #Passo 3.1\n",
    "            for entrada in self.conjunto_treinamento:\n",
    "                distancias = []\n",
    "                for peso_vij in self.pesos_vij:\n",
    "                    distancia = np.power(np.sum(np.power((peso_vij - entrada),2)), 0.5)\n",
    "                    distancias.append(distancia)\n",
    "                menor_distancia = np.amin(distancias)\n",
    "                j = distancias.index(menor_distancia)\n",
    "                #i, = np.where(distancias == menor_distancia)\n",
    "                amostras[j].append(entrada)\n",
    "                \n",
    "            #Passo 3.2\n",
    "            for i in range(len(self.pesos_vij)):\n",
    "                for j in range(len(amostras[i])):\n",
    "                    if j == 0:\n",
    "                        aux_somatorio = amostras[i][j]\n",
    "                    else: \n",
    "                        aux_somatorio += amostras[i][j]\n",
    "                \n",
    "                self.pesos_vij[i] = aux_somatorio / len(amostras[i])\n",
    "            if amostras == amostras_anterior:\n",
    "                treinada = True\n",
    "            else:\n",
    "                amostras_anterior = amostras\n",
    "        \n",
    "        #Passo 4\n",
    "        variancias = []\n",
    "        for i in range(len(self.pesos_vij)):\n",
    "            variancia = 0\n",
    "            for j in range(len(amostras[i])):\n",
    "                variancia = np.sum(np.power((amostras[i][j] - self. pesos_vij), 2))\n",
    "            variancias.append(variancia / len(amostras[i]))\n",
    "        ####### Fim da etapa 1 do treinamento\n",
    "        \n",
    "        #Etapa 2 do treinamento\n",
    "        #1 Obtendo o conjunto de entradas da camada de saída (Já obtido na criação da classe)\n",
    "        #2 Obter o vetor de saídas desejadas (já obtido na criação da classe)\n",
    "        #3 inicializar os pesos (já obtido na criação da classe)\n",
    "        #4 Especificar taxa de aprendizageme  erro (já obtidos na criação da classe)\n",
    "        #5 Calcular entradas para a camada de saída\n",
    "        novo_conjunto_entradas = []\n",
    "        for entrada in self.conjunto_treinamento:\n",
    "            nova_entrada = []\n",
    "            for i in range(len(self.pesos_vij)):\n",
    "                exp = np.sum(np.power((entrada - self.pesos_vij[i]), 2))/(2 * variancias[i])\n",
    "                nova_entrada.append(np.exp(-exp))\n",
    "            novo_conjunto_entradas.append(nova_entrada)\n",
    "        novo_conjunto_entradas = np.array(novo_conjunto_entradas)\n",
    "        \n",
    "        treinada = False\n",
    "        while not treinada:\n",
    "            print('fim')\n",
    "            return\n",
    "        \n",
    "       \n",
    "            \n",
    "            \n",
    "                \n",
    "                    \n",
    "\n",
    "##### Lendo o arquivo de entradas da rede digitostreinamento900.txt #####\n",
    "def get_inputs_from_txt():\n",
    "    inputs = []\n",
    "    file = open('digitos/digitostreinamento900.txt', 'r')\n",
    "    for line in file :\n",
    "        line = line.split(\" \")\n",
    "        ipt = []\n",
    "        for element in line:\n",
    "            if element != \"\":\n",
    "                ipt.append(float(element))\n",
    "        inputs.append(ipt)\n",
    "    file.close()\n",
    "    return np.array(inputs)\n",
    "##############################################\n",
    "\n",
    "##### Lendo os arquivos 450 arquivos de teste da rede#####\n",
    "def get_inputs_test_from_txt():\n",
    "    path_to_folder = 'C:\\\\Users\\\\Marco Antônio\\\\Documents\\\\IA\\\\Trabalhos\\\\trabalhos-ia\\\\trab10\\\\teste'\n",
    "    inputs = []\n",
    "    for i in os.listdir(path_to_folder):\n",
    "        file = open(path_to_folder + '\\\\' + i, 'r')\n",
    "        for line in file :\n",
    "            line = line.split(\" \")\n",
    "            ipt = []\n",
    "            for element in line:\n",
    "                if element != \"\":\n",
    "                    ipt.append(float(element))\n",
    "            inputs.append(ipt)\n",
    "        file.close()\n",
    "    return np.array(inputs)\n",
    "##############################################\n",
    "\n",
    "def get_targets():\n",
    "    targets_aux = pd.read_csv('targets.csv').values\n",
    "    targets = []\n",
    "    for i in range(90):\n",
    "        for j in range(10):\n",
    "            targets.append(list(targets_aux[j]))\n",
    "    return np.array(targets)\n",
    "\n",
    "\n",
    "def processar_RBF():\n",
    "    conjunto_treinamento = get_inputs_from_txt()\n",
    "    targets_treinamento = get_targets()\n",
    "    rbf = RBF(\n",
    "        conjunto_treinamento = conjunto_treinamento, \n",
    "        targets_treinamento = targets_treinamento, \n",
    "        taxa_aprendizagem = 0.01,\n",
    "        parada = 'erro',\n",
    "        ciclos_max = 0,\n",
    "        erro_tolerado = erro.value,\n",
    "        qnt_neuronios = qnt_neuronios.value\n",
    "    )\n",
    "    \n",
    "    rbf.treinamento()\n",
    "    \n",
    "widgets.interact_manual.opts['manual_name'] = 'Treinar a rede' # muda texto do botao\n",
    "interact_manual(processar_RBF); # metodo a executar quando pressionar o botao"
   ]
  },
  {
   "cell_type": "code",
   "execution_count": 23,
   "metadata": {},
   "outputs": [
    {
     "name": "stdout",
     "output_type": "stream",
     "text": [
      "True\n"
     ]
    }
   ],
   "source": [
    "import numpy as np\n",
    "\n",
    "test = [[1,2,3],[2,5,6]]\n",
    "test1 = [[1,2,3],[2,5,6]]\n",
    "np.array(test)\n",
    "np.array(test1)\n",
    "print(test == test1)"
   ]
  },
  {
   "cell_type": "code",
   "execution_count": null,
   "metadata": {},
   "outputs": [],
   "source": []
  }
 ],
 "metadata": {
  "kernelspec": {
   "display_name": "Python 3",
   "language": "python",
   "name": "python3"
  },
  "language_info": {
   "codemirror_mode": {
    "name": "ipython",
    "version": 3
   },
   "file_extension": ".py",
   "mimetype": "text/x-python",
   "name": "python",
   "nbconvert_exporter": "python",
   "pygments_lexer": "ipython3",
   "version": "3.7.3"
  }
 },
 "nbformat": 4,
 "nbformat_minor": 2
}
