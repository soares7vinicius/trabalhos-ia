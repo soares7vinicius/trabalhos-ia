{
 "cells": [
  {
   "cell_type": "markdown",
   "metadata": {},
   "source": [
    "# Trabalho 7\n",
    "## Rede Madaline para reconhecimento de dígitos\n",
    "<img src=\"digitos.png\" alt=\"digitos\" width=\"250\"/>"
   ]
  },
  {
   "cell_type": "code",
   "execution_count": 1,
   "metadata": {},
   "outputs": [
    {
     "data": {
      "application/vnd.jupyter.widget-view+json": {
       "model_id": "d1a5cd3d73a145f18402cb60b5eb221f",
       "version_major": 2,
       "version_minor": 0
      },
      "text/plain": [
       "FloatSlider(value=0.5, continuous_update=False, description='Taxa de aprendizagem:', max=1.0, min=0.001, step=…"
      ]
     },
     "metadata": {},
     "output_type": "display_data"
    },
    {
     "data": {
      "application/vnd.jupyter.widget-view+json": {
       "model_id": "e8d85166b6e94c6ca379759995989599",
       "version_major": 2,
       "version_minor": 0
      },
      "text/plain": [
       "RadioButtons(description='Critério de parada:', options=('Erro', 'Ciclos'), style=DescriptionStyle(description…"
      ]
     },
     "metadata": {},
     "output_type": "display_data"
    },
    {
     "data": {
      "application/vnd.jupyter.widget-view+json": {
       "model_id": "7006415bf99649dbabe4d30615f3ef8f",
       "version_major": 2,
       "version_minor": 0
      },
      "text/plain": [
       "IntSlider(value=10, continuous_update=False, description='Número de ciclos:', max=50, min=1, style=SliderStyle…"
      ]
     },
     "metadata": {},
     "output_type": "display_data"
    },
    {
     "data": {
      "application/vnd.jupyter.widget-view+json": {
       "model_id": "1eaee66d8cc7412185bd525ebe5449fc",
       "version_major": 2,
       "version_minor": 0
      },
      "text/plain": [
       "FloatSlider(value=0.1, continuous_update=False, description='Erro tolerado:', step=0.001, style=SliderStyle(de…"
      ]
     },
     "metadata": {},
     "output_type": "display_data"
    },
    {
     "data": {
      "application/vnd.jupyter.widget-view+json": {
       "model_id": "8bd8ae27e3f247c7aa9f6150c3002ab7",
       "version_major": 2,
       "version_minor": 0
      },
      "text/plain": [
       "interactive(children=(Button(description='Treinar', style=ButtonStyle()), Output()), _dom_classes=('widget-int…"
      ]
     },
     "metadata": {},
     "output_type": "display_data"
    }
   ],
   "source": [
    "import os\n",
    "import random\n",
    "from collections import defaultdict\n",
    "\n",
    "%matplotlib inline\n",
    "import matplotlib.pyplot as plt\n",
    "\n",
    "import numpy as np\n",
    "import pandas as pd\n",
    "\n",
    "from ipywidgets import *\n",
    "import ipywidgets as widgets\n",
    "\n",
    "from IPython.display import display, HTML\n",
    "\n",
    "########## entradas dos parametros ##########\n",
    "style = {'description_width': 'initial'}\n",
    "\n",
    "taxa_aprendizagem = widgets.FloatSlider(\n",
    "    value=0.5,min=0.001,max=1,step=0.001,\n",
    "    description='Taxa de aprendizagem:',\n",
    "    continuous_update=False,\n",
    "    readout=True, style=style\n",
    ")\n",
    "display(taxa_aprendizagem)\n",
    "\n",
    "parada = widgets.RadioButtons(\n",
    "    options=['Erro', 'Ciclos'],\n",
    "    description='Critério de parada:',\n",
    "    disabled=False, style=style\n",
    ")\n",
    "display(parada)\n",
    "\n",
    "ciclos = widgets.IntSlider(\n",
    "    value=10,min=1,max=50,step=1,\n",
    "    description='Número de ciclos:',\n",
    "    continuous_update=False,\n",
    "    readout=True, style=style\n",
    ")\n",
    "display(ciclos)\n",
    "\n",
    "erro = widgets.FloatSlider(\n",
    "    value=0.1,min=0,max=100,step=0.001,\n",
    "    description='Erro tolerado:',\n",
    "    continuous_update=False,\n",
    "    readout=True, style=style\n",
    ")\n",
    "display(erro)\n",
    "##############################################\n",
    "\n",
    "##### conversao das letras em inputs.csv #####\n",
    "def inputs_to_csv():\n",
    "    #os.getcwd()\n",
    "    path = 'trab7/letras'\n",
    "    files = [f for f in os.listdir(path) if not f.startswith('.')]\n",
    "    files.sort()\n",
    "    letters = []\n",
    "    for file_name in files:\n",
    "        file = pd.read_csv(\"{}/{}\".format(path, file_name), delim_whitespace=True, header=None)\n",
    "        letters.append(file.values.flatten())\n",
    "\n",
    "    row_names = [f[0:2] for f in files]\n",
    "    pd.DataFrame(np.array(letters)).to_csv(\"inputs.csv\", header=None, index=None) \n",
    "##############################################\n",
    "\n",
    "class Madaline():\n",
    "    def __init__(self, conjunto_entradas, targets, taxa_aprendizagem, parada, ciclos_max, \n",
    "                 erro_tolerado, classes, **kwargs):\n",
    "        \n",
    "        self.numero_entradas = len(conjunto_entradas[0])\n",
    "        self.conjunto_entradas = np.array(conjunto_entradas)\n",
    "        self.targets = np.array(targets)\n",
    "        self.classes = np.array(classes)\n",
    "        self.taxa_aprendizagem = taxa_aprendizagem\n",
    "        self.ciclos = 0\n",
    "        self.ciclos_max = ciclos_max\n",
    "        self.parada = parada\n",
    "        self.erro_tolerado = erro_tolerado\n",
    "        self.pesos = self.__inicializa_pesos()\n",
    "        self.bias = np.array([random.uniform(-0.5,0.5) for saida in targets[0]])\n",
    "        self.erro = 0\n",
    "        \n",
    "    def __inicializa_pesos(self):\n",
    "        pesos = []\n",
    "        for i in range(self.numero_entradas):\n",
    "            pesos_entrada = []\n",
    "            for j in range(len(self.targets[0])):\n",
    "                pesos_entrada.append(random.uniform(-0.5,0.5))\n",
    "            pesos.append(pesos_entrada)\n",
    "        return np.array(pesos)\n",
    "    \n",
    "    def __f_ativacao(self, yin):\n",
    "        out = np.copy(yin)\n",
    "        out[out >= 0] = int(1)\n",
    "        out[out < 0] = int(0)\n",
    "        return out\n",
    "    \n",
    "    def treinamento(self):\n",
    "        # x = [21,63], w = [63,7], b = [1,7], t = [21,7], y =x*w = [21,7]\n",
    "        erros = []\n",
    "        treinada = False\n",
    "        self.ciclos = 1;\n",
    "        while not treinada:\n",
    "            self.erro = 0   \n",
    "            yin = self.conjunto_entradas @ self.pesos + self.bias\n",
    "            y = self.__f_ativacao(yin)\n",
    "            self.erro = 0.5 * np.sum(np.power((self.targets - y), 2))\n",
    "            # self.erro = self.erro_tolerado * np.sum(np.power((self.targets - y), 2))\n",
    "            self.pesos = self.pesos + (self.taxa_aprendizagem * ((self.targets - y).T @ self.conjunto_entradas)).T\n",
    "            self.bias = self.bias + (self.taxa_aprendizagem * np.sum((self.targets - y), axis=0))\n",
    "            \n",
    "            erros.append(self.erro)\n",
    "            if (self.parada == 'ciclos' and self.ciclos >= self.ciclos_max) \\\n",
    "                or (self.parada == 'erro' and self.erro <= self.erro_tolerado):\n",
    "                treinada = True\n",
    "            else:\n",
    "                self.ciclos += 1\n",
    "        return list(range(1, self.ciclos+1)), erros\n",
    "\n",
    "def processar():\n",
    "    #display(os.getcwd())\n",
    "    conjunto_entradas = pd.read_csv('inputs.csv', header=None).values\n",
    "    targets_dataframe = pd.read_csv('targets.csv')\n",
    "    targets = targets_dataframe.values\n",
    "    classes = list(targets_dataframe.columns)\n",
    "    \n",
    "    madaline = Madaline(\n",
    "        conjunto_entradas = conjunto_entradas, \n",
    "        targets = targets, \n",
    "        taxa_aprendizagem = taxa_aprendizagem.value,\n",
    "        parada = parada.value.lower(),\n",
    "        ciclos_max = ciclos.value,\n",
    "        erro_tolerado = erro.value,\n",
    "        classes = classes\n",
    "    )\n",
    "    \n",
    "    lista_ciclos, lista_erros = madaline.treinamento()\n",
    "    \n",
    "    # salvando pesos e biases para ser possivel acessa-los na proxima celula\n",
    "    pd.DataFrame(np.array(madaline.pesos)).to_csv(\"~pesos.csv\", header=None, index=None) \n",
    "    pd.DataFrame(np.array(madaline.bias)).to_csv(\"~biases.csv\", header=None, index=None) \n",
    "    \n",
    "    ####### plota grafico #######\n",
    "    plt.rcParams[\"figure.figsize\"] = [10,6]\n",
    "    plt.plot(lista_ciclos, lista_erros, 'r', label=\"Erro\", marker='o', scalex=True)\n",
    "    plt.style.use('ggplot')\n",
    "    plt.title('Erro x Ciclo')\n",
    "    plt.xlabel('Ciclo')\n",
    "    plt.ylabel('Erro')\n",
    "    for x,y in zip(lista_ciclos, lista_erros):\n",
    "        plt.annotate(s='{:3.2f}'.format(y), xy=(x+0.1,y+0.1))\n",
    "    plt.legend()\n",
    "    plt.show()\n",
    "    #############################\n",
    "    \n",
    "\n",
    "\n",
    "widgets.interact_manual.opts['manual_name'] = 'Treinar' # muda texto do botao\n",
    "interact_manual(processar); # metodo a executar quando pressionar o botao"
   ]
  },
  {
   "cell_type": "code",
   "execution_count": 2,
   "metadata": {},
   "outputs": [
    {
     "data": {
      "text/html": [
       "<style>\n",
       "textarea\n",
       "{\n",
       "font-family: monospace;\n",
       "}\n",
       "</style>"
      ],
      "text/plain": [
       "<IPython.core.display.HTML object>"
      ]
     },
     "metadata": {},
     "output_type": "display_data"
    }
   ],
   "source": [
    "%%html\n",
    "<style>\n",
    "textarea\n",
    "{\n",
    "font-family: monospace;\n",
    "}\n",
    "</style>"
   ]
  },
  {
   "cell_type": "code",
   "execution_count": 3,
   "metadata": {},
   "outputs": [
    {
     "data": {
      "application/vnd.jupyter.widget-view+json": {
       "model_id": "6a1772658624434aa08378e66d8def22",
       "version_major": 2,
       "version_minor": 0
      },
      "text/plain": [
       "Dropdown(description='Letra:', options=('A1', 'A2', 'A3', 'B1', 'B2', 'B3', 'C1', 'C2', 'C3', 'D1', 'D2', 'D3'…"
      ]
     },
     "metadata": {},
     "output_type": "display_data"
    },
    {
     "data": {
      "application/vnd.jupyter.widget-view+json": {
       "model_id": "c96fbdceb0aa43fba3517161c6ad4f37",
       "version_major": 2,
       "version_minor": 0
      },
      "text/plain": [
       "Textarea(value='..##...\\n...#...\\n...#...\\n..#.#..\\n..#.#..\\n.#####.\\n.#...#.\\n.#...#.\\n###.###\\n', descriptio…"
      ]
     },
     "metadata": {},
     "output_type": "display_data"
    },
    {
     "data": {
      "application/vnd.jupyter.widget-view+json": {
       "model_id": "44ce82f24adb416ea97ab25784fa6eda",
       "version_major": 2,
       "version_minor": 0
      },
      "text/plain": [
       "interactive(children=(Button(description='Testar', style=ButtonStyle()), Output()), _dom_classes=('widget-inte…"
      ]
     },
     "metadata": {},
     "output_type": "display_data"
    }
   ],
   "source": [
    "letras_df = pd.read_csv('inputs.csv', header=None)\n",
    "letras = letras_df.values\n",
    "\n",
    "targets_dataframe = pd.read_csv('targets.csv')\n",
    "targets = targets_dataframe.values\n",
    "\n",
    "classes = np.array(targets_dataframe.columns)\n",
    "\n",
    "letras_nome = ['A1', 'A2', 'A3',\n",
    "             'B1', 'B2', 'B3',\n",
    "             'C1', 'C2', 'C3',\n",
    "             'D1', 'D2', 'D3',\n",
    "             'E1', 'E2', 'E3',\n",
    "             'J1', 'J2', 'J3',\n",
    "             'K1', 'K2', 'K3']\n",
    "\n",
    "def letras_to_char_array():\n",
    "    letras_area = []\n",
    "    for letra in letras:\n",
    "        l = np.copy(letra)\n",
    "        l = np.array(list(map(str, l)))\n",
    "        l[l == '0'] = '.'\n",
    "        l[l == '1'] = '#'\n",
    "        letras_area.append(l.reshape(9,7))\n",
    "    return letras_area\n",
    "\n",
    "def char_array_to_str(letra):\n",
    "    s = ''\n",
    "    for linha in letra:\n",
    "        for char in linha:\n",
    "            s += char\n",
    "        s += '\\n'\n",
    "    return s\n",
    "\n",
    "def str_to_array(letra):\n",
    "    ar = []\n",
    "    for c in letra:\n",
    "        if c == '.':\n",
    "            ar.append(0)\n",
    "        elif c == '#':\n",
    "            ar.append(1)\n",
    "    return np.array(ar)\n",
    "\n",
    "letras_char = letras_to_char_array()\n",
    "\n",
    "##################################\n",
    "letra = widgets.Dropdown(\n",
    "    options=letras_nome,\n",
    "    description='Letra:',\n",
    "    disabled=False,\n",
    ")\n",
    "display(letra)\n",
    "\n",
    "l = Layout(flex='0 1 auto', height='150px', min_height='150px', width='300px')\n",
    "area = widgets.Textarea(\n",
    "    description='      ',\n",
    "    value=char_array_to_str(letras_char[0]),\n",
    "    layout = l,\n",
    "    disabled=False\n",
    ")\n",
    "display(area)\n",
    "\n",
    "def on_change(change):\n",
    "    if change['type'] == 'change' and change['name'] == 'value':\n",
    "        area.value = char_array_to_str(letras_char[letras_nome.index(change['new'])])\n",
    "\n",
    "letra.observe(on_change)\n",
    "\n",
    "###################################\n",
    "def f_ativacao(yin):\n",
    "    out = np.copy(yin)\n",
    "    out[out >= 0] = 1\n",
    "    out[out < 0] = 0\n",
    "    return out\n",
    "\n",
    "def operacao(letra, pesos, biases, classes):\n",
    "    yin = letra @ pesos + biases\n",
    "    y = f_ativacao(yin)\n",
    "    return y, classes[y == 1][0] if len(classes[y == 1]) > 0 else None\n",
    "\n",
    "def processar_teste():\n",
    "    pesos = pd.read_csv('~pesos.csv', header=None).values\n",
    "    biases = pd.read_csv('~biases.csv', header=None).values.flatten()\n",
    "\n",
    "    y, classe = operacao(str_to_array(area.value), pesos, biases, classes)\n",
    "    \n",
    "    if classe is not None:\n",
    "        saida = \"<h3>Classe: <strong>{}</strong></h3>\".format(classe)\n",
    "    else:\n",
    "        saida = \"<h3>Erro! Não foi possível classificar!</h3>\".format(classe)\n",
    "    display(HTML(saida))\n",
    "    \n",
    "widgets.interact_manual.opts['manual_name'] = 'Testar' # muda texto do botao\n",
    "interact_manual(processar_teste); # metodo a executar quando pressionar o botao"
   ]
  },
  {
   "cell_type": "code",
   "execution_count": null,
   "metadata": {},
   "outputs": [],
   "source": []
  }
 ],
 "metadata": {
  "kernelspec": {
   "display_name": "Python 3",
   "language": "python",
   "name": "python3"
  },
  "language_info": {
   "codemirror_mode": {
    "name": "ipython",
    "version": 3
   },
   "file_extension": ".py",
   "mimetype": "text/x-python",
   "name": "python",
   "nbconvert_exporter": "python",
   "pygments_lexer": "ipython3",
   "version": "3.7.3"
  }
 },
 "nbformat": 4,
 "nbformat_minor": 2
}
