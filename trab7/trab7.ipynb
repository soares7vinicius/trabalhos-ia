{
 "cells": [
  {
   "cell_type": "markdown",
   "metadata": {},
   "source": [
    "# Trabalho 7\n",
    "## Rede Madaline para reconhecimento de dígitos\n",
    "<img src=\"digitos.png\" alt=\"digitos\" width=\"250\"/>"
   ]
  },
  {
   "cell_type": "code",
   "execution_count": 116,
   "metadata": {},
   "outputs": [
    {
     "name": "stdout",
     "output_type": "stream",
     "text": [
      "\n",
      "\n",
      "Taxa de aprendizagem:\n"
     ]
    },
    {
     "data": {
      "application/vnd.jupyter.widget-view+json": {
       "model_id": "0caf3d2118e243d78d7f9722cf0ff094",
       "version_major": 2,
       "version_minor": 0
      },
      "text/plain": [
       "interactive(children=(FloatSlider(value=0.5, description='taxa_aprendizagem', max=1.0, min=0.001, step=0.001),…"
      ]
     },
     "metadata": {},
     "output_type": "display_data"
    },
    {
     "name": "stdout",
     "output_type": "stream",
     "text": [
      "\n",
      "\n",
      "Critério de parada:\n"
     ]
    },
    {
     "data": {
      "application/vnd.jupyter.widget-view+json": {
       "model_id": "fedc2353858049b0984c0a6b4ee50529",
       "version_major": 2,
       "version_minor": 0
      },
      "text/plain": [
       "interactive(children=(Dropdown(description='parada', options=('Erro', 'Ciclos'), value='Erro'), Output()), _do…"
      ]
     },
     "metadata": {},
     "output_type": "display_data"
    },
    {
     "name": "stdout",
     "output_type": "stream",
     "text": [
      "\n",
      "\n",
      "Número de ciclos:\n"
     ]
    },
    {
     "data": {
      "application/vnd.jupyter.widget-view+json": {
       "model_id": "4abb2ea4359c4c51bfdfab3b736d58ee",
       "version_major": 2,
       "version_minor": 0
      },
      "text/plain": [
       "interactive(children=(IntSlider(value=10, description='ciclos', max=50, min=1), Output()), _dom_classes=('widg…"
      ]
     },
     "metadata": {},
     "output_type": "display_data"
    },
    {
     "name": "stdout",
     "output_type": "stream",
     "text": [
      "\n",
      "\n",
      "Erro tolerado:\n"
     ]
    },
    {
     "data": {
      "application/vnd.jupyter.widget-view+json": {
       "model_id": "a2483380b66f4dc0ba8d7caf90518153",
       "version_major": 2,
       "version_minor": 0
      },
      "text/plain": [
       "interactive(children=(FloatSlider(value=0.1, description='erro', min=0.001, step=0.001), Output()), _dom_class…"
      ]
     },
     "metadata": {},
     "output_type": "display_data"
    },
    {
     "data": {
      "application/vnd.jupyter.widget-view+json": {
       "model_id": "cb6cb96c1d8b4bd3899a790339dcfbf2",
       "version_major": 2,
       "version_minor": 0
      },
      "text/plain": [
       "interactive(children=(Button(description='Processar algoritmo', style=ButtonStyle()), Output()), _dom_classes=…"
      ]
     },
     "metadata": {},
     "output_type": "display_data"
    }
   ],
   "source": [
    "import os\n",
    "%matplotlib inline\n",
    "import matplotlib.pyplot as plt\n",
    "\n",
    "import numpy as np\n",
    "import pandas as pd\n",
    "\n",
    "import random\n",
    "from collections import defaultdict\n",
    "\n",
    "from ipywidgets import *\n",
    "import ipywidgets as widgets\n",
    "\n",
    "from IPython.display import display, HTML\n",
    "\n",
    "########## entradas dos parametros ##########\n",
    "print('\\n\\nTaxa de aprendizagem:')\n",
    "def f(taxa_aprendizagem=0.5):\n",
    "    return taxa_aprendizagem\n",
    "taxa_aprendizagem = interactive(f, taxa_aprendizagem=(0.001, 1, 0.001))\n",
    "display(taxa_aprendizagem)\n",
    "\n",
    "print('\\n\\nCritério de parada:')\n",
    "def f(parada):\n",
    "    return parada\n",
    "parada = interactive(f, parada=['Erro', 'Ciclos'])\n",
    "display(parada)\n",
    "\n",
    "print('\\n\\nNúmero de ciclos:')\n",
    "def f(ciclos=10):\n",
    "    return ciclos\n",
    "ciclos = interactive(f, ciclos=(1, 50, 1))\n",
    "display(ciclos)\n",
    "\n",
    "print('\\n\\nErro tolerado:')\n",
    "def f(erro=0.1):\n",
    "    return erro\n",
    "erro = interactive(f, erro=(0.001, 100, 0.001))\n",
    "display(erro)\n",
    "##############################################\n",
    "\n",
    "##### conversao das letras em inputs.csv #####\n",
    "def inputs_to_csv():\n",
    "    #os.getcwd()\n",
    "    path = 'trab7/letras'\n",
    "    files = [f for f in os.listdir(path) if not f.startswith('.')]\n",
    "    files.sort()\n",
    "    letters = []\n",
    "    for file_name in files:\n",
    "        file = pd.read_csv(\"{}/{}\".format(path, file_name), delim_whitespace=True, header=None)\n",
    "        letters.append(file.values.flatten())\n",
    "\n",
    "    row_names = [f[0:2] for f in files]\n",
    "    pd.DataFrame(np.array(letters)).to_csv(\"trab7/inputs.csv\", header=None, index=None) \n",
    "##############################################\n",
    "\n",
    "class Madaline():\n",
    "    def __init__(self, conjunto_entradas, targets, taxa_aprendizagem, parada, ciclos_max, \n",
    "                 erro_tolerado, classes, **kwargs):\n",
    "        \n",
    "        self.numero_entradas = len(conjunto_entradas[0])\n",
    "        self.conjunto_entradas = np.array(conjunto_entradas)\n",
    "        self.targets = np.array(targets)\n",
    "        self.classes = np.array(classes)\n",
    "        self.taxa_aprendizagem = taxa_aprendizagem\n",
    "        self.ciclos = 0\n",
    "        self.ciclos_max = ciclos_max\n",
    "        self.parada = parada\n",
    "        self.erro_tolerado = erro_tolerado\n",
    "        self.pesos = self.__inicializa_pesos()\n",
    "        self.bias = np.array([random.uniform(-0.5,0.5) for saida in targets[0]])\n",
    "        self.erro = 0\n",
    "        \n",
    "    def __inicializa_pesos(self):\n",
    "        pesos = []\n",
    "        for i in range(self.numero_entradas):\n",
    "            pesos_entrada = []\n",
    "            for j in range(len(self.targets[0])):\n",
    "                pesos_entrada.append(random.uniform(-0.5,0.5))\n",
    "            pesos.append(pesos_entrada)\n",
    "        return np.array(pesos)\n",
    "    \n",
    "    def __f_ativacao(self, yin):\n",
    "        out = np.copy(yin)\n",
    "        out[out >= 0] = int(1)\n",
    "        out[out < 0] = int(0)\n",
    "        return out\n",
    "    \n",
    "    def treinamento(self):\n",
    "        # x = [21,63], w = [63,7], b = [1,7], t = [21,7], y =x*w = [21,7]\n",
    "        erros = []\n",
    "        treinada = False\n",
    "        self.ciclos = 1;\n",
    "        while not treinada:\n",
    "            self.erro = 0   \n",
    "            yin = self.conjunto_entradas @ self.pesos + self.bias\n",
    "            y = self.__f_ativacao(yin)\n",
    "            self.erro = 0.5 * np.sum(np.power((self.targets - y), 2))\n",
    "            # self.erro = self.erro_tolerado * np.sum(np.power((self.targets - y), 2))\n",
    "            self.pesos = self.pesos + (self.taxa_aprendizagem * ((self.targets - y).T @ self.conjunto_entradas)).T\n",
    "            self.bias = self.bias + (self.taxa_aprendizagem * np.sum((self.targets - y), axis=0))\n",
    "            \n",
    "            erros.append(self.erro)\n",
    "            if (self.parada == 'ciclos' and self.ciclos >= self.ciclos_max) \\\n",
    "                or (self.parada == 'erro' and self.erro <= self.erro_tolerado):\n",
    "                treinada = True\n",
    "            else:\n",
    "                self.ciclos += 1\n",
    "        return list(range(1, self.ciclos+1)), erros\n",
    "    \n",
    "    def operacao(self, letra):\n",
    "        yin = letra @ self.pesos + self.bias\n",
    "        y = self.__f_ativacao(yin)\n",
    "        return y, self.classes[y == 1][0]\n",
    "\n",
    "def processar():\n",
    "    #display(os.getcwd())\n",
    "    conjunto_entradas = pd.read_csv('inputs.csv', header=None).values\n",
    "    targets_dataframe = pd.read_csv('targets.csv')\n",
    "    targets = targets_dataframe.values\n",
    "    classes = list(targets_dataframe.columns)\n",
    "    \n",
    "    madaline = Madaline(\n",
    "        conjunto_entradas = conjunto_entradas, \n",
    "        targets = targets, \n",
    "        taxa_aprendizagem = taxa_aprendizagem.result,\n",
    "        parada = parada.result.lower(),\n",
    "        ciclos_max = ciclos.result,\n",
    "        erro_tolerado = erro.result,\n",
    "        classes = classes\n",
    "    )\n",
    "    \n",
    "    lista_ciclos, lista_erros = madaline.treinamento()\n",
    "    \n",
    "    plt.rcParams[\"figure.figsize\"] = [10,6]\n",
    "    plt.plot(lista_ciclos, lista_erros, 'r', label=\"Erro\", marker='o', scalex=True)\n",
    "    plt.style.use('ggplot')\n",
    "    plt.title('Erro x Ciclo')\n",
    "    plt.xlabel('Ciclo')\n",
    "    plt.ylabel('Erro')\n",
    "    for x,y in zip(lista_ciclos, lista_erros):\n",
    "        plt.annotate(s='{:3.2f}'.format(y), xy=(x+0.1,y+0.1))\n",
    "    plt.legend()\n",
    "    plt.show()\n",
    "    \n",
    "    res_classes, classe = madaline.operacao(conjunto_entradas[6])\n",
    "    #display(res_classes)\n",
    "    \n",
    "    \n",
    "widgets.interact_manual.opts['manual_name'] = 'Processar algoritmo' # muda texto do botao\n",
    "madaline = interact_manual(processar); # metodo a executar quando pressionar o botao"
   ]
  },
  {
   "cell_type": "code",
   "execution_count": 114,
   "metadata": {},
   "outputs": [
    {
     "data": {
      "application/vnd.jupyter.widget-view+json": {
       "model_id": "98450709ff0346c49c15c1a059ed6709",
       "version_major": 2,
       "version_minor": 0
      },
      "text/plain": [
       "interactive(children=(Button(description='Testar', style=ButtonStyle()), Output()), _dom_classes=('widget-inte…"
      ]
     },
     "metadata": {},
     "output_type": "display_data"
    }
   ],
   "source": [
    "def processar_teste():\n",
    "    display(teste)\n",
    "    \n",
    "widgets.interact_manual.opts['manual_name'] = 'Testar' # muda texto do botao\n",
    "interact_manual(processar_teste); # metodo a executar quando pressionar o botao"
   ]
  }
 ],
 "metadata": {
  "kernelspec": {
   "display_name": "Python 3",
   "language": "python",
   "name": "python3"
  },
  "language_info": {
   "codemirror_mode": {
    "name": "ipython",
    "version": 3
   },
   "file_extension": ".py",
   "mimetype": "text/x-python",
   "name": "python",
   "nbconvert_exporter": "python",
   "pygments_lexer": "ipython3",
   "version": "3.7.1"
  }
 },
 "nbformat": 4,
 "nbformat_minor": 2
}
