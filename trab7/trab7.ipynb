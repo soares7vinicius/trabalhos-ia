{
 "cells": [
  {
   "cell_type": "code",
   "execution_count": 93,
   "metadata": {},
   "outputs": [
    {
     "name": "stdout",
     "output_type": "stream",
     "text": [
      "\n",
      "\n",
      "Taxa de aprendizagem:\n"
     ]
    },
    {
     "data": {
      "application/vnd.jupyter.widget-view+json": {
       "model_id": "5ea8424f6ce147bb85141c0551ae859a",
       "version_major": 2,
       "version_minor": 0
      },
      "text/plain": [
       "interactive(children=(FloatSlider(value=0.5, description='taxa_aprendizagem', max=1.0, step=0.001), Output()),…"
      ]
     },
     "metadata": {},
     "output_type": "display_data"
    },
    {
     "name": "stdout",
     "output_type": "stream",
     "text": [
      "\n",
      "\n",
      "Critério de parada:\n"
     ]
    },
    {
     "data": {
      "application/vnd.jupyter.widget-view+json": {
       "model_id": "dcf5e83b00e34ed0b95cfc6d4290c59e",
       "version_major": 2,
       "version_minor": 0
      },
      "text/plain": [
       "interactive(children=(Dropdown(description='parada', options=('Erro', 'Ciclos'), value='Erro'), Output()), _do…"
      ]
     },
     "metadata": {},
     "output_type": "display_data"
    },
    {
     "name": "stdout",
     "output_type": "stream",
     "text": [
      "\n",
      "\n",
      "Número de ciclos:\n"
     ]
    },
    {
     "data": {
      "application/vnd.jupyter.widget-view+json": {
       "model_id": "ef314ca46b80491f8768401e63635a56",
       "version_major": 2,
       "version_minor": 0
      },
      "text/plain": [
       "interactive(children=(IntSlider(value=50, description='ciclos', max=1000, min=1), Output()), _dom_classes=('wi…"
      ]
     },
     "metadata": {},
     "output_type": "display_data"
    },
    {
     "name": "stdout",
     "output_type": "stream",
     "text": [
      "\n",
      "\n",
      "Erro tolerado:\n"
     ]
    },
    {
     "data": {
      "application/vnd.jupyter.widget-view+json": {
       "model_id": "c5426825770c42b6ba23364ee5282c39",
       "version_major": 2,
       "version_minor": 0
      },
      "text/plain": [
       "interactive(children=(FloatSlider(value=0.1, description='erro', max=1.0, min=0.001, step=0.001), Output()), _…"
      ]
     },
     "metadata": {},
     "output_type": "display_data"
    },
    {
     "data": {
      "application/vnd.jupyter.widget-view+json": {
       "model_id": "b15d0905a8e24064883f80d937e26d2a",
       "version_major": 2,
       "version_minor": 0
      },
      "text/plain": [
       "interactive(children=(Button(description='Processar algoritmo', style=ButtonStyle()), Output()), _dom_classes=…"
      ]
     },
     "metadata": {},
     "output_type": "display_data"
    }
   ],
   "source": [
    "import os\n",
    "%matplotlib inline\n",
    "import matplotlib.pyplot as plt\n",
    "\n",
    "import numpy as np\n",
    "import pandas as pd\n",
    "\n",
    "import random\n",
    "from collections import defaultdict\n",
    "\n",
    "from ipywidgets import *\n",
    "import ipywidgets as widgets\n",
    "\n",
    "from IPython.display import display, HTML\n",
    "\n",
    "########## entradas dos parametros ##########\n",
    "print('\\n\\nTaxa de aprendizagem:')\n",
    "def f(taxa_aprendizagem=0.5):\n",
    "    return taxa_aprendizagem\n",
    "taxa_aprendizagem = interactive(f, taxa_aprendizagem=(0, 1, 0.001))\n",
    "display(taxa_aprendizagem)\n",
    "\n",
    "print('\\n\\nCritério de parada:')\n",
    "def f(parada):\n",
    "    return parada\n",
    "parada = interactive(f, parada=['Erro', 'Ciclos'])\n",
    "display(parada)\n",
    "\n",
    "print('\\n\\nNúmero de ciclos:')\n",
    "def f(ciclos=50):\n",
    "    return ciclos\n",
    "ciclos = interactive(f, ciclos=(1, 1000, 1))\n",
    "display(ciclos)\n",
    "\n",
    "print('\\n\\nErro tolerado:')\n",
    "def f(erro=0.1):\n",
    "    return erro\n",
    "erro = interactive(f, erro=(0.001, 1, 0.001))\n",
    "display(erro)\n",
    "\n",
    "class Madaline():\n",
    "    \n",
    "    def __init__(self, conjunto_entradas, targets, taxa_aprendizagem, parada, ciclos_max=50, \n",
    "                 erro_tolerado=0.1, **kwargs):\n",
    "        \n",
    "        self.numero_entradas = len(conjunto_entradas[0])\n",
    "        self.conjunto_entradas = np.array(conjunto_entradas)\n",
    "        self.targets = np.array(targets)\n",
    "        self.taxa_aprendizagem = taxa_aprendizagem\n",
    "        self.ciclos = 0\n",
    "        self.ciclos_max = ciclos_max\n",
    "        self.erro_tolerado = erro_tolerado\n",
    "        self.pesos = self.inicializa_pesos()\n",
    "        self.bias = np.array([random.uniform(-0.5,0.5) for saida in targets[0]])\n",
    "        \n",
    "    def inicializa_pesos(self):\n",
    "        pesos = []\n",
    "        for i in range(self.numero_entradas):\n",
    "            pesos_entrada = []\n",
    "            for j in range(len(self.targets[0])):\n",
    "                pesos_entrada.append(random.uniform(-0.5,0.5))\n",
    "            pesos.append(pesos_entrada)\n",
    "        return np.array(pesos)\n",
    "\n",
    "def inputs_to_csv():\n",
    "    #os.getcwd()\n",
    "    path = 'trab7/letras'\n",
    "    files = [f for f in os.listdir(path) if not f.startswith('.')]\n",
    "    files.sort()\n",
    "    letters = []\n",
    "    for file_name in files:\n",
    "        file = pd.read_csv(\"{}/{}\".format(path, file_name), delim_whitespace=True, header=None)\n",
    "        letters.append(file.values.flatten())\n",
    "\n",
    "    row_names = [f[0:2] for f in files]\n",
    "    pd.DataFrame(np.array(letters)).to_csv(\"trab7/inputs.csv\", header=None, index=None)\n",
    "\n",
    "def processar():\n",
    "    \n",
    "    conjunto_entradas = pd.read_csv('trab7/inputs.csv', header=None).values\n",
    "    targets_dataframe = pd.read_csv('trab7/targets.csv')\n",
    "    targets = targets_dataframe.values\n",
    "    \n",
    "    madaline = Madaline(\n",
    "        conjunto_entradas, \n",
    "        targets, \n",
    "        taxa_aprendizagem.result,\n",
    "        parada = parada.result.lower(),\n",
    "        ciclox_max = ciclos.result,\n",
    "        erro_tolerado = erro.result)\n",
    "    \n",
    "widgets.interact_manual.opts['manual_name'] = 'Processar algoritmo' # muda texto do botao\n",
    "interact_manual(processar); # metodo a executar quando pressionar o botao"
   ]
  }
 ],
 "metadata": {
  "kernelspec": {
   "display_name": "Python 3",
   "language": "python",
   "name": "python3"
  },
  "language_info": {
   "codemirror_mode": {
    "name": "ipython",
    "version": 3
   },
   "file_extension": ".py",
   "mimetype": "text/x-python",
   "name": "python",
   "nbconvert_exporter": "python",
   "pygments_lexer": "ipython3",
   "version": "3.7.1"
  }
 },
 "nbformat": 4,
 "nbformat_minor": 2
}
