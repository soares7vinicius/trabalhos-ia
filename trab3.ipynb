{
 "cells": [
  {
   "cell_type": "code",
   "execution_count": 3,
   "metadata": {},
   "outputs": [
    {
     "data": {
      "text/html": [
       "<style>\n",
       "  table {margin-left: 0 !important;}\n",
       "</style>\n"
      ],
      "text/plain": [
       "<IPython.core.display.HTML object>"
      ]
     },
     "metadata": {},
     "output_type": "display_data"
    }
   ],
   "source": [
    "%%html\n",
    "<style>\n",
    "  table {margin-left: 0 !important;}\n",
    "</style>"
   ]
  },
  {
   "cell_type": "markdown",
   "metadata": {},
   "source": [
    "## Trabalho 3\n",
    "* Suponha que há duas salas de aula. A sala A comporta 40 alunos e a sala B comporta 20 alunos\n",
    "* Deve-se alocar 4 turmas nestas duas salas, nos turnos matutino e vespertino conforme a tabela abaixo\n",
    "\n",
    "| Turma | Quantidade de Alunos |\n",
    "|-------|----------------------|\n",
    "| T1    | 30                   |\n",
    "| T2    | 15                   |\n",
    "| T3    | 18                   |\n",
    "| T4    | 20                   |\n",
    "\n",
    "#### Restrições\n",
    "* O professor Romeu leciona para as turmas T1 e T3 e prefere usar sempre a mesma sala\n",
    "* A professora Julieta leciona para a turma T2 e não pode trabalhar pela manhã\n",
    "* A professora Silvana leciona para a turma T4, que tem alunos em comum com a turma T2\n",
    "* Além das restrições consideradas acima, devemos lembrar que um professor não pode estar em duas salas diferentes no mesmo horário."
   ]
  },
  {
   "cell_type": "code",
   "execution_count": 4,
   "metadata": {},
   "outputs": [
    {
     "name": "stdout",
     "output_type": "stream",
     "text": [
      "\n",
      "\n",
      "Tamanho da população:\n"
     ]
    },
    {
     "data": {
      "application/vnd.jupyter.widget-view+json": {
       "model_id": "8eec5f93a12542e0bb3125cd99e94fb1",
       "version_major": 2,
       "version_minor": 0
      },
      "text/plain": [
       "interactive(children=(IntSlider(value=50, description='populacao', min=10, step=10), Output()), _dom_classes=(…"
      ]
     },
     "metadata": {},
     "output_type": "display_data"
    },
    {
     "name": "stdout",
     "output_type": "stream",
     "text": [
      "\n",
      "\n",
      "Probabilidade de cruzamento:\n"
     ]
    },
    {
     "data": {
      "application/vnd.jupyter.widget-view+json": {
       "model_id": "53cabd1dee034559b4ff17026d98c6d9",
       "version_major": 2,
       "version_minor": 0
      },
      "text/plain": [
       "interactive(children=(FloatSlider(value=95.0, description='cruzamento', max=95.0, min=5.0, step=0.5), Output()…"
      ]
     },
     "metadata": {},
     "output_type": "display_data"
    },
    {
     "name": "stdout",
     "output_type": "stream",
     "text": [
      "\n",
      "\n",
      "Probabilidade de mutação:\n"
     ]
    },
    {
     "data": {
      "application/vnd.jupyter.widget-view+json": {
       "model_id": "5d3043f0830547ffa365876431d31201",
       "version_major": 2,
       "version_minor": 0
      },
      "text/plain": [
       "interactive(children=(FloatSlider(value=1.0, description='mutacao', max=10.0, min=1.0, step=0.5), Output()), _…"
      ]
     },
     "metadata": {},
     "output_type": "display_data"
    },
    {
     "name": "stdout",
     "output_type": "stream",
     "text": [
      "\n",
      "\n",
      "Quantidade de gerações:\n"
     ]
    },
    {
     "data": {
      "application/vnd.jupyter.widget-view+json": {
       "model_id": "04cbe9bbcdef4911aedf83c8750dde47",
       "version_major": 2,
       "version_minor": 0
      },
      "text/plain": [
       "interactive(children=(IntSlider(value=30, description='geracoes', min=10), Output()), _dom_classes=('widget-in…"
      ]
     },
     "metadata": {},
     "output_type": "display_data"
    },
    {
     "name": "stdout",
     "output_type": "stream",
     "text": [
      "\n",
      "\n",
      "Método de seleção:\n"
     ]
    },
    {
     "data": {
      "application/vnd.jupyter.widget-view+json": {
       "model_id": "c7fac60db2a44949ad00981bd1f78621",
       "version_major": 2,
       "version_minor": 0
      },
      "text/plain": [
       "interactive(children=(Dropdown(description='selecao', options=('Roleta', 'Torneio'), value='Roleta'), Output()…"
      ]
     },
     "metadata": {},
     "output_type": "display_data"
    },
    {
     "name": "stdout",
     "output_type": "stream",
     "text": [
      "\n",
      "\n",
      "Tamanho do Torneio:\n",
      " *ignorar caso o 'Método de seleção' selecionado seja diferente de 'Torneio'*\n"
     ]
    },
    {
     "data": {
      "application/vnd.jupyter.widget-view+json": {
       "model_id": "c5db040fb0a84c219da2088150735dfd",
       "version_major": 2,
       "version_minor": 0
      },
      "text/plain": [
       "interactive(children=(IntSlider(value=10, description='tam_torneio', max=50, min=2, step=2), Output()), _dom_c…"
      ]
     },
     "metadata": {},
     "output_type": "display_data"
    },
    {
     "name": "stdout",
     "output_type": "stream",
     "text": [
      "\n",
      "\n",
      "Tamanho do elitismo:\n"
     ]
    },
    {
     "data": {
      "application/vnd.jupyter.widget-view+json": {
       "model_id": "31c537d5281e4444b341b7d4eaf6117c",
       "version_major": 2,
       "version_minor": 0
      },
      "text/plain": [
       "interactive(children=(IntSlider(value=1, description='elitismo', max=2), Output()), _dom_classes=('widget-inte…"
      ]
     },
     "metadata": {},
     "output_type": "display_data"
    },
    {
     "data": {
      "application/vnd.jupyter.widget-view+json": {
       "model_id": "01dc6fa7dd8940abb922f8256de12e73",
       "version_major": 2,
       "version_minor": 0
      },
      "text/plain": [
       "interactive(children=(Button(description='Processar algoritmo', style=ButtonStyle()), Output()), _dom_classes=…"
      ]
     },
     "metadata": {},
     "output_type": "display_data"
    }
   ],
   "source": [
    "%matplotlib inline\n",
    "import matplotlib.pyplot as plt\n",
    "\n",
    "import numpy as np\n",
    "import pandas as pd\n",
    "\n",
    "import random\n",
    "from collections import defaultdict\n",
    "\n",
    "from ipywidgets import *\n",
    "import ipywidgets as widgets\n",
    "\n",
    "from IPython.display import display, HTML\n",
    "\n",
    "class Individuo():   \n",
    "    \n",
    "    def __init__(self, geracao=1, **kwargs):\n",
    "        if geracao == 1:\n",
    "            self.gera_cromossomo()\n",
    "        self.geracao = geracao\n",
    "        self.aptidao = 0\n",
    "                        \n",
    "    def __repr__(self): # formata representacao do objeto quanto utiliza print/display\n",
    "        return np.array2string(self.cromossomo)\n",
    "    \n",
    "    def gera_cromossomo(self):\n",
    "        self.cromossomo = np.arange(1,5)\n",
    "        np.random.shuffle(self.cromossomo)\n",
    "        \n",
    "    \n",
    "    def avaliacao(self):\n",
    "        self.aptidao = 10\n",
    "        turmas = {}\n",
    "        # criar dicionario 'turmas' como chave:valor sendo -> turma:indice\n",
    "        for i in range(len(self.cromossomo)):\n",
    "            turmas[self.cromossomo[i]] = i\n",
    "        \n",
    "        # A sala A (idx: 0 e 2) comporta 40 alunos e a sala B (idx 1 e 3)comporta 20 alunos\n",
    "        # Turma 1 eh a unica com quantidade de alunos (30) maior que a capacidade da sala B (20 alunos)\n",
    "        if(turmas[1] == 1 or turmas[1] == 3):\n",
    "            self.aptidao -= 1\n",
    "        else:\n",
    "            self.aptidao += 1\n",
    "        \n",
    "        # O professor Romeu leciona para as turmas T1 e T3 e prefere usar sempre a mesma sala\n",
    "        if (turmas[1] % 2) == (turmas[3] % 2):\n",
    "            self.aptidao +=  1\n",
    "        else:\n",
    "            self.aptidao -=  1\n",
    "            \n",
    "        # A professora Julieta leciona para a turma T2 e não pode trabalhar pela manhã.\n",
    "        if turmas[2] < 2:\n",
    "            self.aptidao -= 1\n",
    "        else:\n",
    "            self.aptidao += 1\n",
    "            \n",
    "        # A professora Silvana leciona para a turma T4, que tem alunos em comum com a turma T2.\n",
    "        if (turmas[4] < 2 and turmas[2] < 2) or (turmas[4] > 1 and turmas[2] > 1):\n",
    "            self.aptidao -= 1\n",
    "        else:\n",
    "            self.aptidao += 1\n",
    "        \n",
    "        # Um professor não pode estar em duas salas diferentes no mesmo horário\n",
    "        # No caso somente o professor Romeu tem aula com duas turmas\n",
    "        if (turmas[1] < 2 and turmas[3] < 2) or (turmas[1] > 1 and turmas[3] > 1):\n",
    "            self.aptidao -= 1\n",
    "        else:\n",
    "            self.aptidao += 1\n",
    "                \n",
    "        \n",
    "    def cruzamento(self, outro_individuo):\n",
    "        f1_cromossomo = np.concatenate((self.cromossomo[0:2], outro_individuo.cromossomo[2::]))\n",
    "        f2_cromossomo = np.concatenate((outro_individuo.cromossomo[0:2], self.cromossomo[2::]))\n",
    "        \n",
    "        filhos = [f1_cromossomo, f2_cromossomo]\n",
    "        \n",
    "        # substitui os valores repetidos pelos valores faltantes\n",
    "        for f in filhos:\n",
    "            qtd = {}\n",
    "            qtd = defaultdict(lambda:0, qtd) # inicializa todos valores com 0 default\n",
    "            for i in range(len(f)):\n",
    "                if qtd[f[i]] > 0:\n",
    "                    qtd[f[i]] += 1\n",
    "                    f[i] = 5\n",
    "                else:\n",
    "                    qtd[f[i]] += 1\n",
    "                    \n",
    "            faltando = []\n",
    "            for i in range(1,5):\n",
    "                if qtd[i] == 0:\n",
    "                    faltando.append(i)\n",
    "                    \n",
    "            for i in range(len(f)):\n",
    "                if f[i] == 5:\n",
    "                    f[i] = faltando.pop()\n",
    "                    \n",
    "        filhos_individuos = [Individuo(geracao=self.geracao+1),\n",
    "                 Individuo(geracao=self.geracao+1)]\n",
    "        filhos_individuos[0].cromossomo = filhos[0]\n",
    "        filhos_individuos[1].cromossomo = filhos[1]\n",
    "        \n",
    "        return filhos_individuos\n",
    "    \n",
    "    def mutacao(self, taxa_mutacao):\n",
    "        if random.random() < taxa_mutacao: \n",
    "            idxs = random.sample(range(0,4), 2)\n",
    "            aux = self.cromossomo[idxs[0]]\n",
    "            self.cromossomo[idxs[0]] = self.cromossomo[idxs[1]]\n",
    "            self.cromossomo[idxs[1]] = aux\n",
    "        return self\n",
    "    \n",
    "\n",
    "class AlgoritmoGenetico():\n",
    "    \n",
    "    def __init__(self, tam_populacao, taxa_cruzamento, taxa_mutacao,\n",
    "                qtd_geracoes, selecao, elitismo, tam_torneio=0, **kwargs):\n",
    "        self.tam_populacao = tam_populacao\n",
    "        self.populacao = np.array([])\n",
    "        self.taxa_cruzamento = taxa_cruzamento\n",
    "        self.taxa_mutacao = taxa_mutacao\n",
    "        self.qtd_geracoes = qtd_geracoes\n",
    "        self.geracao = 0\n",
    "        self.selecao = selecao\n",
    "        self.tam_torneio = tam_torneio\n",
    "        self.elitismo = elitismo\n",
    "        self.lista_solucao = []\n",
    "        self.melhor_solucao = 0\n",
    "    \n",
    "    def inicializa_populacao(self):   \n",
    "        lista = []\n",
    "        for i in range(self.tam_populacao):\n",
    "            lista.append(Individuo())\n",
    "        self.populacao = np.array(lista)\n",
    "        self.melhor_solucao = self.populacao[0]    \n",
    "        \n",
    "    def ordena_populacao(self):\n",
    "        self.populacao = sorted(self.populacao,\n",
    "                               key =  lambda individuo: individuo.aptidao,\n",
    "                               reverse = True)\n",
    "        self.populacao = np.array(self.populacao)\n",
    "        \n",
    "    def calcula_aptidao(self):\n",
    "        for ind in self.populacao:\n",
    "            ind.avaliacao()\n",
    "    \n",
    "    def melhor_individuo(self, individuo):\n",
    "        if individuo.aptidao > self.melhor_solucao.aptidao:\n",
    "            self.melhor_solucao = individuo\n",
    "    \n",
    "    def soma_aptidoes(self):\n",
    "        soma = 0\n",
    "        for i in self.populacao:\n",
    "            soma += i.aptidao\n",
    "        return soma\n",
    "            \n",
    "    def seleciona_pais(self, soma_aptidoes=0):\n",
    "        '''\n",
    "        retorna um array com o par de pais com base no tipo de selecao\n",
    "        '''\n",
    "        if self.selecao == 'roleta':\n",
    "            r_pais = [random.random() * soma_aptidoes]\n",
    "            while True:\n",
    "                r = random.random() * soma_aptidoes\n",
    "                if r not in r_pais:\n",
    "                    r_pais.append(r)\n",
    "                    break\n",
    "                    \n",
    "            pais = []\n",
    "            for r in r_pais:\n",
    "                pai = -1\n",
    "                i = 0\n",
    "                soma = 0\n",
    "                while i < len(self.populacao) and soma < r:\n",
    "                    soma += self.populacao[i].aptidao\n",
    "                    pai += 1\n",
    "                    i += 1\n",
    "                pais.append(self.populacao[pai])\n",
    "            return pais\n",
    "        \n",
    "        elif self.selecao == 'torneio':\n",
    "            indices_torneio = random.sample(range(0, self.tam_populacao), self.tam_torneio)\n",
    "            torneio = self.populacao[indices_torneio]\n",
    "            torneio = sorted(torneio, key=lambda i: i.aptidao, reverse=True)\n",
    "            return [torneio[0], torneio[1]]\n",
    "        \n",
    "    \n",
    "    def seleciona_elitismo(self):\n",
    "        '''\n",
    "        retorna lista contendo os individuos elitistas\n",
    "        '''\n",
    "        self.ordena_populacao()\n",
    "        return self.populacao[0:self.elitismo]\n",
    "    \n",
    "    \n",
    "\n",
    "########## entradas dos parametros ##########\n",
    "\n",
    "print('\\n\\nTamanho da população:')\n",
    "def f(populacao=50):\n",
    "    return populacao\n",
    "populacao = interactive(f, populacao=(10, 100, 10))\n",
    "display(populacao)\n",
    "\n",
    "print('\\n\\nProbabilidade de cruzamento:')\n",
    "def f(cruzamento=95.0):\n",
    "    return cruzamento\n",
    "cruzamento = interactive(f, cruzamento=(5.0, 95.0, 0.5))\n",
    "display(cruzamento)\n",
    "\n",
    "print('\\n\\nProbabilidade de mutação:')\n",
    "def f(mutacao=0.1):\n",
    "    return mutacao\n",
    "mutacao = interactive(f, mutacao=(1.0, 10.0, 0.5))\n",
    "display(mutacao)\n",
    "\n",
    "print('\\n\\nQuantidade de gerações:')\n",
    "def f(geracoes=30):\n",
    "    return geracoes\n",
    "geracoes = interactive(f, geracoes=(10, 100))\n",
    "display(geracoes)\n",
    "\n",
    "print('\\n\\nMétodo de seleção:')\n",
    "def f(selecao):\n",
    "    return selecao\n",
    "selecao = interactive(f, selecao=['Roleta', 'Torneio'])\n",
    "display(selecao)\n",
    "\n",
    "print(\"\"\"\\n\\nTamanho do Torneio:\\n *ignorar caso o 'Método de seleção' selecionado seja diferente de 'Torneio'*\"\"\")\n",
    "def f(tam_torneio=10):\n",
    "    return tam_torneio\n",
    "tam_torneio = interactive(f, tam_torneio=(2, 50, 2))\n",
    "display(tam_torneio)\n",
    "\n",
    "print('\\n\\nTamanho do elitismo:')\n",
    "def f(elitismo=1):\n",
    "    return elitismo\n",
    "elitismo = interactive(f, elitismo=(0, 2))\n",
    "display(elitismo)\n",
    "\n",
    "########## processamento ##########\n",
    "def processar():\n",
    "    \n",
    "    alg = AlgoritmoGenetico(\n",
    "        tam_populacao = populacao.result,\n",
    "        taxa_cruzamento = cruzamento.result/100.0,\n",
    "        taxa_mutacao = mutacao.result/100.0,\n",
    "        qtd_geracoes = geracoes.result,\n",
    "        selecao = selecao.result.lower(),\n",
    "        elitismo = elitismo.result,\n",
    "        tam_torneio = tam_torneio.result)\n",
    "    \n",
    "    ## inicio ##\n",
    "    \n",
    "    alg.inicializa_populacao()\n",
    "    \n",
    "    graf_aptidoes = []\n",
    "    graf_geracoes = []    \n",
    "    \n",
    "    for g in range(0, alg.qtd_geracoes):\n",
    "        graf_geracoes.append(g)        \n",
    "        \n",
    "        alg.calcula_aptidao()\n",
    "        alg.ordena_populacao()\n",
    "        \n",
    "        nova_popu = []\n",
    "        soma_apt = alg.soma_aptidoes() if alg.selecao == 'roleta' else 0\n",
    "        for c in range(0, alg.tam_populacao, 2):\n",
    "            pais = alg.seleciona_pais(soma_apt)\n",
    "            if random.random() <= alg.taxa_cruzamento:\n",
    "                filhos = pais[0].cruzamento(pais[1])\n",
    "                for filho in filhos:\n",
    "                    nova_popu.append(filho.mutacao(alg.taxa_mutacao))\n",
    "            else:\n",
    "                for pai in pais:\n",
    "                    nova_popu.append(pai)\n",
    "        \n",
    "        elitistas = alg.seleciona_elitismo()\n",
    "        indices = random.sample(range(0, alg.tam_populacao), len(elitistas))\n",
    "        for idx in range(0, len(elitistas)):\n",
    "            alg.populacao[indices[idx]] = elitistas[idx]\n",
    "            \n",
    "        alg.populacao = np.array(nova_popu)\n",
    "        \n",
    "        alg.calcula_aptidao()\n",
    "        alg.ordena_populacao()\n",
    "        alg.lista_solucao.append(alg.populacao[0])\n",
    "        alg.melhor_individuo(alg.populacao[0])\n",
    "          \n",
    "        string = \"<h4><strong>Geração:</strong> {:}</h4>\".format(g+1)\n",
    "        display(HTML(string))          \n",
    "        \n",
    "        graf_aptidoes.append(alg.populacao[0].aptidao)        \n",
    "        \n",
    "        t = \"T\"                \n",
    "        dataframe = np.array([['','Sala A','Sala B'],\n",
    "                ['Matutino',t+str(alg.populacao[0].cromossomo[0]),t+str(alg.populacao[0].cromossomo[1])],\n",
    "                ['Vespertino',t+str(alg.populacao[0].cromossomo[2]),t+str(alg.populacao[0].cromossomo[3])]])\n",
    "        \n",
    "        display(pd.DataFrame(data=dataframe[1:,1:],\n",
    "                  index=dataframe[1:,0],\n",
    "                  columns=dataframe[0,1:]))\n",
    "        \n",
    "        print('-------------------------')\n",
    "\n",
    "    string = \"<h4><strong>Geração da melhor solução:</strong> {:}</h4>\".format(alg.melhor_solucao.geracao)\n",
    "    display(HTML(string))\n",
    "    \n",
    "    string = \"<h4><strong>Melhor solução:</strong></h4>\"\n",
    "    display(HTML(string))\n",
    "    \n",
    "    dataframe = np.array([['','Sala A','Sala B'],\n",
    "                ['Matutino',t+str(alg.melhor_solucao.cromossomo[0]),t+str(alg.melhor_solucao.cromossomo[1])],\n",
    "                ['Vespertino',t+str(alg.melhor_solucao.cromossomo[2]),t+str(alg.melhor_solucao.cromossomo[3])]])\n",
    "        \n",
    "    display(pd.DataFrame(data=dataframe[1:,1:],\n",
    "                  index=dataframe[1:,0],\n",
    "                  columns=dataframe[0,1:]))\n",
    "    \n",
    "    \n",
    "    N = 1000\n",
    "    random_x = np.random.randn(N)\n",
    "    random_y = np.random.randn(N)\n",
    "    \n",
    "    l = plt.plot(graf_geracoes, graf_aptidoes, 'ro')\n",
    "    plt.setp(l, markersize=15)\n",
    "    plt.setp(l, markerfacecolor='C0')\n",
    "\n",
    "    string = \"<h4><strong>Gráfico das aptidões:</strong></h4>\"\n",
    "    display(HTML(string))    \n",
    "    plt.show()\n",
    "    \n",
    "widgets.interact_manual.opts['manual_name'] = 'Processar algoritmo' # muda texto do botao\n",
    "interact_manual(processar); # metodo a executar quando pressionar o botao"
   ]
  }
 ],
 "metadata": {
  "kernelspec": {
   "display_name": "Python 3",
   "language": "python",
   "name": "python3"
  },
  "language_info": {
   "codemirror_mode": {
    "name": "ipython",
    "version": 3
   },
   "file_extension": ".py",
   "mimetype": "text/x-python",
   "name": "python",
   "nbconvert_exporter": "python",
   "pygments_lexer": "ipython3",
   "version": "3.7.1"
  }
 },
 "nbformat": 4,
 "nbformat_minor": 2
}
