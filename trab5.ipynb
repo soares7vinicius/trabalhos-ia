{
 "cells": [
  {
   "cell_type": "markdown",
   "metadata": {},
   "source": [
    "## Algoritmo genético que minimiza a função\n",
    "## $f(x, y) =  20 + x^{2} + y^{2} - 10[cos(2 \\pi x)+cos(2 \\pi y)]$\n",
    "\n",
    "* variáveis $x$ e $y$ no intervalo real [ -5.12; 5.12 ]\n",
    "\n",
    "<!--\n",
    "#teste forca bruta\n",
    "from math import cos, pi\n",
    "min_x = min_y = minimo = 10**10     \n",
    "\n",
    "for x in np.arange(-5.12, 5.12, 0.01):\n",
    "    for y in np.arange(-5.12, 5.12, 0.01):\n",
    "        v = 20 + x**2 + y**2 - 10*(cos(2*pi*x)+cos(2*pi*y))\n",
    "        if v < minimo:\n",
    "            minimo = v\n",
    "            min_x = x\n",
    "            min_y = y\n",
    "            \n",
    "display(minimo)\n",
    "display(min_x)\n",
    "display(min_y)\n",
    "\n",
    "'''\n",
    "max: 0.0\n",
    "x: -1.092459456231154e-13\n",
    "y: -1.092459456231154e-13\n",
    "'''\n",
    "-->"
   ]
  },
  {
   "cell_type": "code",
   "execution_count": 81,
   "metadata": {},
   "outputs": [
    {
     "name": "stdout",
     "output_type": "stream",
     "text": [
      "\n",
      "\n",
      "Tamanho da população:\n"
     ]
    },
    {
     "data": {
      "application/vnd.jupyter.widget-view+json": {
       "model_id": "873befa18b2a4e01ad5a4e0d090ffa7d",
       "version_major": 2,
       "version_minor": 0
      },
      "text/plain": [
       "interactive(children=(IntSlider(value=50, description='populacao', min=10, step=10), Output()), _dom_classes=(…"
      ]
     },
     "metadata": {},
     "output_type": "display_data"
    },
    {
     "name": "stdout",
     "output_type": "stream",
     "text": [
      "\n",
      "\n",
      "Probabilidade de cruzamento:\n"
     ]
    },
    {
     "data": {
      "application/vnd.jupyter.widget-view+json": {
       "model_id": "526c2a7590c14f1092bf534f3825e946",
       "version_major": 2,
       "version_minor": 0
      },
      "text/plain": [
       "interactive(children=(FloatSlider(value=95.0, description='cruzamento', max=95.0, min=5.0, step=0.5), Output()…"
      ]
     },
     "metadata": {},
     "output_type": "display_data"
    },
    {
     "name": "stdout",
     "output_type": "stream",
     "text": [
      "\n",
      "\n",
      "Probabilidade de mutação:\n"
     ]
    },
    {
     "data": {
      "application/vnd.jupyter.widget-view+json": {
       "model_id": "788a349deb614e4fa70954debbe6ce33",
       "version_major": 2,
       "version_minor": 0
      },
      "text/plain": [
       "interactive(children=(FloatSlider(value=1.0, description='mutacao', max=10.0, min=1.0, step=0.5), Output()), _…"
      ]
     },
     "metadata": {},
     "output_type": "display_data"
    },
    {
     "name": "stdout",
     "output_type": "stream",
     "text": [
      "\n",
      "\n",
      "Quantidade de gerações:\n"
     ]
    },
    {
     "data": {
      "application/vnd.jupyter.widget-view+json": {
       "model_id": "bbdfc720710640b1963140acad7d8bd3",
       "version_major": 2,
       "version_minor": 0
      },
      "text/plain": [
       "interactive(children=(IntSlider(value=30, description='geracoes', min=10), Output()), _dom_classes=('widget-in…"
      ]
     },
     "metadata": {},
     "output_type": "display_data"
    },
    {
     "name": "stdout",
     "output_type": "stream",
     "text": [
      "\n",
      "\n",
      "Método de seleção:\n"
     ]
    },
    {
     "data": {
      "application/vnd.jupyter.widget-view+json": {
       "model_id": "cc235dd34aa04201b145285bfee30eae",
       "version_major": 2,
       "version_minor": 0
      },
      "text/plain": [
       "interactive(children=(Dropdown(description='selecao', options=('Torneio', 'Roleta'), value='Torneio'), Output(…"
      ]
     },
     "metadata": {},
     "output_type": "display_data"
    },
    {
     "name": "stdout",
     "output_type": "stream",
     "text": [
      "\n",
      "\n",
      "Tamanho do Torneio:\n",
      " *ignorar caso o 'Método de seleção' selecionado seja diferente de 'Torneio'*\n"
     ]
    },
    {
     "data": {
      "application/vnd.jupyter.widget-view+json": {
       "model_id": "e1bab7f065b94a2fabf5f2adfe6cb144",
       "version_major": 2,
       "version_minor": 0
      },
      "text/plain": [
       "interactive(children=(IntSlider(value=10, description='tam_torneio', max=50, min=2, step=2), Output()), _dom_c…"
      ]
     },
     "metadata": {},
     "output_type": "display_data"
    },
    {
     "name": "stdout",
     "output_type": "stream",
     "text": [
      "\n",
      "\n",
      "Tamanho do elitismo:\n"
     ]
    },
    {
     "data": {
      "application/vnd.jupyter.widget-view+json": {
       "model_id": "4ad030c98e25429cb286ab056cb16fd1",
       "version_major": 2,
       "version_minor": 0
      },
      "text/plain": [
       "interactive(children=(IntSlider(value=1, description='elitismo', max=10), Output()), _dom_classes=('widget-int…"
      ]
     },
     "metadata": {},
     "output_type": "display_data"
    },
    {
     "name": "stdout",
     "output_type": "stream",
     "text": [
      "\n",
      "\n",
      "Método de cruzamento:\n"
     ]
    },
    {
     "data": {
      "application/vnd.jupyter.widget-view+json": {
       "model_id": "807a11a455ea47adb53845e2c878fd42",
       "version_major": 2,
       "version_minor": 0
      },
      "text/plain": [
       "interactive(children=(Dropdown(description='metodo_cruzamento', options=('Radcliffe', 'Wright'), value='Radcli…"
      ]
     },
     "metadata": {},
     "output_type": "display_data"
    },
    {
     "data": {
      "application/vnd.jupyter.widget-view+json": {
       "model_id": "7a66dbf588bf49548829ee0239040a63",
       "version_major": 2,
       "version_minor": 0
      },
      "text/plain": [
       "interactive(children=(Button(description='Processar algoritmo', style=ButtonStyle()), Output()), _dom_classes=…"
      ]
     },
     "metadata": {},
     "output_type": "display_data"
    }
   ],
   "source": [
    "%matplotlib inline\n",
    "import matplotlib.pyplot as plt\n",
    "from mpl_toolkits.mplot3d import Axes3D\n",
    "from matplotlib import cm\n",
    "from matplotlib.ticker import LinearLocator, FormatStrFormatter, LogLocator\n",
    "\n",
    "import numpy as np\n",
    "import pandas as pd\n",
    "\n",
    "import copy\n",
    "import random\n",
    "from math import cos, pi\n",
    "from time import sleep\n",
    "\n",
    "from ipywidgets import *\n",
    "import ipywidgets as widgets\n",
    "\n",
    "from IPython.display import display, HTML\n",
    "\n",
    "class Individuo():   \n",
    "    \n",
    "    def __init__(self, geracao=1, **kwargs):\n",
    "        if geracao == 1:\n",
    "            self.cromossomo = np.array([-5.12 + random.random() * (5.12-(-5.12)) for i in range(2)])\n",
    "        else:\n",
    "            self.cromossomo = np.empty(2)\n",
    "        self.geracao = geracao\n",
    "        self.aptidao = self.x = self.y = 0\n",
    "        self.limite_sup = 5.12\n",
    "        self.limite_inf = -5.12\n",
    "                        \n",
    "    def __repr__(self): # formata representacao do objeto quanto utiliza print/display\n",
    "        return \"{} - Apt:{:8.3f} - x1:{:8.3f} - x2:{:8.3f} - Geracao: {}\".format(self.cromossomo, self.aptidao, \n",
    "                                                                  self.x, self.y, self.geracao)\n",
    "    \n",
    "    def avaliacao(self):\n",
    "        x = self.x = self.cromossomo[0]\n",
    "        y = self.y = self.cromossomo[1]\n",
    "        self.aptidao = -1*(20 + x**2 + y**2 - 10*(cos(2*pi*x) + cos(2*pi*y))) + 100\n",
    "        \n",
    "    def cruzamento(self, outro_individuo, metodo):\n",
    "        filhos = []\n",
    "        if metodo == 'radcliffe':\n",
    "            filhos = [Individuo(geracao=self.geracao+1), Individuo(geracao=self.geracao+1)]\n",
    "            for i in range(len(self.cromossomo)):\n",
    "                beta = random.random()\n",
    "                filhos[0].cromossomo[i] = beta * self.cromossomo[i] + (1-beta) * outro_individuo.cromossomo[i] \n",
    "                filhos[1].cromossomo[i] = (1-beta) * self.cromossomo[i] +  beta * outro_individuo.cromossomo[i] \n",
    "                \n",
    "        else:\n",
    "            potenciais_filhos = [Individuo(geracao=self.geracao+1), Individuo(geracao=self.geracao+1), \n",
    "                                  Individuo(geracao=self.geracao+1)]\n",
    "            for i in range(len(self.cromossomo)):\n",
    "                potenciais_filhos[0].cromossomo[i] = 0.5 * self.cromossomo[i] + 0.5 * outro_individuo.cromossomo[i]\n",
    "                if potenciais_filhos[0].cromossomo[i] < self.limite_inf or potenciais_filhos[0].cromossomo[i] > self.limite_sup:\n",
    "                    potenciais_filhos[0].cromossomo[i] = -5.12 + random.random() * (5.12-(-5.12))\n",
    "                    \n",
    "                potenciais_filhos[1].cromossomo[i] = 1.5 * self.cromossomo[i] - 0.5 * outro_individuo.cromossomo[i]\n",
    "                if potenciais_filhos[1].cromossomo[i] < self.limite_inf or potenciais_filhos[1].cromossomo[i] > self.limite_sup:\n",
    "                    potenciais_filhos[1].cromossomo[i] = -5.12 + random.random() * (5.12-(-5.12))\n",
    "                                       \n",
    "                potenciais_filhos[2].cromossomo[i] = -0.5 * self.cromossomo[i] + 1.5 * outro_individuo.cromossomo[i]\n",
    "                if potenciais_filhos[2].cromossomo[i] < self.limite_inf or potenciais_filhos[2].cromossomo[i] > self.limite_sup:\n",
    "                    potenciais_filhos[2].cromossomo[i] = -5.12 + random.random() * (5.12-(-5.12))\n",
    "                                       \n",
    "            for i in range(len(potenciais_filhos)):\n",
    "                potenciais_filhos[i].avaliacao()\n",
    "            \n",
    "            potenciais_filhos = sorted(potenciais_filhos,\n",
    "                               key =  lambda individuo: individuo.aptidao,\n",
    "                               reverse = True)\n",
    "            potenciais_filhos = np.array(potenciais_filhos)\n",
    "            filhos = potenciais_filhos[0:2]\n",
    "        \n",
    "        return filhos\n",
    "    \n",
    "    def mutacao(self, taxa_mutacao):        \n",
    "        if random.random() < taxa_mutacao:\n",
    "            self.cromossomo[random.randint(0, 1)] = -5.12 + random.random() * (5.12-(-5.12))\n",
    "            \n",
    "        return self\n",
    "    \n",
    "\n",
    "class AlgoritmoGenetico():\n",
    "    \n",
    "    def __init__(self, tam_populacao, taxa_cruzamento, taxa_mutacao,\n",
    "                qtd_geracoes, selecao, elitismo, tam_torneio=0, **kwargs):\n",
    "        self.tam_populacao = tam_populacao\n",
    "        self.populacao = np.array([])\n",
    "        self.taxa_cruzamento = taxa_cruzamento\n",
    "        self.taxa_mutacao = taxa_mutacao\n",
    "        self.qtd_geracoes = qtd_geracoes\n",
    "        self.geracao = 0\n",
    "        self.selecao = selecao\n",
    "        self.tam_torneio = tam_torneio\n",
    "        self.elitismo = elitismo\n",
    "        self.lista_solucao = []\n",
    "        self.melhor_solucao = 0\n",
    "        self.cruzamento = cruzamento\n",
    "        self.metodo_cruzamento = metodo_cruzamento\n",
    "    \n",
    "    def inicializa_populacao(self):   \n",
    "        lista = []\n",
    "        for i in range(self.tam_populacao):\n",
    "            lista.append(Individuo())\n",
    "        self.populacao = np.array(lista)\n",
    "        self.melhor_solucao = self.populacao[0]    \n",
    "        \n",
    "    def ordena_populacao(self):\n",
    "        self.populacao = sorted(self.populacao,\n",
    "                               key =  lambda individuo: individuo.aptidao,\n",
    "                               reverse = True)\n",
    "        self.populacao = np.array(self.populacao)\n",
    "        \n",
    "    def calcula_aptidao(self):\n",
    "        for ind in self.populacao:\n",
    "            ind.avaliacao()\n",
    "    \n",
    "    def melhor_individuo(self, individuo):\n",
    "        if individuo.aptidao < self.melhor_solucao.aptidao:\n",
    "            self.melhor_solucao = individuo\n",
    "    \n",
    "    def soma_aptidoes(self):\n",
    "        soma = 0\n",
    "        for i in self.populacao:\n",
    "            soma += i.aptidao\n",
    "        return soma\n",
    "            \n",
    "    def seleciona_pais(self, soma_aptidoes=0):\n",
    "        '''\n",
    "        retorna um array com o par de pais com base no tipo de selecao\n",
    "        '''\n",
    "        if self.selecao == 'roleta':\n",
    "            r_pais = [random.random() * soma_aptidoes]\n",
    "            while True:\n",
    "                r = random.random() * soma_aptidoes\n",
    "                if r not in r_pais:\n",
    "                    r_pais.append(r)\n",
    "                    break\n",
    "                    \n",
    "            pais = []\n",
    "            for r in r_pais:\n",
    "                pai = -1\n",
    "                i = 0\n",
    "                soma = 0\n",
    "                while i < len(self.populacao) and soma < r:\n",
    "                    soma += self.populacao[i].aptidao\n",
    "                    pai += 1\n",
    "                    i += 1\n",
    "                pais.append(self.populacao[pai])\n",
    "            return pais\n",
    "        \n",
    "        elif self.selecao == 'torneio':\n",
    "            indices_torneio = random.sample(range(0, self.tam_populacao), self.tam_torneio)\n",
    "            torneio = self.populacao[indices_torneio]\n",
    "            torneio = sorted(torneio, key=lambda i: i.aptidao, reverse=True)\n",
    "            return [torneio[0], torneio[1]]\n",
    "        \n",
    "    \n",
    "    def seleciona_elitismo(self):\n",
    "        '''\n",
    "        retorna lista contendo os individuos elitistas\n",
    "        '''\n",
    "        self.ordena_populacao()\n",
    "        return self.populacao[0:self.elitismo]\n",
    "    \n",
    "    \n",
    "\n",
    "########## entradas dos parametros ##########\n",
    "\n",
    "print('\\n\\nTamanho da população:')\n",
    "def f(populacao=50):\n",
    "    return populacao\n",
    "populacao = interactive(f, populacao=(10, 100, 10))\n",
    "display(populacao)\n",
    "\n",
    "print('\\n\\nProbabilidade de cruzamento:')\n",
    "def f(cruzamento=95.0):\n",
    "    return cruzamento\n",
    "cruzamento = interactive(f, cruzamento=(5.0, 95.0, 0.5))\n",
    "display(cruzamento)\n",
    "\n",
    "print('\\n\\nProbabilidade de mutação:')\n",
    "def f(mutacao=0.1):\n",
    "    return mutacao\n",
    "mutacao = interactive(f, mutacao=(1.0, 10.0, 0.5))\n",
    "display(mutacao)\n",
    "\n",
    "print('\\n\\nQuantidade de gerações:')\n",
    "def f(geracoes=30):\n",
    "    return geracoes\n",
    "geracoes = interactive(f, geracoes=(10, 100))\n",
    "display(geracoes)\n",
    "\n",
    "print('\\n\\nMétodo de seleção:')\n",
    "def f(selecao):\n",
    "    return selecao\n",
    "selecao = interactive(f, selecao=['Torneio', 'Roleta'])\n",
    "display(selecao)\n",
    "\n",
    "print(\"\"\"\\n\\nTamanho do Torneio:\\n *ignorar caso o 'Método de seleção' selecionado seja diferente de 'Torneio'*\"\"\")\n",
    "def f(tam_torneio=10):\n",
    "    return tam_torneio\n",
    "tam_torneio = interactive(f, tam_torneio=(2, 50, 2))\n",
    "display(tam_torneio)\n",
    "\n",
    "print('\\n\\nTamanho do elitismo:')\n",
    "def f(elitismo=1):\n",
    "    return elitismo\n",
    "elitismo = interactive(f, elitismo=(0, 10))\n",
    "display(elitismo)\n",
    "\n",
    "print('\\n\\nMétodo de cruzamento:')\n",
    "def f(metodo_cruzamento):\n",
    "    return metodo_cruzamento\n",
    "metodo_cruzamento = interactive(f, metodo_cruzamento=['Radcliffe', 'Wright'])\n",
    "display(metodo_cruzamento)\n",
    "\n",
    "\n",
    "########## processamento ##########\n",
    "def teste():\n",
    "    ind = Individuo()\n",
    "    ind.avaliacao()\n",
    "    \n",
    "    ind2 = Individuo()\n",
    "    ind2.avaliacao()\n",
    "    \n",
    "    filhos = ind.cruzamento(outro_individuo=ind2, metodo='wright')\n",
    "    display(ind)\n",
    "    display(ind2)\n",
    "    display(filhos)\n",
    "    return\n",
    "\n",
    "\n",
    "def processar():\n",
    "    \n",
    "    alg = AlgoritmoGenetico(\n",
    "        tam_populacao = populacao.result,\n",
    "        taxa_cruzamento = cruzamento.result/100.0,\n",
    "        taxa_mutacao = mutacao.result/100.0,\n",
    "        qtd_geracoes = geracoes.result,\n",
    "        selecao = selecao.result.lower(),\n",
    "        elitismo = elitismo.result,\n",
    "        tam_torneio = tam_torneio.result,\n",
    "        metodo_cruzamento = metodo_cruzamento.result.lower())\n",
    "    \n",
    "    ## inicio ##\n",
    "    \n",
    "    alg.inicializa_populacao()\n",
    "    \n",
    "    melhores_apt = []\n",
    "    melhores_x = []\n",
    "    melhores_y = []\n",
    "    \n",
    "    for g in range(0, alg.qtd_geracoes):\n",
    "        #print(\"Geracao {}\".format(g+1))\n",
    "        \n",
    "        alg.calcula_aptidao()\n",
    "        alg.ordena_populacao()\n",
    "        \n",
    "        \n",
    "        nova_popu = []\n",
    "        soma_apt = alg.soma_aptidoes() if alg.selecao == 'roleta' else 0\n",
    "        for c in range(0, alg.tam_populacao, 2):\n",
    "            pais = alg.seleciona_pais(soma_apt)\n",
    "            if random.random() <= alg.taxa_cruzamento:\n",
    "                filhos = pais[0].cruzamento(pais[1], alg.metodo_cruzamento)\n",
    "                for filho in filhos:\n",
    "                    nova_popu.append(filho.mutacao(alg.taxa_mutacao))\n",
    "            else:\n",
    "                for pai in pais:\n",
    "                    nova_popu.append(pai)\n",
    "        \n",
    "        elitistas = alg.seleciona_elitismo()\n",
    "        indices = random.sample(range(0, alg.tam_populacao), len(elitistas))\n",
    "        for idx in range(0, len(elitistas)):\n",
    "            alg.populacao[indices[idx]] = elitistas[idx]\n",
    "            \n",
    "        alg.populacao = np.array(nova_popu)\n",
    "        \n",
    "        alg.calcula_aptidao()\n",
    "        alg.ordena_populacao()\n",
    "        \n",
    "        melhor = copy.deepcopy(alg.populacao[0])\n",
    "        melhor.aptidao = -1 * (melhor.aptidao - 100)\n",
    "        alg.lista_solucao.append(melhor)\n",
    "        alg.melhor_individuo(melhor)\n",
    "        \n",
    "        melhores_apt.append(melhor.aptidao)\n",
    "        melhores_x.append(melhor.x)\n",
    "        melhores_y.append(melhor.y)\n",
    "        \n",
    "        \n",
    "    string = \"<h4><strong>Geração da melhor solução:</strong> {:}</h4>\".format(alg.melhor_solucao.geracao)\n",
    "    display(HTML(string))\n",
    "    \n",
    "    string = \"<h4><strong>Melhor solução:</strong> f({:2.2f}, {:2.2f}) = {:3.3f}</h4>\" \\\n",
    "                .format(alg.melhor_solucao.x, alg.melhor_solucao.y, alg.melhor_solucao.aptidao)\n",
    "    display(HTML(string))\n",
    "    ########## graficos ##########\n",
    "    \n",
    "    l = plt.plot(list(range(1, alg.qtd_geracoes+1)), melhores_apt, 'bo')\n",
    "    plt.setp(l, markersize=5, linestyle=\"-\", label='Teste')\n",
    "    plt.title('Geração x Aptidão')\n",
    "    plt.xlabel('Geração')\n",
    "    plt.ylabel('Aptidão')\n",
    "    plt.show()\n",
    "    \n",
    "    \n",
    "    x = np.arange(-5.12, 5.12, 0.01) #### quanto menor o intervalo,mais preciso o grafico mas mais lento fica o processamento\n",
    "    y = np.arange(-5.12, 5.12, 0.01)\n",
    "    X, Y = np.meshgrid(x, y)\n",
    "    Z = 20.0 + X**2 + Y**2 - 10 * (np.cos(2*pi*X) + np.cos(2*pi*Y))\n",
    "    \n",
    "    \n",
    "    fig = plt.figure(figsize=plt.figaspect(0.3), dpi=100)\n",
    "\n",
    "    # grafico da superficie\n",
    "    ax = fig.add_subplot(1, 2, 1, projection='3d')\n",
    "    surf = ax.plot_surface(X, Y, Z, cmap='Blues', alpha=0.4)\n",
    "    ax.zaxis.set_major_locator(LinearLocator(10))\n",
    "    ax.zaxis.set_major_formatter(FormatStrFormatter('%.02f'))\n",
    "    fig.colorbar(surf, shrink=0.5, aspect=5)\n",
    "    \n",
    "    ax.scatter(melhores_x, melhores_y, s=10, c='red', label=\"Mínimos\")\n",
    "    ax.legend()\n",
    "    plt.xlabel('x')\n",
    "    plt.ylabel('y')\n",
    "    plt.title('Superfície')\n",
    "\n",
    "    # grafico do contorno\n",
    "    ax = fig.add_subplot(1, 2, 2)\n",
    "    contorno = ax.contourf(X, Y, Z, locator=LogLocator(), cmap='Blues')\n",
    "\n",
    "    ax.scatter(melhores_x, melhores_y, s=10, c='red', label='Mínimos')\n",
    "    ax.scatter([alg.melhor_solucao.x], [alg.melhor_solucao.y], s=20,\n",
    "               c='yellow', marker=\"*\", label='Melhor mínimo')\n",
    "    ax.legend()\n",
    "    plt.xlabel('x')\n",
    "    plt.ylabel('y')\n",
    "    plt.title('Contorno')\n",
    "    plt.show()\n",
    "    \n",
    "    \n",
    "    ########## /graficos ##########\n",
    "    '''\n",
    "    string = \"<h4><strong>Melhor solução:</strong> {:8.3f}</h4>\" \\\n",
    "            \"<h4><strong>X1:</strong> {:8.3f}</h4>\" \\\n",
    "            \"<h4><strong>X2:</strong> {:8.3f}</h4>\", color \\\n",
    "            \"<h4><strong>Geração:</strong> {}</h4>\".format(\n",
    "        alg.melhor_solucao.aptidao, alg.melhor_solucao.x1, alg.melhor_solucao.x2,\n",
    "        alg.melhor_solucao.geracao)\n",
    "    display(HTML(string))\n",
    "    \n",
    "    '''\n",
    "        \n",
    "    \n",
    "    \n",
    "widgets.interact_manual.opts['manual_name'] = 'Processar algoritmo' # muda texto do botao\n",
    "interact_manual(processar); # metodo a executar quando pressionar o botao"
   ]
  }
 ],
 "metadata": {
  "kernelspec": {
   "display_name": "Python 3",
   "language": "python",
   "name": "python3"
  },
  "language_info": {
   "codemirror_mode": {
    "name": "ipython",
    "version": 3
   },
   "file_extension": ".py",
   "mimetype": "text/x-python",
   "name": "python",
   "nbconvert_exporter": "python",
   "pygments_lexer": "ipython3",
   "version": "3.7.1"
  }
 },
 "nbformat": 4,
 "nbformat_minor": 2
}
