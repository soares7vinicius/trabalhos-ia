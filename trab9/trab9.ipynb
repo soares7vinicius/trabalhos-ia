{
 "cells": [
  {
   "cell_type": "markdown",
   "metadata": {},
   "source": [
    "## Rede Neural Multilayer Perceptron para reconhecimento de padrão:"
   ]
  },
  {
   "cell_type": "code",
   "execution_count": 3,
   "metadata": {},
   "outputs": [
    {
     "name": "stdout",
     "output_type": "stream",
     "text": [
      "\n",
      "\n",
      "Taxa de aprendizagem:\n"
     ]
    },
    {
     "data": {
      "application/vnd.jupyter.widget-view+json": {
       "model_id": "3077aa73b2e1413aaee20bd777daadd2",
       "version_major": 2,
       "version_minor": 0
      },
      "text/plain": [
       "FloatSlider(value=0.01, continuous_update=False, max=1.0, min=0.01, readout_format='.3f', step=0.01)"
      ]
     },
     "metadata": {},
     "output_type": "display_data"
    },
    {
     "name": "stdout",
     "output_type": "stream",
     "text": [
      "\n",
      "\n",
      "Quantidade de neurônios da camada intermediária:\n"
     ]
    },
    {
     "data": {
      "application/vnd.jupyter.widget-view+json": {
       "model_id": "24f6d1da6e284341b735bc9bdc705cfa",
       "version_major": 2,
       "version_minor": 0
      },
      "text/plain": [
       "IntSlider(value=20, continuous_update=False, min=1)"
      ]
     },
     "metadata": {},
     "output_type": "display_data"
    },
    {
     "name": "stdout",
     "output_type": "stream",
     "text": [
      "\n",
      "\n",
      "Quantidade de amostras:\n"
     ]
    },
    {
     "data": {
      "application/vnd.jupyter.widget-view+json": {
       "model_id": "ef6bae4fbe1246309e3b5077809f411b",
       "version_major": 2,
       "version_minor": 0
      },
      "text/plain": [
       "IntSlider(value=50, continuous_update=False, max=1000, min=1)"
      ]
     },
     "metadata": {},
     "output_type": "display_data"
    },
    {
     "name": "stdout",
     "output_type": "stream",
     "text": [
      "\n",
      "\n",
      "Critério de parada:\n"
     ]
    },
    {
     "data": {
      "application/vnd.jupyter.widget-view+json": {
       "model_id": "60278fe464d84dbcb8fc4c75abd46cdc",
       "version_major": 2,
       "version_minor": 0
      },
      "text/plain": [
       "RadioButtons(options=('Erro', 'Ciclos'), style=DescriptionStyle(description_width='initial'), value='Erro')"
      ]
     },
     "metadata": {},
     "output_type": "display_data"
    },
    {
     "name": "stdout",
     "output_type": "stream",
     "text": [
      "\n",
      "\n",
      "Número de ciclos:\n"
     ]
    },
    {
     "data": {
      "application/vnd.jupyter.widget-view+json": {
       "model_id": "01bd8fc103c147a19e6015143e1e6375",
       "version_major": 2,
       "version_minor": 0
      },
      "text/plain": [
       "IntSlider(value=10, continuous_update=False, max=1000, min=1, style=SliderStyle(description_width='initial'))"
      ]
     },
     "metadata": {},
     "output_type": "display_data"
    },
    {
     "name": "stdout",
     "output_type": "stream",
     "text": [
      "\n",
      "\n",
      "Erro tolerado:\n"
     ]
    },
    {
     "data": {
      "application/vnd.jupyter.widget-view+json": {
       "model_id": "aaa586c0c15147e491c2cb124c54d45e",
       "version_major": 2,
       "version_minor": 0
      },
      "text/plain": [
       "FloatSlider(value=0.1, continuous_update=False, max=1.0, readout_format='.5f', step=0.001, style=SliderStyle(d…"
      ]
     },
     "metadata": {},
     "output_type": "display_data"
    },
    {
     "data": {
      "application/vnd.jupyter.widget-view+json": {
       "model_id": "142e3d4c7b214226ab7ab3603a83ef56",
       "version_major": 2,
       "version_minor": 0
      },
      "text/plain": [
       "interactive(children=(Button(description='Treinar a rede', style=ButtonStyle()), Output()), _dom_classes=('wid…"
      ]
     },
     "metadata": {},
     "output_type": "display_data"
    }
   ],
   "source": [
    "%matplotlib inline\n",
    "import matplotlib.pyplot as plt\n",
    "from mpl_toolkits.mplot3d import Axes3D\n",
    "from matplotlib import cm\n",
    "from matplotlib.ticker import LinearLocator, FormatStrFormatter, LogLocator\n",
    "\n",
    "import numpy as np\n",
    "import pandas as pd\n",
    "\n",
    "import random\n",
    "from math import cos, tanh\n",
    "from time import sleep\n",
    "\n",
    "from ipywidgets import *\n",
    "import ipywidgets as widgets\n",
    "import re\n",
    "\n",
    "from IPython.display import display, HTML\n",
    "\n",
    "########## entradas dos parametros ##########\n",
    "style = {'description_width': 'initial'}\n",
    "\n",
    "print('\\n\\nTaxa de aprendizagem:')\n",
    "taxa_aprendizagem = widgets.FloatSlider(\n",
    "    value=0.01,\n",
    "    min=0.01,\n",
    "    max=1,\n",
    "    step=0.01,\n",
    "    disabled=False,\n",
    "    continuous_update=False,\n",
    "    orientation='horizontal',\n",
    "    readout=True,\n",
    "    readout_format='.3f',\n",
    ")\n",
    "display(taxa_aprendizagem)\n",
    "\n",
    "print('\\n\\nQuantidade de neurônios da camada intermediária:')\n",
    "qnt_neuronios = widgets.IntSlider(\n",
    "    value=20,\n",
    "    min=1,\n",
    "    max=100,\n",
    "    step=1,\n",
    "    disabled=False,\n",
    "    continuous_update=False,\n",
    "    orientation='horizontal',\n",
    "    readout=True,\n",
    "    readout_format='d'\n",
    ")\n",
    "display(qnt_neuronios)\n",
    "\n",
    "print('\\n\\nQuantidade de amostras:')\n",
    "qnt_amostras = widgets.IntSlider(\n",
    "    value=50,\n",
    "    min=1,\n",
    "    max=1000,\n",
    "    step=1,\n",
    "    disabled=False,\n",
    "    continuous_update=False,\n",
    "    orientation='horizontal',\n",
    "    readout=True,\n",
    "    readout_format='d'\n",
    ")\n",
    "display(qnt_amostras)\n",
    "\n",
    "print('\\n\\nCritério de parada:')\n",
    "parada = widgets.RadioButtons(\n",
    "    options=['Erro', 'Ciclos'],\n",
    "    disabled=False, style=style\n",
    ")\n",
    "display(parada)\n",
    "\n",
    "print('\\n\\nNúmero de ciclos:')\n",
    "ciclos = widgets.IntSlider(\n",
    "    value=10,min=1,max=1000,step=1,\n",
    "    continuous_update=False,\n",
    "    readout=True, style=style\n",
    ")\n",
    "display(ciclos)\n",
    "\n",
    "print('\\n\\nErro tolerado:')\n",
    "erro = widgets.FloatSlider(\n",
    "    value=0.1,min=0,max=1,step=0.001,\n",
    "    continuous_update=False,\n",
    "    readout=True, style=style,\n",
    "    readout_format='.5f',\n",
    ")\n",
    "display(erro)\n",
    "\n",
    "class RedeMLP():\n",
    "    def __init__(self, conjunto_entradas, targets, taxa_aprendizagem, parada, ciclos_max, \n",
    "                 erro_tolerado, qnt_neuronios, **kwargs):\n",
    "        self.numero_entradas = 256 #tamanho da imagem\n",
    "        self.numero_saidas = 10 #0-9\n",
    "        self.conjunto_entradas = np.array(conjunto_entradas)\n",
    "        self.targets = np.array(targets)\n",
    "        self.taxa_aprendizagem = taxa_aprendizagem\n",
    "        self.taxa_aprendizagem_inicial = taxa_aprendizagem\n",
    "        self.ciclos = 0\n",
    "        self.ciclos_max = ciclos_max\n",
    "        self.parada = parada\n",
    "        #Quantidade de neuronios seleciondos para camada intermediária\n",
    "        self.qnt_neuronios_intermediarios = qnt_neuronios\n",
    "        self.erro_tolerado = erro_tolerado\n",
    "        #Pesos das ligações entre as camadas inicial e intermediária; intermediária e saída\n",
    "        self.pesos_ini_inter, self.pesos_inter_saida = self.__inicializa_pesos()\n",
    "        #Iniciliza os bias da camada intermediária\n",
    "        self.bias_intermediario = np.asmatrix(np.array([random.uniform(-0.5,0.5) for saida in range(qnt_neuronios)]))\n",
    "        #Inicializa o bias da camada de saida\n",
    "        self.bias_saida = np.asmatrix(np.array([random.uniform(-0.5,0.5) for i in range(self.numero_saidas)]))\n",
    "        self.erro = 0\n",
    "        \n",
    "    def __inicializa_pesos(self):\n",
    "        pesos_ini_inter = []\n",
    "        pesos_inter_saida = []\n",
    "        \n",
    "        #mxn = onde m é o número de entradas e n é o número de neurônios da camada intermediária\n",
    "        for i in range(self.numero_entradas):\n",
    "            peso_aux = []\n",
    "            for j in range(self.qnt_neuronios_intermediarios):\n",
    "                peso_aux.append(random.uniform(-0.5,0.5))\n",
    "            pesos_ini_inter.append(peso_aux)\n",
    "        \n",
    "        #nxk onde n é o número de neurônios da camada intermediária e k é o número de saídas\n",
    "        for i in range(self.qnt_neuronios_intermediarios):\n",
    "            peso_aux = []\n",
    "            for i in range(self.numero_saidas):\n",
    "                peso_aux.append(random.uniform(-0.5,0.5))\n",
    "            pesos_inter_saida.append(peso_aux)\n",
    "            \n",
    "        #print(\"Tam peso ini_inter\", len(pesos_ini_inter[0]))\n",
    "        #print(\"Tam peso inter_saida\", len(pesos_inter_saida[0]))\n",
    "        return np.array(pesos_ini_inter), np.array(pesos_inter_saida)\n",
    "    \n",
    "    def __f_ativacao(self, matriz):\n",
    "        #print(\"ZIN\", zin)\n",
    "        out = []\n",
    "        dim = matriz.shape #dimensão da matriz\n",
    "        for i in range(dim[0]):\n",
    "            aux = []\n",
    "            for j in range(dim[1]):\n",
    "                aux.append(tanh(matriz.item(i,j)))\n",
    "            out.append(aux)\n",
    "                \n",
    "        return np.matrix(np.array(out))\n",
    "    \n",
    "    def __calcula_saida__(self, saida):\n",
    "        dists_euclidiana = []\n",
    "        for i in range(10):\n",
    "            calculo = np.sum(np.power(np.power((self.targets[i]-saida),2),0.5))\n",
    "            dists_euclidiana.append(calculo)\n",
    "        menor_valor = np.amin(dists_euclidiana)\n",
    "        id_menor_valor = dists_euclidiana.index(menor_valor)\n",
    "        return np.asmatrix(self.targets[id_menor_valor]);\n",
    "    \n",
    "    def __normaliza_saida__(self, saida):\n",
    "        saida[saida >= 0.5] = 1\n",
    "        saida[saida < 0.5] = 0\n",
    "        return saida\n",
    "        \n",
    "    \n",
    "    def treinamento(self):\n",
    "        print(\"#Parametros da função\")\n",
    "        treinada = False\n",
    "        erros = []\n",
    "        \n",
    "        while not treinada:\n",
    "            i = 0 \n",
    "            self.erro = 0\n",
    "            \n",
    "            for entrada_i in self.conjunto_entradas:\n",
    "                ####################Etapa de Forward#################################\n",
    "                ##############Camada inicial para intermediária\n",
    "                #resultado = 1xn, onde n é o número de neurônios da camada intermediária\n",
    "                \n",
    "                zin = (np.asmatrix(entrada_i) @ self.pesos_ini_inter) + self.bias_intermediario\n",
    "                z = self.__f_ativacao(zin)\n",
    "\n",
    "                ##############Camada intermediária para saída\n",
    "                yin = (z @ self.pesos_inter_saida) + self.bias_saida\n",
    "                y = self.__f_ativacao(yin)\n",
    "                #y = self.__calcula_saida__(y)\n",
    "                #print(\"y\", y)\n",
    "                \n",
    "                \n",
    "                #####################Etapa de backward\n",
    "                #Cálculo do erro\n",
    "                self.erro += 0.5 * np.sum(np.power((self.targets[i] - y), 2))\n",
    "                \n",
    "                #########cálculo dos parâmetros para correção dos erros da camada intermediária para camada de saída\n",
    "                #Calculo dos parâmetros para correção dos pesos e do bias\n",
    "                #np.multiply para se fazer uma multiplicação item por item\n",
    "                deltak = np.multiply((self.targets[i] - y).T,(1 + y).T)\n",
    "                deltak = np.multiply(deltak, (1 - y).T)\n",
    "                \n",
    "                \n",
    "                i+=1#ERRADO\n",
    "                \n",
    "                #Parâmetro para correção dos pesos\n",
    "                delta_pesos_inter_saida = deltak @ z\n",
    "                delta_pesos_inter_saida = self.taxa_aprendizagem * delta_pesos_inter_saida\n",
    "                \n",
    "                #Parâmetro para correção do bias\n",
    "                delta_bias_saida = np.multiply(self.taxa_aprendizagem, deltak)\n",
    "                \n",
    "                #print('delta pesos de saida: ', delta_pesos_inter_saida)\n",
    "                #print('delta bias de saida: ', delta_bias_saida)\n",
    "                \n",
    "                #########cálculo dos parâmetros para correção dos erros da camada entrada para camada de intermediária\n",
    "                #Calculo dos parâmetros para correção dos pesos e do bias\n",
    "                delta_in = deltak.T @ self.pesos_inter_saida.T\n",
    "                \n",
    "                \n",
    "                deltaj = np.multiply(delta_in, (1+z))\n",
    "                deltaj = np.multiply(deltaj, (1-z))\n",
    "                #print('delta_in: ', delta_in)\n",
    "                #print('deltaj: ', deltaj)\n",
    "                \n",
    "                #Parâmetro para correção dos pesos\n",
    "                delta_pesos_ini_inter = deltaj.T @ np.asmatrix(entrada_i)\n",
    "                delta_pesos_ini_inter = np.multiply(self.taxa_aprendizagem, delta_pesos_ini_inter)\n",
    "                \n",
    "                delta_bias_intermediario = np.multiply(self.taxa_aprendizagem, deltaj)\n",
    "                #print('delta pesos de intermediário: ', delta_pesos_ini_inter)\n",
    "                #print('delta bias de intermediário: ', delta_bias_intermediario)\n",
    "\n",
    "                #Correção dos pesos da camada intermediária para camada de saída e bias da camada de saída\n",
    "                self.pesos_inter_saida = self.pesos_inter_saida + delta_pesos_inter_saida.T\n",
    "                \n",
    "                self.bias_saida = (self.bias_saida + delta_bias_saida.T)\n",
    "                \n",
    "                #print(\"Pesos corrigidos da camada saída:\", self.pesos_inter_saida)\n",
    "                #print(\"bias corrigidos da camada saída:\", self.bias_saida)\n",
    "                \n",
    "                #Correção dos pesos da camada intermediária para camada de saída e bias da camada de intermediária\n",
    "                \n",
    "                self.pesos_ini_inter = self.pesos_ini_inter + delta_pesos_ini_inter.T\n",
    "                self.bias_intermediario = (self.bias_intermediario + delta_bias_intermediario)\n",
    "                #print(\"Pesos corrigidos da camada intermediária:\", self.pesos_ini_inter)\n",
    "                #print(\"bias corrigidos da camada intermediária:\", self.bias_intermediario)\n",
    "                \n",
    "                #Ajuste da taxa de aprendizagem\n",
    "            self.erro = (1/900)*self.erro\n",
    "            erros.append(self.erro)\n",
    "            print('erro', self.erro)\n",
    "            if (self.parada == 'ciclos' and self.ciclos >= self.ciclos_max) \\\n",
    "                or (self.parada == 'erro' and self.erro <= self.erro_tolerado):\n",
    "                #print('erro final: ', self.erro)\n",
    "                treinada = True\n",
    "            else:\n",
    "                self.ciclos += 1\n",
    "                \n",
    "        return list(range(0, self.ciclos+1)), erros\n",
    "    \n",
    "    def operacao(self, conjunto_testes):\n",
    "        acertos = 0\n",
    "        i = 0\n",
    "        for entrada_i in self.conjunto_entradas:\n",
    "            ####################Etapa de Forward#################################\n",
    "            ##############Camada inicial para intermediária\n",
    "            #resultado = 1xn, onde n é o número de neurônios da camada intermediária\n",
    "                \n",
    "            zin = (np.asmatrix(entrada_i) @ self.pesos_ini_inter) + self.bias_intermediario\n",
    "            z = self.__f_ativacao(zin)\n",
    "\n",
    "            ##############Camada intermediária para saída\n",
    "            yin = (z @ self.pesos_inter_saida) + self.bias_saida\n",
    "            y = self.__f_ativacao(yin)\n",
    "            print('yin0', y)\n",
    "            y = self.__normaliza_saida__(y)\n",
    "            #y = self.__calcula_saida__(y)\n",
    "            print('y', np.asmatrix(y))\n",
    "            print('t', np.asmatrix(self.targets[i]))\n",
    "            if(np.array_equal(np.asmatrix(y), np.asmatrix(self.targets[i]))):\n",
    "                acertos += 1\n",
    "            i+=1\n",
    "\n",
    "        return acertos\n",
    "\n",
    "##### definindo as entradas a partir do arquivo digitostreinamento900.txt #####\n",
    "def get_inputs_from_txt():\n",
    "    inputs = []\n",
    "    file = open('digitos/digitostreinamento900.txt', 'r')\n",
    "    for line in file :\n",
    "        line = line.split(\" \")\n",
    "        ipt = []\n",
    "        for element in line:\n",
    "            if element != \"\":\n",
    "                ipt.append(float(element))\n",
    "        inputs.append(ipt)\n",
    "    file.close()\n",
    "    return np.array(inputs)\n",
    "##############################################\n",
    "\n",
    "def get_obvs(k, m):\n",
    "    semente = np.array([[1]])\n",
    "    obvs = []\n",
    "    for i in range(k):\n",
    "        aux_obv = []\n",
    "        for j in range(2**i):\n",
    "            comb1 = np.array(np.concatenate((semente[j], semente[j])))\n",
    "            comb2 = np.array(np.concatenate((semente[j], -1*semente[j])))\n",
    "            aux_obv.append(np.array(comb1))\n",
    "            aux_obv.append(np.array(comb2))\n",
    "        semente = aux_obv\n",
    "        obvs = aux_obv\n",
    "        \n",
    "    targets = []\n",
    "    for i in range(90):\n",
    "        for j in range(10):\n",
    "            targets.append(obvs[j])\n",
    "        \n",
    "    return np.array(targets)\n",
    "\n",
    "def get_targets():\n",
    "    targets_aux = pd.read_csv('targets.csv').values\n",
    "    targets = []\n",
    "    for i in range(90):\n",
    "        for j in range(10):\n",
    "            targets.append(list(targets_aux[j]))\n",
    "        \n",
    "    return np.array(targets)\n",
    "\n",
    "def processar():\n",
    "    conjunto_entradas = get_inputs_from_txt()\n",
    "    #targets = get_obvs(4,1)\n",
    "    targets = get_targets()\n",
    "    #print(\"Conjunto de entradas:\", conjunto_entradas[0])\n",
    "    mlp = RedeMLP(\n",
    "        conjunto_entradas = conjunto_entradas, \n",
    "        targets = targets, \n",
    "        taxa_aprendizagem = taxa_aprendizagem.value,\n",
    "        parada = parada.value.lower(),\n",
    "        ciclos_max = ciclos.value,\n",
    "        erro_tolerado = erro.value,\n",
    "        qnt_neuronios = qnt_neuronios.value\n",
    "    )\n",
    "\n",
    "    #print(\"Entradas: \", mlp.conjunto_entradas)\n",
    "    lista_ciclos, lista_erros = mlp.treinamento() \n",
    "    acertos = mlp.operacao(conjunto_entradas)\n",
    "    print(acertos)\n",
    "    \n",
    "\n",
    "widgets.interact_manual.opts['manual_name'] = 'Treinar a rede' # muda texto do botao\n",
    "interact_manual(processar); # metodo a executar quando pressionar o botao"
   ]
  },
  {
   "cell_type": "code",
   "execution_count": 34,
   "metadata": {},
   "outputs": [
    {
     "ename": "ValueError",
     "evalue": "ndarray is not contiguous",
     "output_type": "error",
     "traceback": [
      "\u001b[1;31m---------------------------------------------------------------------------\u001b[0m",
      "\u001b[1;31mValueError\u001b[0m                                Traceback (most recent call last)",
      "\u001b[1;32m<ipython-input-34-8a6300ce4a5e>\u001b[0m in \u001b[0;36m<module>\u001b[1;34m\u001b[0m\n\u001b[0;32m      2\u001b[0m \u001b[1;32mimport\u001b[0m \u001b[0mnumpy\u001b[0m \u001b[1;32mas\u001b[0m \u001b[0mnp\u001b[0m\u001b[1;33m\u001b[0m\u001b[1;33m\u001b[0m\u001b[0m\n\u001b[0;32m      3\u001b[0m \u001b[0mdata\u001b[0m \u001b[1;33m=\u001b[0m \u001b[0mpd\u001b[0m\u001b[1;33m.\u001b[0m\u001b[0mread_csv\u001b[0m\u001b[1;33m(\u001b[0m\u001b[1;34m\"404-89/vij.csv\"\u001b[0m\u001b[1;33m)\u001b[0m\u001b[1;33m\u001b[0m\u001b[1;33m\u001b[0m\u001b[0m\n\u001b[1;32m----> 4\u001b[1;33m \u001b[0mprint\u001b[0m\u001b[1;33m(\u001b[0m\u001b[0mnp\u001b[0m\u001b[1;33m.\u001b[0m\u001b[0masmatrix\u001b[0m\u001b[1;33m(\u001b[0m\u001b[0mdata\u001b[0m\u001b[1;33m.\u001b[0m\u001b[0mhead\u001b[0m\u001b[1;33m(\u001b[0m\u001b[1;33m)\u001b[0m\u001b[1;33m)\u001b[0m\u001b[1;33m)\u001b[0m\u001b[1;33m\u001b[0m\u001b[1;33m\u001b[0m\u001b[0m\n\u001b[0m",
      "\u001b[1;32mC:\\ProgramData\\Anaconda3\\lib\\site-packages\\numpy\\matrixlib\\defmatrix.py\u001b[0m in \u001b[0;36masmatrix\u001b[1;34m(data, dtype)\u001b[0m\n\u001b[0;32m     69\u001b[0m \u001b[1;33m\u001b[0m\u001b[0m\n\u001b[0;32m     70\u001b[0m     \"\"\"\n\u001b[1;32m---> 71\u001b[1;33m     \u001b[1;32mreturn\u001b[0m \u001b[0mmatrix\u001b[0m\u001b[1;33m(\u001b[0m\u001b[0mdata\u001b[0m\u001b[1;33m,\u001b[0m \u001b[0mdtype\u001b[0m\u001b[1;33m=\u001b[0m\u001b[0mdtype\u001b[0m\u001b[1;33m,\u001b[0m \u001b[0mcopy\u001b[0m\u001b[1;33m=\u001b[0m\u001b[1;32mFalse\u001b[0m\u001b[1;33m)\u001b[0m\u001b[1;33m\u001b[0m\u001b[1;33m\u001b[0m\u001b[0m\n\u001b[0m\u001b[0;32m     72\u001b[0m \u001b[1;33m\u001b[0m\u001b[0m\n\u001b[0;32m     73\u001b[0m \u001b[1;33m\u001b[0m\u001b[0m\n",
      "\u001b[1;32mC:\\ProgramData\\Anaconda3\\lib\\site-packages\\numpy\\matrixlib\\defmatrix.py\u001b[0m in \u001b[0;36m__new__\u001b[1;34m(subtype, data, dtype, copy)\u001b[0m\n\u001b[0;32m    164\u001b[0m         ret = N.ndarray.__new__(subtype, shape, arr.dtype,\n\u001b[0;32m    165\u001b[0m                                 \u001b[0mbuffer\u001b[0m\u001b[1;33m=\u001b[0m\u001b[0marr\u001b[0m\u001b[1;33m,\u001b[0m\u001b[1;33m\u001b[0m\u001b[1;33m\u001b[0m\u001b[0m\n\u001b[1;32m--> 166\u001b[1;33m                                 order=order)\n\u001b[0m\u001b[0;32m    167\u001b[0m         \u001b[1;32mreturn\u001b[0m \u001b[0mret\u001b[0m\u001b[1;33m\u001b[0m\u001b[1;33m\u001b[0m\u001b[0m\n\u001b[0;32m    168\u001b[0m \u001b[1;33m\u001b[0m\u001b[0m\n",
      "\u001b[1;31mValueError\u001b[0m: ndarray is not contiguous"
     ]
    }
   ],
   "source": [
    "teste = np.array([ [1,2,3], [3,4,5], [6,8,7]])\n",
    "teste1 = np.array([1,1,1])\n",
    "print(teste-teste1)"
   ]
  },
  {
   "cell_type": "code",
   "execution_count": 42,
   "metadata": {},
   "outputs": [
    {
     "data": {
      "text/plain": [
       "array([ 1.,  2.,  3.,  4.,  5.,  6.,  7.,  8.,  9., 10.])"
      ]
     },
     "execution_count": 42,
     "metadata": {},
     "output_type": "execute_result"
    }
   ],
   "source": [
    "np.linspace(1, 10, 10)"
   ]
  },
  {
   "cell_type": "code",
   "execution_count": 70,
   "metadata": {},
   "outputs": [
    {
     "name": "stdout",
     "output_type": "stream",
     "text": [
      "[[-0.22354054 -0.61118557  0.03716968 -0.2317244  -0.4144495  -0.05752555\n",
      "  -0.86821146  0.3014956   0.04521217  0.19666127 -0.15475972 -0.25142094\n",
      "   0.07633184  0.4075155  -0.06897117  0.1118349   1.01426525 -0.25805678\n",
      "   0.24749779  0.14361168 -0.14910899 -0.60085866  0.02685383  0.3085577\n",
      "  -0.42033196  0.03933269  0.23263577  0.2446363  -0.45036318 -0.31725727\n",
      "  -0.33673836  0.47271518  0.4897469  -0.43765284 -0.16178674]]\n",
      "(256, 35)\n",
      "(1, 35)\n",
      "(35, 16)\n"
     ]
    }
   ],
   "source": [
    "v0j = read_matrix_in_file('392-87/v0j.txt')\n",
    "vij = read_matrix_in_file('392-87/vij.txt')\n",
    "w0j = read_matrix_in_file('392-87/w0j.txt')\n",
    "wij = read_matrix_in_file('392-87/wij.txt')\n",
    "print(v0j.shape)\n",
    "print(vij.shape)\n",
    "print(w0j.shape)\n",
    "print(wij.shape)"
   ]
  },
  {
   "cell_type": "code",
   "execution_count": 69,
   "metadata": {},
   "outputs": [],
   "source": [
    "def read_matrix_in_file(path):\n",
    "    file = open(path)\n",
    "    matrix = []\n",
    "    for line in file:\n",
    "        matrix.append(list(map(float, line.split(','))))\n",
    "    return np.asmatrix(matrix)\n",
    "    "
   ]
  },
  {
   "cell_type": "code",
   "execution_count": null,
   "metadata": {},
   "outputs": [],
   "source": []
  }
 ],
 "metadata": {
  "kernelspec": {
   "display_name": "Python 3",
   "language": "python",
   "name": "python3"
  },
  "language_info": {
   "codemirror_mode": {
    "name": "ipython",
    "version": 3
   },
   "file_extension": ".py",
   "mimetype": "text/x-python",
   "name": "python",
   "nbconvert_exporter": "python",
   "pygments_lexer": "ipython3",
   "version": "3.7.3"
  }
 },
 "nbformat": 4,
 "nbformat_minor": 2
}
