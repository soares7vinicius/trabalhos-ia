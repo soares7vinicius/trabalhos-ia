{
 "cells": [
  {
   "cell_type": "markdown",
   "metadata": {},
   "source": [
    "## Algoritmo genético que maximiza a função\n",
    "### $f(x_{1}, x_{2}) =  21.5 + x_{1}sen(4 \\pi x_{1}) + x_{2}sen(20 \\pi x_{2})$\n",
    "\n",
    "* variável $x_{1}$ definida no intervalo real [ –3.1; 12.1 ]\n",
    "* variável $x_{2}$ definida no intervalo real [ 4.1; 5.8 ]\n",
    "\n",
    "\n",
    "<!--\n",
    "#teste forca bruta\n",
    "max_x = max_y = maximo = 0     \n",
    "\n",
    "for x in np.arange(-3.1, 12.1, 0.001):\n",
    "    for y in np.arange(4.1, 5.8, 0.001):\n",
    "        v = 21.5 + x * sin(4*pi*x) + y * sin(20*pi*y)\n",
    "        if v > maximo:\n",
    "            maximo = v\n",
    "            max_x = x\n",
    "            max_y = y\n",
    "            \n",
    "display(maximo)\n",
    "display(max_x)\n",
    "display(max_y)\n",
    "\n",
    "'''\n",
    "max: 38.85008205991546\n",
    "x: 11.62599999999838\n",
    "y: 5.725000000000542\n",
    "'''\n",
    "-->"
   ]
  },
  {
   "cell_type": "code",
   "execution_count": 1,
   "metadata": {},
   "outputs": [
    {
     "name": "stdout",
     "output_type": "stream",
     "text": [
      "\n",
      "\n",
      "Tamanho do cromossomo:\n"
     ]
    },
    {
     "data": {
      "application/vnd.jupyter.widget-view+json": {
       "model_id": "2569b99e5a984169a92b095fc9899252",
       "version_major": 2,
       "version_minor": 0
      },
      "text/plain": [
       "interactive(children=(IntSlider(value=10, description='cromossomo', max=20, min=6, step=2), Output()), _dom_cl…"
      ]
     },
     "metadata": {},
     "output_type": "display_data"
    },
    {
     "name": "stdout",
     "output_type": "stream",
     "text": [
      "\n",
      "\n",
      "Tamanho da população:\n"
     ]
    },
    {
     "data": {
      "application/vnd.jupyter.widget-view+json": {
       "model_id": "9132b5f9a0b044e291a2e04c2e399a5e",
       "version_major": 2,
       "version_minor": 0
      },
      "text/plain": [
       "interactive(children=(IntSlider(value=50, description='populacao', min=10, step=10), Output()), _dom_classes=(…"
      ]
     },
     "metadata": {},
     "output_type": "display_data"
    },
    {
     "name": "stdout",
     "output_type": "stream",
     "text": [
      "\n",
      "\n",
      "Probabilidade de cruzamento:\n"
     ]
    },
    {
     "data": {
      "application/vnd.jupyter.widget-view+json": {
       "model_id": "be841dcd764649b9b3839ee645fe6163",
       "version_major": 2,
       "version_minor": 0
      },
      "text/plain": [
       "interactive(children=(FloatSlider(value=95.0, description='cruzamento', max=95.0, min=5.0, step=0.5), Output()…"
      ]
     },
     "metadata": {},
     "output_type": "display_data"
    },
    {
     "name": "stdout",
     "output_type": "stream",
     "text": [
      "\n",
      "\n",
      "Probabilidade de mutação:\n"
     ]
    },
    {
     "data": {
      "application/vnd.jupyter.widget-view+json": {
       "model_id": "b3b7fbbbffbc444f8ff219658ff09145",
       "version_major": 2,
       "version_minor": 0
      },
      "text/plain": [
       "interactive(children=(FloatSlider(value=1.0, description='mutacao', max=10.0, min=1.0, step=0.5), Output()), _…"
      ]
     },
     "metadata": {},
     "output_type": "display_data"
    },
    {
     "name": "stdout",
     "output_type": "stream",
     "text": [
      "\n",
      "\n",
      "Quantidade de gerações:\n"
     ]
    },
    {
     "data": {
      "application/vnd.jupyter.widget-view+json": {
       "model_id": "dd1677ade2e8492e866d18c6274f8327",
       "version_major": 2,
       "version_minor": 0
      },
      "text/plain": [
       "interactive(children=(IntSlider(value=30, description='geracoes', min=10), Output()), _dom_classes=('widget-in…"
      ]
     },
     "metadata": {},
     "output_type": "display_data"
    },
    {
     "name": "stdout",
     "output_type": "stream",
     "text": [
      "\n",
      "\n",
      "Método de seleção:\n"
     ]
    },
    {
     "data": {
      "application/vnd.jupyter.widget-view+json": {
       "model_id": "e7469230513b433c873060447902e88e",
       "version_major": 2,
       "version_minor": 0
      },
      "text/plain": [
       "interactive(children=(Dropdown(description='selecao', options=('Roleta', 'Torneio'), value='Roleta'), Output()…"
      ]
     },
     "metadata": {},
     "output_type": "display_data"
    },
    {
     "name": "stdout",
     "output_type": "stream",
     "text": [
      "\n",
      "\n",
      "Tamanho do Torneio:\n",
      " *ignorar caso o 'Método de seleção' selecionado seja diferente de 'Torneio'*\n"
     ]
    },
    {
     "data": {
      "application/vnd.jupyter.widget-view+json": {
       "model_id": "7c963d66a1c241cca0cc15c7aa6f8bab",
       "version_major": 2,
       "version_minor": 0
      },
      "text/plain": [
       "interactive(children=(IntSlider(value=10, description='tam_torneio', max=50, min=2, step=2), Output()), _dom_c…"
      ]
     },
     "metadata": {},
     "output_type": "display_data"
    },
    {
     "name": "stdout",
     "output_type": "stream",
     "text": [
      "\n",
      "\n",
      "Tamanho do elitismo:\n"
     ]
    },
    {
     "data": {
      "application/vnd.jupyter.widget-view+json": {
       "model_id": "4f73575fdce748d98da56d7539d5a24e",
       "version_major": 2,
       "version_minor": 0
      },
      "text/plain": [
       "interactive(children=(IntSlider(value=1, description='elitismo', max=2), Output()), _dom_classes=('widget-inte…"
      ]
     },
     "metadata": {},
     "output_type": "display_data"
    },
    {
     "name": "stdout",
     "output_type": "stream",
     "text": [
      "\n",
      "\n",
      "Quantidade de pontos nos cruzamentos:\n"
     ]
    },
    {
     "data": {
      "application/vnd.jupyter.widget-view+json": {
       "model_id": "f85311f6ded04f2c80c1e5b1fb978973",
       "version_major": 2,
       "version_minor": 0
      },
      "text/plain": [
       "interactive(children=(IntSlider(value=1, description='pontos', max=2, min=1), Output()), _dom_classes=('widget…"
      ]
     },
     "metadata": {},
     "output_type": "display_data"
    },
    {
     "data": {
      "application/vnd.jupyter.widget-view+json": {
       "model_id": "aaf068621c8643e4a6b2d803cf64caa3",
       "version_major": 2,
       "version_minor": 0
      },
      "text/plain": [
       "interactive(children=(Button(description='Processar algoritmo', style=ButtonStyle()), Output()), _dom_classes=…"
      ]
     },
     "metadata": {},
     "output_type": "display_data"
    }
   ],
   "source": [
    "%matplotlib inline\n",
    "import matplotlib.pyplot as plt\n",
    "from mpl_toolkits.mplot3d import Axes3D\n",
    "from matplotlib import cm\n",
    "from matplotlib.ticker import LinearLocator, FormatStrFormatter, LogLocator\n",
    "\n",
    "import numpy as np\n",
    "import pandas as pd\n",
    "\n",
    "import random\n",
    "from math import sin, pi\n",
    "from time import sleep\n",
    "\n",
    "from ipywidgets import *\n",
    "import ipywidgets as widgets\n",
    "\n",
    "from IPython.display import display, HTML\n",
    "\n",
    "class Individuo():   \n",
    "    \n",
    "    def __init__(self, qtd_cromossomos, geracao=1, **kwargs):\n",
    "        self.qtd_cromossomos = qtd_cromossomos\n",
    "        self.cromossomo = np.array([random.randint(0, 1) for i in range(qtd_cromossomos)])\n",
    "        self.geracao = geracao\n",
    "        self.aptidao = 0\n",
    "        self.x1 = 0\n",
    "        self.x2 = 0\n",
    "        self.x1_sup = 12.1\n",
    "        self.x1_inf = -3.1\n",
    "        self.x2_sup = 5.8\n",
    "        self.x2_inf = 4.1\n",
    "                        \n",
    "    def __repr__(self): # formata representacao do objeto quanto utiliza print/display\n",
    "        return \"{} - Apt:{:8.3f} - x1:{:8.3f} - x2:{:8.3f} - Geracao: {}\".format(self.cromossomo, self.aptidao, \n",
    "                                                                  self.x1, self.x2,self.geracao)\n",
    "    \n",
    "    def avaliacao(self):\n",
    "        r1 = self.cromossomo[0:int(self.qtd_cromossomos/2)]\n",
    "        r2 = self.cromossomo[int(self.qtd_cromossomos/2)::]\n",
    "        r1 = int(''.join([str(i) for i in r1]), 2) #valor decimal da primeira metade\n",
    "        r2 = int(''.join([str(i) for i in r2]), 2) #valor decimal da segunda metade\n",
    "        x1 = self.x1_inf + ((self.x1_sup - self.x1_inf)/(2**(self.qtd_cromossomos/2) - 1) * r1)\n",
    "        x2 = self.x2_inf + ((self.x2_sup - self.x2_inf)/(2**(self.qtd_cromossomos/2) - 1) * r2)\n",
    "        self.aptidao = 21.5 + x1 * sin(4*pi*x1) + x2 * sin(20*pi*x2)\n",
    "        self.x1 = x1\n",
    "        self.x2 = x2\n",
    "        \n",
    "    def cruzamento(self, outro_individuo, qtd_pontos):\n",
    "        ponto = random.sample(range(1, self.qtd_cromossomos), qtd_pontos)\n",
    "        ponto.sort()\n",
    "        \n",
    "        if qtd_pontos == 1:\n",
    "            filho1_cromossomo = np.concatenate((self.cromossomo[0:ponto[0]], outro_individuo.cromossomo[ponto[0]::]))\n",
    "            filho2_cromossomo = np.concatenate((outro_individuo.cromossomo[0:ponto[0]], self.cromossomo[ponto[0]::]))\n",
    "        elif qtd_pontos == 2:\n",
    "            filho1_cromossomo = np.concatenate((self.cromossomo[0:ponto[0]], outro_individuo.cromossomo[ponto[0]:ponto[1]],\n",
    "                self.cromossomo[ponto[1]::]))\n",
    "            filho2_cromossomo = np.concatenate((outro_individuo.cromossomo[0:ponto[0]], self.cromossomo[ponto[0]:ponto[1]],\n",
    "                outro_individuo.cromossomo[ponto[1]::]))\n",
    "        \n",
    "        filhos = [Individuo(qtd_cromossomos=self.qtd_cromossomos, geracao=self.geracao+1),\n",
    "                 Individuo(qtd_cromossomos=self.qtd_cromossomos, geracao=self.geracao+1)]\n",
    "        filhos[0].cromossomo = filho1_cromossomo\n",
    "        filhos[1].cromossomo = filho2_cromossomo\n",
    "        \n",
    "        return filhos\n",
    "    \n",
    "    def mutacao(self, taxa_mutacao):        \n",
    "        for i in range(len(self.cromossomo)):\n",
    "            if random.random() < taxa_mutacao:     \n",
    "                self.cromossomo[i] = 0 if self.cromossomo[i] == 1 else 1\n",
    "        return self\n",
    "    \n",
    "\n",
    "class AlgoritmoGenetico():\n",
    "    \n",
    "    def __init__(self, tam_populacao, qtd_cromossomos, taxa_cruzamento, taxa_mutacao,\n",
    "                qtd_geracoes, selecao, elitismo, pontos, tam_torneio=0, **kwargs):\n",
    "        self.tam_populacao = tam_populacao\n",
    "        self.populacao = np.array([])\n",
    "        self.qtd_cromossomos = qtd_cromossomos\n",
    "        self.taxa_cruzamento = taxa_cruzamento\n",
    "        self.taxa_mutacao = taxa_mutacao\n",
    "        self.qtd_geracoes = qtd_geracoes\n",
    "        self.geracao = 0\n",
    "        self.selecao = selecao\n",
    "        self.tam_torneio = tam_torneio\n",
    "        self.elitismo = elitismo\n",
    "        self.pontos = pontos\n",
    "        self.lista_solucao = []\n",
    "        self.melhor_solucao = 0\n",
    "    \n",
    "    def inicializa_populacao(self):   \n",
    "        lista = []\n",
    "        for i in range(self.tam_populacao):\n",
    "            lista.append(Individuo(qtd_cromossomos=self.qtd_cromossomos))\n",
    "        self.populacao = np.array(lista)\n",
    "        self.melhor_solucao = self.populacao[0]    \n",
    "        \n",
    "    def ordena_populacao(self):\n",
    "        self.populacao = sorted(self.populacao,\n",
    "                               key =  lambda individuo: individuo.aptidao,\n",
    "                               reverse = True)\n",
    "        self.populacao = np.array(self.populacao)\n",
    "        \n",
    "    def calcula_aptidao(self):\n",
    "        for ind in self.populacao:\n",
    "            ind.avaliacao()\n",
    "    \n",
    "    def melhor_individuo(self, individuo):\n",
    "        if individuo.aptidao > self.melhor_solucao.aptidao:\n",
    "            self.melhor_solucao = individuo\n",
    "    \n",
    "    def soma_aptidoes(self):\n",
    "        soma = 0\n",
    "        for i in self.populacao:\n",
    "            soma += i.aptidao\n",
    "        return soma\n",
    "            \n",
    "    def seleciona_pais(self, soma_aptidoes=0):\n",
    "        '''\n",
    "        retorna um array com o par de pais com base no tipo de selecao\n",
    "        '''\n",
    "        if self.selecao == 'roleta':\n",
    "            r_pais = [random.random() * soma_aptidoes]\n",
    "            while True:\n",
    "                r = random.random() * soma_aptidoes\n",
    "                if r not in r_pais:\n",
    "                    r_pais.append(r)\n",
    "                    break\n",
    "                    \n",
    "            pais = []\n",
    "            for r in r_pais:\n",
    "                pai = -1\n",
    "                i = 0\n",
    "                soma = 0\n",
    "                while i < len(self.populacao) and soma < r:\n",
    "                    soma += self.populacao[i].aptidao\n",
    "                    pai += 1\n",
    "                    i += 1\n",
    "                pais.append(self.populacao[pai])\n",
    "            return pais\n",
    "        \n",
    "        elif self.selecao == 'torneio':\n",
    "            indices_torneio = random.sample(range(0, self.tam_populacao), self.tam_torneio)\n",
    "            torneio = self.populacao[indices_torneio]\n",
    "            torneio = sorted(torneio, key=lambda i: i.aptidao, reverse=True)\n",
    "            return [torneio[0], torneio[1]]\n",
    "        \n",
    "    \n",
    "    def seleciona_elitismo(self):\n",
    "        '''\n",
    "        retorna lista contendo os individuos elitistas\n",
    "        '''\n",
    "        self.ordena_populacao()\n",
    "        return self.populacao[0:self.elitismo]\n",
    "    \n",
    "    \n",
    "\n",
    "########## entradas dos parametros ##########\n",
    "\n",
    "print('\\n\\nTamanho do cromossomo:')\n",
    "def f(cromossomo=10):\n",
    "    return cromossomo\n",
    "cromossomo = interactive(f, cromossomo=(6, 20, 2))\n",
    "display(cromossomo)\n",
    "\n",
    "print('\\n\\nTamanho da população:')\n",
    "def f(populacao=50):\n",
    "    return populacao\n",
    "populacao = interactive(f, populacao=(10, 100, 10))\n",
    "display(populacao)\n",
    "\n",
    "print('\\n\\nProbabilidade de cruzamento:')\n",
    "def f(cruzamento=95.0):\n",
    "    return cruzamento\n",
    "cruzamento = interactive(f, cruzamento=(5.0, 95.0, 0.5))\n",
    "display(cruzamento)\n",
    "\n",
    "print('\\n\\nProbabilidade de mutação:')\n",
    "def f(mutacao=0.1):\n",
    "    return mutacao\n",
    "mutacao = interactive(f, mutacao=(1.0, 10.0, 0.5))\n",
    "display(mutacao)\n",
    "\n",
    "print('\\n\\nQuantidade de gerações:')\n",
    "def f(geracoes=30):\n",
    "    return geracoes\n",
    "geracoes = interactive(f, geracoes=(10, 100))\n",
    "display(geracoes)\n",
    "\n",
    "print('\\n\\nMétodo de seleção:')\n",
    "def f(selecao):\n",
    "    return selecao\n",
    "selecao = interactive(f, selecao=['Roleta', 'Torneio'])\n",
    "display(selecao)\n",
    "\n",
    "print(\"\"\"\\n\\nTamanho do Torneio:\\n *ignorar caso o 'Método de seleção' selecionado seja diferente de 'Torneio'*\"\"\")\n",
    "def f(tam_torneio=10):\n",
    "    return tam_torneio\n",
    "tam_torneio = interactive(f, tam_torneio=(2, 50, 2))\n",
    "display(tam_torneio)\n",
    "\n",
    "print('\\n\\nTamanho do elitismo:')\n",
    "def f(elitismo=1):\n",
    "    return elitismo\n",
    "elitismo = interactive(f, elitismo=(0, 2))\n",
    "display(elitismo)\n",
    "\n",
    "print('\\n\\nQuantidade de pontos nos cruzamentos:')\n",
    "def f(pontos):\n",
    "    return pontos\n",
    "pontos = interactive(f, pontos=(1, 2))\n",
    "display(pontos)\n",
    "\n",
    "\n",
    "########## processamento ##########\n",
    "def processar():\n",
    "    \n",
    "    alg = AlgoritmoGenetico(\n",
    "        tam_populacao = populacao.result, \n",
    "        qtd_cromossomos = cromossomo.result,\n",
    "        taxa_cruzamento = cruzamento.result/100.0,\n",
    "        taxa_mutacao = mutacao.result/100.0,\n",
    "        qtd_geracoes = geracoes.result,\n",
    "        selecao = selecao.result.lower(),\n",
    "        elitismo = elitismo.result,\n",
    "        pontos = pontos.result,\n",
    "        tam_torneio = tam_torneio.result)\n",
    "    \n",
    "    ## inicio ##\n",
    "    \n",
    "    alg.inicializa_populacao()\n",
    "    \n",
    "    x1 = np.arange(-3.1, 12.1, 0.01) #### quanto menor o intervalo,mais preciso o grafico mas mais lento fica o processamento\n",
    "    x2 = np.arange(4.1, 5.8, 0.01)\n",
    "    X1, X2 = np.meshgrid(x1, x2)\n",
    "    Z = 21.5 + X1 * np.sin(4*pi*X1) + X2 * np.sin(20*pi*X2)\n",
    "    melhores_x1 = []\n",
    "    melhores_x2 = []\n",
    "    melhores_apt = []\n",
    "    \n",
    "    for g in range(0, alg.qtd_geracoes):\n",
    "        #print(\"Geracao {}\".format(g+1))\n",
    "        \n",
    "        alg.calcula_aptidao()\n",
    "        alg.ordena_populacao()\n",
    "        \n",
    "        \n",
    "        nova_popu = []\n",
    "        soma_apt = alg.soma_aptidoes() if alg.selecao == 'roleta' else 0\n",
    "        for c in range(0, alg.tam_populacao, 2):\n",
    "            pais = alg.seleciona_pais(soma_apt)\n",
    "            if random.random() <= alg.taxa_cruzamento:\n",
    "                filhos = pais[0].cruzamento(pais[1], alg.pontos)\n",
    "                for filho in filhos:\n",
    "                    nova_popu.append(filho.mutacao(alg.taxa_mutacao))\n",
    "            else:\n",
    "                for pai in pais:\n",
    "                    nova_popu.append(pai)\n",
    "        \n",
    "        elitistas = alg.seleciona_elitismo()\n",
    "        indices = random.sample(range(0, alg.tam_populacao), len(elitistas))\n",
    "        for idx in range(0, len(elitistas)):\n",
    "            alg.populacao[indices[idx]] = elitistas[idx]\n",
    "            \n",
    "        alg.populacao = np.array(nova_popu)\n",
    "        \n",
    "        alg.calcula_aptidao()\n",
    "        alg.ordena_populacao()\n",
    "        alg.lista_solucao.append(alg.populacao[0])\n",
    "        alg.melhor_individuo(alg.populacao[0])\n",
    "        melhores_x1.append(alg.melhor_solucao.x1)\n",
    "        melhores_x2.append(alg.melhor_solucao.x2)\n",
    "        melhores_apt.append(alg.melhor_solucao.aptidao)\n",
    "        \n",
    "        \n",
    "    \n",
    "    ########## graficos ##########\n",
    "    fig = plt.figure(figsize=plt.figaspect(0.2), dpi=200)\n",
    "\n",
    "    # grafico da superficie\n",
    "    ax = fig.add_subplot(1, 2, 1, projection='3d')\n",
    "    surf = ax.plot_surface(X1, X2, Z, cmap='inferno', alpha=0.5)\n",
    "    ax.zaxis.set_major_locator(LinearLocator(10))\n",
    "    ax.zaxis.set_major_formatter(FormatStrFormatter('%.02f'))\n",
    "    fig.colorbar(surf, shrink=0.5, aspect=5)\n",
    "\n",
    "    ax.scatter(melhores_x1, melhores_x2, melhores_apt)\n",
    "\n",
    "    # grafico do contorno\n",
    "    ax = fig.add_subplot(1, 2, 2)\n",
    "    contorno = ax.contourf(X1, X2, Z, locator=LogLocator(), cmap='inferno')\n",
    "\n",
    "    ax.scatter(melhores_x1, melhores_x2, melhores_apt)\n",
    "\n",
    "    plt.show()\n",
    "    ########## /graficos ##########\n",
    "\n",
    "    ## fim ##\n",
    "    #display(alg.lista_solucao)\n",
    "    \n",
    "    ########## graficos ##########\n",
    "    fig = plt.figure(figsize=plt.figaspect(0.2), dpi=200)\n",
    "\n",
    "    # grafico da superficie\n",
    "    ax = fig.add_subplot(1, 2, 1, projection='3d')\n",
    "    surf = ax.plot_surface(X1, X2, Z, cmap='inferno', alpha=0.5)\n",
    "    ax.zaxis.set_major_locator(LinearLocator(10))\n",
    "    ax.zaxis.set_major_formatter(FormatStrFormatter('%.02f'))\n",
    "    fig.colorbar(surf, shrink=0.5, aspect=5)\n",
    "\n",
    "    ax.scatter(alg.melhor_solucao.x1, alg.melhor_solucao.x2, alg.melhor_solucao.aptidao,\n",
    "              label=\"{:8.3f}\".format(alg.melhor_solucao.aptidao))\n",
    "    ax.legend()\n",
    "\n",
    "    # grafico do contorno\n",
    "    ax = fig.add_subplot(1, 2, 2)\n",
    "    contorno = ax.contourf(X1, X2, Z, locator=LogLocator(), cmap='inferno')\n",
    "\n",
    "    ax.scatter(alg.melhor_solucao.x1, alg.melhor_solucao.x2, alg.melhor_solucao.aptidao,\n",
    "              label=\"{:8.3f}\".format(alg.melhor_solucao.aptidao))\n",
    "    ax.legend()\n",
    "\n",
    "    plt.show()\n",
    "    ########## /graficos ##########\n",
    "    string = \"<h4><strong>Melhor solução:</strong> {:8.3f}</h4>\" \\\n",
    "            \"<h4><strong>X1:</strong> {:8.3f}</h4>\" \\\n",
    "            \"<h4><strong>X2:</strong> {:8.3f}</h4>\" \\\n",
    "            \"<h4><strong>Geração:</strong> {}</h4>\".format(\n",
    "        alg.melhor_solucao.aptidao, alg.melhor_solucao.x1, alg.melhor_solucao.x2,\n",
    "        alg.melhor_solucao.geracao)\n",
    "    display(HTML(string))\n",
    "    \n",
    "    \n",
    "widgets.interact_manual.opts['manual_name'] = 'Processar algoritmo' # muda texto do botao\n",
    "interact_manual(processar); # metodo a executar quando pressionar o botao"
   ]
  }
 ],
 "metadata": {
  "kernelspec": {
   "display_name": "Python 3",
   "language": "python",
   "name": "python3"
  },
  "language_info": {
   "codemirror_mode": {
    "name": "ipython",
    "version": 3
   },
   "file_extension": ".py",
   "mimetype": "text/x-python",
   "name": "python",
   "nbconvert_exporter": "python",
   "pygments_lexer": "ipython3",
   "version": "3.7.1"
  }
 },
 "nbformat": 4,
 "nbformat_minor": 2
}
