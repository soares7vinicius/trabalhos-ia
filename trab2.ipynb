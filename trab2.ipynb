{
 "cells": [
  {
   "cell_type": "markdown",
   "metadata": {},
   "source": [
    "## Algoritmo genético que maximiza a função\n",
    "### $f(x_{1}, x_{2}) =  21.5 + x_{1}sen(4 \\pi x_{1}) + x_{2}sen(20 \\pi x_{2})$\n",
    "\n",
    "* variável x1 definida no intervalo real [ –3.1; 12.1 ]\n",
    "* variável x2 definida no intervalo real [ 4.1; 5.8 ]"
   ]
  },
  {
   "cell_type": "code",
   "execution_count": 12,
   "metadata": {},
   "outputs": [],
   "source": [
    "#importando bibliotecas\n",
    "\n",
    "%matplotlib inline\n",
    "import matplotlib.pyplot as plt\n",
    "import numpy as np\n",
    "\n",
    "import random\n",
    "from math import sin, pi\n",
    "\n",
    "from ipywidgets import *\n",
    "import ipywidgets as widgets\n",
    "from IPython.display import display"
   ]
  },
  {
   "cell_type": "code",
   "execution_count": 16,
   "metadata": {
    "slideshow": {
     "slide_type": "-"
    }
   },
   "outputs": [
    {
     "name": "stdout",
     "output_type": "stream",
     "text": [
      "\n",
      "\n",
      "Tamanho do cromossomo:\n"
     ]
    },
    {
     "data": {
      "application/vnd.jupyter.widget-view+json": {
       "model_id": "ae9df0aa76dc4174b972a48d601ca493",
       "version_major": 2,
       "version_minor": 0
      },
      "text/plain": [
       "interactive(children=(IntSlider(value=6, description='cromossomo', max=12, min=6), Output()), _dom_classes=('w…"
      ]
     },
     "metadata": {},
     "output_type": "display_data"
    },
    {
     "name": "stdout",
     "output_type": "stream",
     "text": [
      "\n",
      "\n",
      "Tamanho da população:\n"
     ]
    },
    {
     "data": {
      "application/vnd.jupyter.widget-view+json": {
       "model_id": "beb84e6a56f743f48a954d5b236a704f",
       "version_major": 2,
       "version_minor": 0
      },
      "text/plain": [
       "interactive(children=(IntSlider(value=50, description='populacao', min=10, step=2), Output()), _dom_classes=('…"
      ]
     },
     "metadata": {},
     "output_type": "display_data"
    },
    {
     "name": "stdout",
     "output_type": "stream",
     "text": [
      "\n",
      "\n",
      "Probabilidade de cruzamento:\n"
     ]
    },
    {
     "data": {
      "application/vnd.jupyter.widget-view+json": {
       "model_id": "d10a8dd25c444f1eb067508cfa06cbe9",
       "version_major": 2,
       "version_minor": 0
      },
      "text/plain": [
       "interactive(children=(FloatSlider(value=95.0, description='cruzamento', max=95.0, min=5.0, step=0.5), Output()…"
      ]
     },
     "metadata": {},
     "output_type": "display_data"
    },
    {
     "name": "stdout",
     "output_type": "stream",
     "text": [
      "\n",
      "\n",
      "Probabilidade de mutação:\n"
     ]
    },
    {
     "data": {
      "application/vnd.jupyter.widget-view+json": {
       "model_id": "b60217aa29e74454afef770916375742",
       "version_major": 2,
       "version_minor": 0
      },
      "text/plain": [
       "interactive(children=(FloatSlider(value=1.0, description='mutacao', max=10.0, min=1.0, step=0.5), Output()), _…"
      ]
     },
     "metadata": {},
     "output_type": "display_data"
    },
    {
     "name": "stdout",
     "output_type": "stream",
     "text": [
      "\n",
      "\n",
      "Quantidade de gerações:\n"
     ]
    },
    {
     "data": {
      "application/vnd.jupyter.widget-view+json": {
       "model_id": "92995fc01e9b493eb09ec73dd1065b50",
       "version_major": 2,
       "version_minor": 0
      },
      "text/plain": [
       "interactive(children=(IntSlider(value=30, description='geracoes', min=10), Output()), _dom_classes=('widget-in…"
      ]
     },
     "metadata": {},
     "output_type": "display_data"
    },
    {
     "name": "stdout",
     "output_type": "stream",
     "text": [
      "\n",
      "\n",
      "Método de seleção:\n"
     ]
    },
    {
     "data": {
      "application/vnd.jupyter.widget-view+json": {
       "model_id": "1c09bb1148ef4495951c39a641584262",
       "version_major": 2,
       "version_minor": 0
      },
      "text/plain": [
       "interactive(children=(Dropdown(description='selecao', options=('Roleta', 'Torneio'), value='Roleta'), Output()…"
      ]
     },
     "metadata": {},
     "output_type": "display_data"
    },
    {
     "name": "stdout",
     "output_type": "stream",
     "text": [
      "\n",
      "\n",
      "Tamanho do Torneio:\n",
      " *ignorar caso o 'Método de seleção' selecionado seja diferente de 'Torneio'*\n"
     ]
    },
    {
     "data": {
      "application/vnd.jupyter.widget-view+json": {
       "model_id": "9eac309a593b4d11a55e4edf62ad1ddf",
       "version_major": 2,
       "version_minor": 0
      },
      "text/plain": [
       "interactive(children=(IntSlider(value=10, description='tam_torneio', max=50, min=2), Output()), _dom_classes=(…"
      ]
     },
     "metadata": {},
     "output_type": "display_data"
    },
    {
     "name": "stdout",
     "output_type": "stream",
     "text": [
      "\n",
      "\n",
      "Tamanho do elitismo:\n"
     ]
    },
    {
     "data": {
      "application/vnd.jupyter.widget-view+json": {
       "model_id": "1b851047d0ca473abb7aea0f859be7f8",
       "version_major": 2,
       "version_minor": 0
      },
      "text/plain": [
       "interactive(children=(IntSlider(value=1, description='elitismo', max=2), Output()), _dom_classes=('widget-inte…"
      ]
     },
     "metadata": {},
     "output_type": "display_data"
    },
    {
     "name": "stdout",
     "output_type": "stream",
     "text": [
      "\n",
      "\n",
      "Quantidade de pontos nos cruzamentos:\n"
     ]
    },
    {
     "data": {
      "application/vnd.jupyter.widget-view+json": {
       "model_id": "b1f14ee02b9c4449907573ee794b8dbd",
       "version_major": 2,
       "version_minor": 0
      },
      "text/plain": [
       "interactive(children=(IntSlider(value=1, description='pontos', max=2, min=1), Output()), _dom_classes=('widget…"
      ]
     },
     "metadata": {},
     "output_type": "display_data"
    }
   ],
   "source": [
    "# entrada dos parametros\n",
    "\n",
    "print('\\n\\nTamanho do cromossomo:')\n",
    "def f(cromossomo=6):\n",
    "    return cromossomo\n",
    "cromossomo = interactive(f, cromossomo=(6, 12))\n",
    "display(cromossomo)\n",
    "\n",
    "print('\\n\\nTamanho da população:')\n",
    "def f(populacao=50):\n",
    "    return populacao\n",
    "populacao = interactive(f, populacao=(10, 100, 2))\n",
    "display(populacao)\n",
    "\n",
    "print('\\n\\nProbabilidade de cruzamento:')\n",
    "def f(cruzamento=95.0):\n",
    "    return cruzamento\n",
    "cruzamento = interactive(f, cruzamento=(5.0, 95.0, 0.5))\n",
    "display(cruzamento)\n",
    "\n",
    "print('\\n\\nProbabilidade de mutação:')\n",
    "def f(mutacao=0.1):\n",
    "    return mutacao\n",
    "mutacao = interactive(f, mutacao=(1.0, 10.0, 0.5))\n",
    "display(mutacao)\n",
    "\n",
    "print('\\n\\nQuantidade de gerações:')\n",
    "def f(geracoes=30):\n",
    "    return geracoes\n",
    "geracoes = interactive(f, geracoes=(10, 100))\n",
    "display(geracoes)\n",
    "\n",
    "print('\\n\\nMétodo de seleção:')\n",
    "def f(selecao):\n",
    "    return selecao\n",
    "selecao = interactive(f, selecao=['Roleta', 'Torneio'])\n",
    "display(selecao)\n",
    "\n",
    "print(\"\"\"\\n\\nTamanho do Torneio:\\n *ignorar caso o 'Método de seleção' selecionado seja diferente de 'Torneio'*\"\"\")\n",
    "def f(tam_torneio=10):\n",
    "    return tam_torneio\n",
    "tam_torneio = interactive(f, tam_torneio=(2, 50))\n",
    "display(tam_torneio)\n",
    "\n",
    "print('\\n\\nTamanho do elitismo:')\n",
    "def f(elitismo=1):\n",
    "    return elitismo\n",
    "elitismo = interactive(f, elitismo=(0, 2))\n",
    "display(elitismo)\n",
    "\n",
    "print('\\n\\nQuantidade de pontos nos cruzamentos:')\n",
    "def f(pontos):\n",
    "    return pontos\n",
    "pontos = interactive(f, pontos=(1, 2))\n",
    "display(pontos)\n"
   ]
  },
  {
   "cell_type": "code",
   "execution_count": 50,
   "metadata": {},
   "outputs": [],
   "source": [
    "\n",
    "v = dict()\n",
    "popu = list()\n",
    "apt = list()\n",
    "pares = list()\n",
    "\n",
    "x1_sup = 12.1\n",
    "x1_inf = -3.1\n",
    "x2_sup = 5.8\n",
    "x2_inf = 4.1\n",
    "\n",
    "def calc_apt():\n",
    "    apt.clear()\n",
    "    for c in popu:\n",
    "        r = int(''.join([str(i) for i in c]), 2) # valor decimal do cromossomo\n",
    "        x1 = x1_inf + (x1_sup - x1_inf)/(2**v['cromossomo'] - 1) * r\n",
    "        x2 = x2_inf + (x2_sup - x2_inf)/(2**v['cromossomo'] - 1) * r\n",
    "        a = 21.5 + x1 * sin(4*pi*x1) + x2 * sin(20*pi*x2)\n",
    "        apt.append(a)\n",
    "    return\n",
    "\n",
    "def atualiza_parametros():\n",
    "    v['cromossomo'] = cromossomo.result\n",
    "    v['populacao'] = populacao.result\n",
    "    v['cruzamento'] = cruzamento.result/100.0\n",
    "    v['mutacao'] = mutacao.result/100.0\n",
    "    v['geracoes'] = geracoes.result\n",
    "    v['selecao'] = selecao.result.lower()\n",
    "    v['tam_torneio'] = tam_torneio.result\n",
    "    v['elitismo'] = elitismo.result\n",
    "    v['pontos'] = pontos.result\n",
    "    return\n",
    "\n",
    "def roleta():\n",
    "    # criacao do array com as probabilidades acumuladas do sorteio da roleta\n",
    "    soma = sum(apt)\n",
    "    probs = np.array(apt)\n",
    "    for i in range (len(apt)):\n",
    "        if i > 0:\n",
    "            probs[i] = probs[i] + probs[i-1]\n",
    "    probs = probs / soma\n",
    "    \n",
    "    # selecao dos pares de pais\n",
    "    pares.clear()\n",
    "    for i in range(int(len(popu)/2)):\n",
    "        prob1 = random.random()\n",
    "        pos_pai1 = len(probs[prob1 >= probs])\n",
    "        pos_pai1 = 49 if pos_pai1 == 50 else pos_pai1 # caso valor aleatorio seja exatamente 1\n",
    "        while True:\n",
    "            prob2 = random.random()\n",
    "            pos_pai2 = len(probs[prob2 >= probs])\n",
    "            pos_pai2 = 49 if pos_pai2 == 50 else pos_pai2 # caso valor aleatorio seja exatamente 1\n",
    "            if pos_pai1 != pos_pai2: break\n",
    "        pares.append([popu[pos_pai1], popu[pos_pai2]])\n",
    "    return\n",
    "    \n",
    "\n",
    "def processar():\n",
    "    atualiza_parametros()\n",
    "    \n",
    "    # cria lista da populacao com valores aleatorios de cromossomos\n",
    "    popu.clear()\n",
    "    for i in range(v['populacao']):\n",
    "        popu.append([random.randint(0, 1) for j in range(v['cromossomo'])])\n",
    "        \n",
    "    # display(popu)\n",
    "    \n",
    "    # processamento das geracoes\n",
    "    '''\n",
    "    for i in range(v['geracoes']):\n",
    "        return\n",
    "\n",
    "    '''\n",
    "        \n",
    "    calc_apt()\n",
    "    roleta()\n",
    "    display(pares)\n",
    "    return\n"
   ]
  },
  {
   "cell_type": "code",
   "execution_count": 51,
   "metadata": {},
   "outputs": [
    {
     "data": {
      "application/vnd.jupyter.widget-view+json": {
       "model_id": "dc570ec3bd354b3193e694a385d95277",
       "version_major": 2,
       "version_minor": 0
      },
      "text/plain": [
       "interactive(children=(Button(description='Processar algoritmo', style=ButtonStyle()), Output()), _dom_classes=…"
      ]
     },
     "metadata": {},
     "output_type": "display_data"
    }
   ],
   "source": [
    "# teste geracao do grafico\n",
    "'''\n",
    "%matplotlib inline\n",
    "from ipywidgets import interactive\n",
    "import matplotlib.pyplot as plt\n",
    "import numpy as np\n",
    "\n",
    "def f():\n",
    "    plt.figure(2)\n",
    "    x = np.linspace(-10, 10, num=1000)\n",
    "    plt.plot(x, m.result * x + b.result)\n",
    "    plt.ylim(-5, 5)\n",
    "    plt.show()\n",
    "'''\n",
    "    \n",
    "widgets.interact_manual.opts['manual_name'] = 'Processar algoritmo' # muda texto do botao\n",
    "interact_manual(processar);"
   ]
  }
 ],
 "metadata": {
  "kernelspec": {
   "display_name": "Python 3",
   "language": "python",
   "name": "python3"
  },
  "language_info": {
   "codemirror_mode": {
    "name": "ipython",
    "version": 3
   },
   "file_extension": ".py",
   "mimetype": "text/x-python",
   "name": "python",
   "nbconvert_exporter": "python",
   "pygments_lexer": "ipython3",
   "version": "3.7.1"
  }
 },
 "nbformat": 4,
 "nbformat_minor": 2
}
