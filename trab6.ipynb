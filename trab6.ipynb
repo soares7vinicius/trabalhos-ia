{
 "cells": [
  {
   "cell_type": "code",
   "execution_count": 27,
   "metadata": {},
   "outputs": [
    {
     "name": "stdout",
     "output_type": "stream",
     "text": [
      "\n",
      "\n",
      "Taxa de aprendizagem:\n"
     ]
    },
    {
     "data": {
      "application/vnd.jupyter.widget-view+json": {
       "model_id": "191d5506eaeb4e389bb02cef891e2422",
       "version_major": 2,
       "version_minor": 0
      },
      "text/plain": [
       "interactive(children=(IntSlider(value=10, description='taxa_aprendizagem', min=1), Output()), _dom_classes=('w…"
      ]
     },
     "metadata": {},
     "output_type": "display_data"
    },
    {
     "data": {
      "application/vnd.jupyter.widget-view+json": {
       "model_id": "a2a0d2157e5344209c9a89daabdd953b",
       "version_major": 2,
       "version_minor": 0
      },
      "text/plain": [
       "interactive(children=(Button(description='Processar algoritmo', style=ButtonStyle()), Output()), _dom_classes=…"
      ]
     },
     "metadata": {},
     "output_type": "display_data"
    }
   ],
   "source": [
    "%matplotlib inline\n",
    "import matplotlib.pyplot as plt\n",
    "\n",
    "import numpy as np\n",
    "import pandas as pd\n",
    "\n",
    "import random\n",
    "from collections import defaultdict\n",
    "\n",
    "from ipywidgets import *\n",
    "import ipywidgets as widgets\n",
    "\n",
    "from IPython.display import display, HTML\n",
    "\n",
    "\n",
    "########## entradas dos parametros ##########\n",
    "print('\\n\\nTaxa de aprendizagem:')\n",
    "def f(taxa_aprendizagem=10):\n",
    "    return taxa_aprendizagem\n",
    "taxa_aprendizagem = interactive(f, taxa_aprendizagem=(1, 100, 1))\n",
    "display(taxa_aprendizagem)\n",
    "\n",
    "class RedePerceptron():\n",
    "    \n",
    "    def __init__(self, numero_entradas, conjunto_entradas, target, taxa_aprendizagem, **kwargs):\n",
    "        self.numero_entradas = numero_entradas\n",
    "        self.conjunto_entradas = np.array(conjunto_entradas)\n",
    "        self.target = np.array(target)\n",
    "        self.taxa_aprendizagem = taxa_aprendizagem\n",
    "        self.ciclos = 0\n",
    "        self.pesos = self.inicializa_pesos()\n",
    "        self.bias = random.uniform(-0.5,0.5)\n",
    "        \n",
    "    def inicializa_pesos(self):\n",
    "        pesos = []\n",
    "        for i in range(self.numero_entradas):\n",
    "            pesos.append(random.uniform(-0.5,0.5))\n",
    "        return np.array(pesos)\n",
    "    \n",
    "    def treinamento(self):\n",
    "        string = \"<h4><strong>Treinamento:</strong></h4>\"\n",
    "        display(HTML(string))\n",
    "        \n",
    "        self.ciclos = 0\n",
    "        erro  = True\n",
    "        \n",
    "        while erro:\n",
    "            tabela = [['x1','x2','t','v1', 'v2', 'v0', 'yin', 'y','Estado', 'v1(novo)', 'v2(novo)', 'v0(novo)']]\n",
    "            erro = False\n",
    "            for i in range(len(self.conjunto_entradas)):\n",
    "                erro_tabela = False\n",
    "                yin = 0\n",
    "                for j in range(self.numero_entradas):\n",
    "                    yin += self.pesos[j] * self.conjunto_entradas[i][j]\n",
    "                yin += self.bias\n",
    "                if yin >= 0.5:\n",
    "                    y = 1\n",
    "                else:\n",
    "                    y = 0\n",
    "                \n",
    "                peso_antigo1 = self.pesos[0]\n",
    "                peso_antigo2 = self.pesos[1]\n",
    "                bias_antigo = self.bias\n",
    "                if y != self.target[i]:\n",
    "                    #atualizar os pesos e o bias\n",
    "                    erro = True\n",
    "                    erro_tabela = True\n",
    "                    for j in range(self.numero_entradas):\n",
    "                        self.pesos[j] = self.pesos[j]  + self.taxa_aprendizagem*(self.target[i] - y) * self.conjunto_entradas[i][j]\n",
    "                    self.bias = self.bias + self.taxa_aprendizagem*(self.target[i]-y)\n",
    "                        \n",
    "                info = [self.conjunto_entradas[i][0], self.conjunto_entradas[i][1], self.target[i], round(peso_antigo1, 2), round(peso_antigo2, 2),\n",
    "                        round(bias_antigo, 2), round(yin, 2), y, \n",
    "                 \"Errou\" if erro_tabela else \"Acertou\", round(self.pesos[0], 2), round(self.pesos[1], 2), round(self.bias, 2)]\n",
    "                tabela.append(info)\n",
    "    \n",
    "            self.ciclos += 1\n",
    "            string = \"<h4><strong>Ciclo:</strong> {:}</h4>\".format(self.ciclos)\n",
    "            display(HTML(string)) \n",
    "            tabela = np.array(tabela)\n",
    "            dataframe = pd.DataFrame(data=tabela[1:,0:],\n",
    "                  columns=tabela[0,0:])\n",
    "            display(dataframe)\n",
    "                    \n",
    "########## processamento ##########\n",
    "def processar():\n",
    "    conjunto_entradas = [[0.75, 0.75], [0.75,0.25], [0.25,0.75], [0.25,0.25]]\n",
    "    target = [1, 1, 0, 0]\n",
    "    rp = RedePerceptron(2, conjunto_entradas, target, taxa_aprendizagem.result/100.0)\n",
    "    rp.treinamento()\n",
    "    x = np.arange(0, 1, 0.01)\n",
    "    y = (0.5-(rp.pesos[0]*x+rp.bias))/rp.pesos[1]\n",
    "    plt.plot(x, y)\n",
    "    plt.plot([0.75, 0.75, 0.25, 0.25], [0.75, 0.25, 0.75, 0.25], 'ro')\n",
    "    plt.show()\n",
    "    \n",
    "    #print('Pesos finais: ', rp.pesos)\n",
    "    #print('Pesos bias: ', rp.bias)\n",
    "    \n",
    "widgets.interact_manual.opts['manual_name'] = 'Processar algoritmo' # muda texto do botao\n",
    "interact_manual(processar); # metodo a executar quando pressionar o botao"
   ]
  },
  {
   "cell_type": "code",
   "execution_count": null,
   "metadata": {},
   "outputs": [],
   "source": []
  }
 ],
 "metadata": {
  "kernelspec": {
   "display_name": "Python 3",
   "language": "python",
   "name": "python3"
  },
  "language_info": {
   "codemirror_mode": {
    "name": "ipython",
    "version": 3
   },
   "file_extension": ".py",
   "mimetype": "text/x-python",
   "name": "python",
   "nbconvert_exporter": "python",
   "pygments_lexer": "ipython3",
   "version": "3.6.5"
  }
 },
 "nbformat": 4,
 "nbformat_minor": 2
}
