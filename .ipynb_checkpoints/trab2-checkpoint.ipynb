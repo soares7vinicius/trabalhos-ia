{
 "cells": [
  {
   "cell_type": "markdown",
   "metadata": {},
   "source": [
    "## Algoritmo genético que maximiza a função\n",
    "### $f(x_{1}, x_{2}) =  21.5 + x_{1}sen(4 \\pi x_{1}) + x_{2}sen(20 \\pi x_{2})$\n",
    "\n",
    "* variável x1 definida no intervalo real [ –3.1; 12.1 ]\n",
    "* variável x2 definida no intervalo real [ 4.1; 5.8 ]\n",
    "\n",
    "\n",
    "<!--\n",
    "#teste forca bruta\n",
    "max_x = max_y = maximo = 0     \n",
    "\n",
    "for x in np.arange(-3.1, 12.1, 0.001):\n",
    "    for y in np.arange(4.1, 5.8, 0.001):\n",
    "        v = 21.5 + x * sin(4*pi*x) + y * sin(20*pi*y)\n",
    "        if v > maximo:\n",
    "            maximo = v\n",
    "            max_x = x\n",
    "            max_y = y\n",
    "            \n",
    "display(maximo)\n",
    "display(max_x)\n",
    "display(max_y)\n",
    "\n",
    "'''\n",
    "max: 38.85008205991546\n",
    "x: 11.62599999999838\n",
    "y: 5.725000000000542\n",
    "'''\n",
    "-->"
   ]
  },
  {
   "cell_type": "code",
   "execution_count": 56,
   "metadata": {},
   "outputs": [],
   "source": [
    "%matplotlib inline\n",
    "import matplotlib.pyplot as plt\n",
    "import numpy as np\n",
    "\n",
    "import random\n",
    "from math import sin, pi\n",
    "\n",
    "from ipywidgets import *\n",
    "import ipywidgets as widgets\n",
    "from IPython.display import display\n",
    "\n",
    "class Individuo():   \n",
    "    \n",
    "    def __init__(self, qtd_cromossomos, geracao=0, **kwargs):\n",
    "        self.qtd_cromossomos = qtd_cromossomos\n",
    "        self.cromossomo = np.array([random.randint(0, 1) for i in range(qtd_cromossomos)])\n",
    "        self.geracao = geracao\n",
    "        self.aptidao = 0\n",
    "        self.x1_sup = 12.1\n",
    "        self.x1_inf = -3.1\n",
    "        self.x2_sup = 5.8\n",
    "        self.x2_inf = 4.1\n",
    "                        \n",
    "    def __repr__(self): # formata representacao do objeto quanto utiliza print/display\n",
    "        return str(self.cromossomo)\n",
    "    \n",
    "    def avaliacao(self):\n",
    "        r = int(''.join([str(i) for i in self.cromossomo]), 2) # valor decimal do cromossomo\n",
    "        x1 = self.x1_inf + (self.x1_sup - self.x1_inf)/(2**self.qtd_cromossomos - 1) * r\n",
    "        x2 = self.x2_inf + (self.x2_sup - self.x2_inf)/(2**self.qtd_cromossomos - 1) * r\n",
    "        self.aptidao = 21.5 + x1 * sin(4*pi*x1) + x2 * sin(20*pi*x2)\n",
    "        \n",
    "    def crossover(self, outro_individuo, qtd_ponto_corte):\n",
    "        if (qtd_ponto_corte == 1):\n",
    "            ponto_corte = round(random() * len(self.chromosome))\n",
    "            \n",
    "            filho1 = outro_individuo.cromossomo[0:ponto_corte] + self.cromossomo[ponto_corte::]\n",
    "            filho2 = self.cromossomo[0:ponto_corte] + outro_individuo.cromossomo[ponto_corte::]\n",
    "            \n",
    "        elif (qtd_ponto_corte == 2):\n",
    "            ponto_corte1 = round(random() * len(self.chromosome))\n",
    "            ponto_corte2 = round(random() * len(self.chromosome))\n",
    "            while (ponto_corte2 == ponto_corte1):\n",
    "                ponto_corte2 = round(random() * len(self.chromosome))\n",
    "                        \n",
    "            filho1 = outro_individuo.cromossomo[0:ponto_corte1] + self.cromossomo[ponto_corte1:ponto_corte2] + outro_individuo.cromossomo[ponto_corte2::]\n",
    "            filho2 = self.cromossomo[0:ponto_corte1] + outro_individuo.cromossomo[ponto_corte1:ponto_corte2] + self.cromossomo[ponto_corte2::]\n",
    "                  \n",
    "        # Cria novos individuos\n",
    "        filhos = np.array([Individuo(qtd_cromossomos=self.qtd_cromossomos),Individuo(qtd_cromossomos=self.qtd_cromossomos)])\n",
    "        filhos[0].cromossomo = filho1\n",
    "        filhos[1].cromossomo = filho2       \n",
    "        \n",
    "        return filhos\n",
    "    \n",
    "    def mutacao(self, taxa_mutacao):        \n",
    "        for i in range(len(self.cromossomo)):\n",
    "            if random() < taxa_mutacao:     \n",
    "                self.cromossomo[i] = 0 if self.cromossomo[i] == 1 else 1           \n",
    "        return self    \n",
    "    \n",
    "\n",
    "class AlgoritmoGenetico():\n",
    "    \n",
    "    def __init__(self, tam_populacao, qtd_cromossomos, taxa_cruzamento, taxa_mutacao,\n",
    "                qtd_geracoes, selecao, elitismo, pontos, tam_torneio=0, **kwargs):\n",
    "        self.tam_populacao = tam_populacao\n",
    "        self.populacao = np.array([])\n",
    "        self.qtd_cromossomos = qtd_cromossomos\n",
    "        self.taxa_cruzamento = taxa_cruzamento\n",
    "        self.taxa_mutacao = taxa_mutacao\n",
    "        self.qtd_geracoes = qtd_geracoes\n",
    "        self.geracao = 0\n",
    "        self.selecao = selecao\n",
    "        self.tam_torneio = tam_torneio\n",
    "        self.elitismo = elitismo\n",
    "        self.pontos = pontos\n",
    "        self.melhor_solucao = 0\n",
    "    \n",
    "    def inicializa_populacao(self):   \n",
    "        lista = []\n",
    "        for i in range(self.tam_populacao):\n",
    "            lista.append(Individuo(qtd_cromossomos=self.qtd_cromossomos))\n",
    "        self.populacao = np.array(lista)\n",
    "        self.melhor_solucao = self.populacao[0]    \n",
    "        \n",
    "    def ordena_populacao(self):\n",
    "        self.populacao = sorted(self.populacao,\n",
    "                               key =  lambda individuo: individuo.aptidao,\n",
    "                               reverse = True)\n",
    "    \n",
    "    def melhor_individuo(self, individuo):\n",
    "        if individuo.aptidao > self.melhor_solucao.aptidao:\n",
    "            self.melhor_solucao = individuo\n",
    "    \n",
    "    def soma_aptidoes(self):\n",
    "        soma = 0\n",
    "        for i in self.populacao:\n",
    "            soma += i.aptidao\n",
    "        return soma\n",
    "            \n",
    "    def seleciona_pais(self, soma_aptidoes=0):\n",
    "        '''\n",
    "        retorna um array com o par de pais com base no tipo de selecao\n",
    "        '''\n",
    "        if self.selecao == 'roleta':\n",
    "            r_pais = [random.random() * soma_aptidoes]\n",
    "            while True:\n",
    "                r = random.random() * soma_aptidoes\n",
    "                if r not in r_pais:\n",
    "                    r_pais.append(r)\n",
    "                    break\n",
    "            \n",
    "            pais = []\n",
    "            for r in r_pais:\n",
    "                soma = 0\n",
    "                for i in self.populacao:\n",
    "                    if soma >= r:\n",
    "                        pais.append(i)\n",
    "                        break\n",
    "                    else:\n",
    "                        soma += i.aptidao\n",
    "            return np.array(pais)\n",
    "        elif self.selecao == 'torneio':\n",
    "            indices_torneio = random.sample(range(0, self.tam_populacao), self.tam_torneio)\n",
    "            torneio = np.take(self.populacao, indices_torneio)\n",
    "            torneio = sorted(torneio, key=lambda i: i.aptidao, reverse=True)\n",
    "            return np.array([torneio[0], torneio[1]])\n",
    "            \n",
    "\n"
   ]
  },
  {
   "cell_type": "code",
   "execution_count": 28,
   "metadata": {
    "slideshow": {
     "slide_type": "-"
    }
   },
   "outputs": [
    {
     "name": "stdout",
     "output_type": "stream",
     "text": [
      "\n",
      "\n",
      "Tamanho do cromossomo:\n"
     ]
    },
    {
     "data": {
      "application/vnd.jupyter.widget-view+json": {
       "model_id": "cdf07243203d4c70b7b07e531ed4aab0",
       "version_major": 2,
       "version_minor": 0
      },
      "text/plain": [
       "interactive(children=(IntSlider(value=6, description='cromossomo', max=12, min=6), Output()), _dom_classes=('w…"
      ]
     },
     "metadata": {},
     "output_type": "display_data"
    },
    {
     "name": "stdout",
     "output_type": "stream",
     "text": [
      "\n",
      "\n",
      "Tamanho da população:\n"
     ]
    },
    {
     "data": {
      "application/vnd.jupyter.widget-view+json": {
       "model_id": "cad3fda0749d4976817fcc62b9064f40",
       "version_major": 2,
       "version_minor": 0
      },
      "text/plain": [
       "interactive(children=(IntSlider(value=50, description='populacao', min=10, step=2), Output()), _dom_classes=('…"
      ]
     },
     "metadata": {},
     "output_type": "display_data"
    },
    {
     "name": "stdout",
     "output_type": "stream",
     "text": [
      "\n",
      "\n",
      "Probabilidade de cruzamento:\n"
     ]
    },
    {
     "data": {
      "application/vnd.jupyter.widget-view+json": {
       "model_id": "ed2c39cbb979459f805173c2563889be",
       "version_major": 2,
       "version_minor": 0
      },
      "text/plain": [
       "interactive(children=(FloatSlider(value=95.0, description='cruzamento', max=95.0, min=5.0, step=0.5), Output()…"
      ]
     },
     "metadata": {},
     "output_type": "display_data"
    },
    {
     "name": "stdout",
     "output_type": "stream",
     "text": [
      "\n",
      "\n",
      "Probabilidade de mutação:\n"
     ]
    },
    {
     "data": {
      "application/vnd.jupyter.widget-view+json": {
       "model_id": "9da0113b8ad648f789c09c386c18036c",
       "version_major": 2,
       "version_minor": 0
      },
      "text/plain": [
       "interactive(children=(FloatSlider(value=1.0, description='mutacao', max=10.0, min=1.0, step=0.5), Output()), _…"
      ]
     },
     "metadata": {},
     "output_type": "display_data"
    },
    {
     "name": "stdout",
     "output_type": "stream",
     "text": [
      "\n",
      "\n",
      "Quantidade de gerações:\n"
     ]
    },
    {
     "data": {
      "application/vnd.jupyter.widget-view+json": {
       "model_id": "d25b82fed79b464f9650059165dc0212",
       "version_major": 2,
       "version_minor": 0
      },
      "text/plain": [
       "interactive(children=(IntSlider(value=30, description='geracoes', min=10), Output()), _dom_classes=('widget-in…"
      ]
     },
     "metadata": {},
     "output_type": "display_data"
    },
    {
     "name": "stdout",
     "output_type": "stream",
     "text": [
      "\n",
      "\n",
      "Método de seleção:\n"
     ]
    },
    {
     "data": {
      "application/vnd.jupyter.widget-view+json": {
       "model_id": "8037fe52b71f418bb3e7e91843585e1d",
       "version_major": 2,
       "version_minor": 0
      },
      "text/plain": [
       "interactive(children=(Dropdown(description='selecao', options=('Roleta', 'Torneio'), value='Roleta'), Output()…"
      ]
     },
     "metadata": {},
     "output_type": "display_data"
    },
    {
     "name": "stdout",
     "output_type": "stream",
     "text": [
      "\n",
      "\n",
      "Tamanho do Torneio:\n",
      " *ignorar caso o 'Método de seleção' selecionado seja diferente de 'Torneio'*\n"
     ]
    },
    {
     "data": {
      "application/vnd.jupyter.widget-view+json": {
       "model_id": "32628d2e4e40499c85586d276a1cab72",
       "version_major": 2,
       "version_minor": 0
      },
      "text/plain": [
       "interactive(children=(IntSlider(value=10, description='tam_torneio', max=50, min=2, step=2), Output()), _dom_c…"
      ]
     },
     "metadata": {},
     "output_type": "display_data"
    },
    {
     "name": "stdout",
     "output_type": "stream",
     "text": [
      "\n",
      "\n",
      "Tamanho do elitismo:\n"
     ]
    },
    {
     "data": {
      "application/vnd.jupyter.widget-view+json": {
       "model_id": "b55d28aff2f64a028ad9dbbc0b5e4e87",
       "version_major": 2,
       "version_minor": 0
      },
      "text/plain": [
       "interactive(children=(IntSlider(value=1, description='elitismo', max=2), Output()), _dom_classes=('widget-inte…"
      ]
     },
     "metadata": {},
     "output_type": "display_data"
    },
    {
     "name": "stdout",
     "output_type": "stream",
     "text": [
      "\n",
      "\n",
      "Quantidade de pontos nos cruzamentos:\n"
     ]
    },
    {
     "data": {
      "application/vnd.jupyter.widget-view+json": {
       "model_id": "a7cc799919834d39a9accaabfbfa5783",
       "version_major": 2,
       "version_minor": 0
      },
      "text/plain": [
       "interactive(children=(IntSlider(value=1, description='pontos', max=2, min=1), Output()), _dom_classes=('widget…"
      ]
     },
     "metadata": {},
     "output_type": "display_data"
    }
   ],
   "source": [
    "# entrada dos parametros\n",
    "\n",
    "print('\\n\\nTamanho do cromossomo:')\n",
    "def f(cromossomo=6):\n",
    "    return cromossomo\n",
    "cromossomo = interactive(f, cromossomo=(6, 12))\n",
    "display(cromossomo)\n",
    "\n",
    "print('\\n\\nTamanho da população:')\n",
    "def f(populacao=50):\n",
    "    return populacao\n",
    "populacao = interactive(f, populacao=(10, 100, 2))\n",
    "display(populacao)\n",
    "\n",
    "print('\\n\\nProbabilidade de cruzamento:')\n",
    "def f(cruzamento=95.0):\n",
    "    return cruzamento\n",
    "cruzamento = interactive(f, cruzamento=(5.0, 95.0, 0.5))\n",
    "display(cruzamento)\n",
    "\n",
    "print('\\n\\nProbabilidade de mutação:')\n",
    "def f(mutacao=0.1):\n",
    "    return mutacao\n",
    "mutacao = interactive(f, mutacao=(1.0, 10.0, 0.5))\n",
    "display(mutacao)\n",
    "\n",
    "print('\\n\\nQuantidade de gerações:')\n",
    "def f(geracoes=30):\n",
    "    return geracoes\n",
    "geracoes = interactive(f, geracoes=(10, 100))\n",
    "display(geracoes)\n",
    "\n",
    "print('\\n\\nMétodo de seleção:')\n",
    "def f(selecao):\n",
    "    return selecao\n",
    "selecao = interactive(f, selecao=['Roleta', 'Torneio'])\n",
    "display(selecao)\n",
    "\n",
    "print(\"\"\"\\n\\nTamanho do Torneio:\\n *ignorar caso o 'Método de seleção' selecionado seja diferente de 'Torneio'*\"\"\")\n",
    "def f(tam_torneio=10):\n",
    "    return tam_torneio\n",
    "tam_torneio = interactive(f, tam_torneio=(2, 50, 2))\n",
    "display(tam_torneio)\n",
    "\n",
    "print('\\n\\nTamanho do elitismo:')\n",
    "def f(elitismo=1):\n",
    "    return elitismo\n",
    "elitismo = interactive(f, elitismo=(0, 2))\n",
    "display(elitismo)\n",
    "\n",
    "print('\\n\\nQuantidade de pontos nos cruzamentos:')\n",
    "def f(pontos):\n",
    "    return pontos\n",
    "pontos = interactive(f, pontos=(1, 2))\n",
    "display(pontos)\n"
   ]
  },
  {
   "cell_type": "code",
   "execution_count": 54,
   "metadata": {},
   "outputs": [
    {
     "data": {
      "application/vnd.jupyter.widget-view+json": {
       "model_id": "47fe313c065749af8cc535ec248b245d",
       "version_major": 2,
       "version_minor": 0
      },
      "text/plain": [
       "interactive(children=(Button(description='Processar algoritmo', style=ButtonStyle()), Output()), _dom_classes=…"
      ]
     },
     "metadata": {},
     "output_type": "display_data"
    }
   ],
   "source": [
    "def processar():\n",
    "    alg = AlgoritmoGenetico(\n",
    "        tam_populacao = populacao.result, \n",
    "        qtd_cromossomos = cromossomo.result,\n",
    "        taxa_cruzamento = cruzamento.result/100.0,\n",
    "        taxa_mutacao = mutacao.result/100.0,\n",
    "        qtd_geracoes = geracoes.result,\n",
    "        selecao = selecao.result.lower(),\n",
    "        elitismo = elitismo.result,\n",
    "        pontos = pontos.result,\n",
    "        tam_torneio = tam_torneio.result)\n",
    "    \n",
    "    ## testes ##\n",
    "    alg.inicializa_populacao()\n",
    "    \n",
    "    for i in alg.populacao:\n",
    "        i.avaliacao()\n",
    "\n",
    "    alg.ordena_populacao()\n",
    "    '''\n",
    "    for i in alg.populacao:\n",
    "        display(i.aptidao)\n",
    "    '''\n",
    "        \n",
    "    pais = alg.seleciona_pais(alg.soma_aptidoes())\n",
    "    display(pais)\n",
    "    display(pais[0].aptidao)\n",
    "    display(pais[1].aptidao)\n",
    "\n",
    "    #############\n",
    "    \n",
    "widgets.interact_manual.opts['manual_name'] = 'Processar algoritmo' # muda texto do botao\n",
    "interact_manual(processar); # metodo a executar quando pressionar o botao\n"
   ]
  }
 ],
 "metadata": {
  "kernelspec": {
   "display_name": "Python 3",
   "language": "python",
   "name": "python3"
  },
  "language_info": {
   "codemirror_mode": {
    "name": "ipython",
    "version": 3
   },
   "file_extension": ".py",
   "mimetype": "text/x-python",
   "name": "python",
   "nbconvert_exporter": "python",
   "pygments_lexer": "ipython3",
   "version": "3.7.1"
  }
 },
 "nbformat": 4,
 "nbformat_minor": 2
}
